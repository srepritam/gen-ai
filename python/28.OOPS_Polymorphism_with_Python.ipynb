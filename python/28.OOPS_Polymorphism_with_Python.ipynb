{
 "cells": [
  {
   "cell_type": "markdown",
   "id": "73623993",
   "metadata": {},
   "source": [
    "# What is Polymorphism?\n",
    "\n",
    "Polymorphism means “many forms”. \n",
    "\n",
    "In Python (and OOP in general), it refers to the ability of different classes to respond to the same method call in different ways."
   ]
  },
  {
   "cell_type": "markdown",
   "id": "a14c9722",
   "metadata": {},
   "source": [
    "# Real-World Analogy:\n",
    "\n",
    "When we call start():\n",
    "\n",
    "1. A Car starts its engine\n",
    "\n",
    "2. A Laptop powers on\n",
    "\n",
    "3. A Microwave begins heating\n",
    "\n",
    "All respond to start() — but behave differently.\n",
    "\n",
    "### This is polymorphism."
   ]
  },
  {
   "cell_type": "markdown",
   "id": "769996c5",
   "metadata": {},
   "source": [
    "# Types of Polymorphism in Python"
   ]
  },
  {
   "cell_type": "markdown",
   "id": "557845eb",
   "metadata": {},
   "source": [
    "| Type                         | Description                                                             |\n",
    "| ---------------------------- | ----------------------------------------------------------------------- |\n",
    "| **1. Duck Typing**           | Type checking is done at runtime based on behavior, not inheritance     |\n",
    "| **2. Method Overriding**     | Same method in parent and child class, but child provides its own logic |\n",
    "| **3. Function Polymorphism** | Built-in functions behave differently based on the input type           |\n",
    "| **4. Operator Overloading**  | Same operator (`+`, `*`, etc.) used with different types                |\n"
   ]
  },
  {
   "cell_type": "markdown",
   "id": "82416ea6",
   "metadata": {},
   "source": [
    "# 1. Duck Typing (Dynamic Polymorphism)\n",
    "\n",
    "\"If it walks like a duck and quacks like a duck, it's a duck.\"\n",
    "\n",
    "Python is dynamically typed — it doesn't care about the object’s class, just whether it has the right methods."
   ]
  },
  {
   "cell_type": "code",
   "execution_count": 1,
   "id": "881aacf0",
   "metadata": {},
   "outputs": [],
   "source": [
    "class PyCharm:\n",
    "    def execute(self):\n",
    "        print(\"Compiling and running code in PyCharm.\")\n",
    "\n",
    "class VSCode:\n",
    "    def execute(self):\n",
    "        print(\"Running code with debugger in VS Code.\")\n",
    "\n",
    "# Polymorphic function\n",
    "def run_code(ide):\n",
    "    ide.execute()\n",
    "\n",
    "\n"
   ]
  },
  {
   "cell_type": "markdown",
   "id": "ae143bee",
   "metadata": {},
   "source": []
  },
  {
   "cell_type": "code",
   "execution_count": 2,
   "id": "89d59567",
   "metadata": {},
   "outputs": [
    {
     "name": "stdout",
     "output_type": "stream",
     "text": [
      "Compiling and running code in PyCharm.\n",
      "Running code with debugger in VS Code.\n"
     ]
    }
   ],
   "source": [
    "# Object create\n",
    "ide1 = PyCharm()\n",
    "ide2 = VSCode()\n",
    "\n",
    "run_code(ide1)  # PyCharm behavior\n",
    "run_code(ide2)  # VS Code behavior"
   ]
  },
  {
   "cell_type": "markdown",
   "id": "1652b112",
   "metadata": {},
   "source": [
    "### No inheritance is used, but run_code() works on both — this is duck typing."
   ]
  },
  {
   "cell_type": "markdown",
   "id": "c5136b08",
   "metadata": {},
   "source": [
    "### What's Happening Here?\n",
    "# Step 1: Two Different Classes\n",
    "\n",
    "We define two classes:\n",
    "\n",
    "1. PyCharm\n",
    "\n",
    "2. VSCode"
   ]
  },
  {
   "cell_type": "markdown",
   "id": "2b89cbd2",
   "metadata": {},
   "source": [
    "### Each class has a method called execute(), but each method behaves differently."
   ]
  },
  {
   "cell_type": "markdown",
   "id": "d1c03e5e",
   "metadata": {},
   "source": [
    "# Step 2: A Polymorphic Function\n",
    "\n",
    "### We create a function:"
   ]
  },
  {
   "cell_type": "code",
   "execution_count": 3,
   "id": "84429648",
   "metadata": {},
   "outputs": [],
   "source": [
    "def run_code(ide):\n",
    "    ide.execute()\n"
   ]
  },
  {
   "cell_type": "markdown",
   "id": "a59532e1",
   "metadata": {},
   "source": [
    "### This function takes any object as ide and calls execute() on it.\n",
    "\n",
    "# We can Notice:\n",
    "\n",
    "1. It doesn’t care what class the object is from.\n",
    "\n",
    "2. It only assumes the object has an execute() method."
   ]
  },
  {
   "cell_type": "markdown",
   "id": "ae6318cf",
   "metadata": {},
   "source": [
    "# Step 3: Calling the Function with Different Objects"
   ]
  },
  {
   "cell_type": "code",
   "execution_count": 4,
   "id": "ce40f6f7",
   "metadata": {},
   "outputs": [
    {
     "name": "stdout",
     "output_type": "stream",
     "text": [
      "Compiling and running code in PyCharm.\n",
      "Running code with debugger in VS Code.\n"
     ]
    }
   ],
   "source": [
    "ide1 = PyCharm()\n",
    "ide2 = VSCode()\n",
    "\n",
    "run_code(ide1)\n",
    "run_code(ide2)\n"
   ]
  },
  {
   "cell_type": "markdown",
   "id": "b86bbfac",
   "metadata": {},
   "source": [
    "# Now, we're passing different objects (ide1, ide2) to the same function run_code().\n",
    "\n",
    "### What happens?\n",
    "\n",
    "1. **When run_code(ide1) runs** ide1.execute() calls the execute() in PyCharm\n",
    "\n",
    "2. **When run_code(ide2) runs:** ide2.execute() calls the execute() in VSCode\n",
    "\n",
    "3. Each object responds differently to the same method call — **that’s polymorphism.**"
   ]
  },
  {
   "cell_type": "markdown",
   "id": "2df8a686",
   "metadata": {},
   "source": [
    "# Why is this called \"Duck Typing\"?\n",
    "\n",
    "“If it looks like a duck, swims like a duck, and quacks like a duck — it’s a duck.”\n",
    "\n",
    "### In Python:\n",
    "\n",
    "1. If an object has an execute() method, we don’t care what class it is from.\n",
    "( Python doesn’t require the object to be from a particular class or inherit from a specific base class.\n",
    "We can pass any object to a function, as long as that object has the method being called (execute() in this case).)\n",
    "\n",
    "2. We only care that it can respond to execute().\n",
    "\n",
    "This is Duck Typing – Python doesn’t check the type, it checks the behavior at runtime."
   ]
  },
  {
   "cell_type": "markdown",
   "id": "3dc0c121",
   "metadata": {},
   "source": [
    "# Why This Is Polymorphism"
   ]
  },
  {
   "cell_type": "markdown",
   "id": "a3e7dfc9",
   "metadata": {},
   "source": [
    "| Feature                   | Explanation                                                                |\n",
    "| ------------------------- | -------------------------------------------------------------------------- |\n",
    "| **Same interface**        | Both classes use the method name `execute()`                               |\n",
    "| **Different behavior**    | `PyCharm.execute()` and `VSCode.execute()` behave differently              |\n",
    "| **Unified function**      | `run_code()` calls `execute()` without caring about the actual object type |\n",
    "| **No inheritance needed** | Python allows this through dynamic typing                                  |\n"
   ]
  },
  {
   "cell_type": "markdown",
   "id": "165e4161",
   "metadata": {},
   "source": [
    "# 2. Method Overriding (Runtime Polymorphism)\n",
    "\n",
    "Subclass provides a specific implementation of a method already defined in its parent class."
   ]
  },
  {
   "cell_type": "code",
   "execution_count": 5,
   "id": "843172c6",
   "metadata": {},
   "outputs": [],
   "source": [
    "class Employee:\n",
    "    def role(self):\n",
    "        print(\"General Employee\")\n",
    "\n",
    "class Programmer(Employee):\n",
    "    def role(self):\n",
    "        print(\"Writes code and builds software\")\n",
    "\n",
    "class Manager(Employee):\n",
    "    def role(self):\n",
    "        print(\"Manages project and team\")\n",
    "\n",
    "\n"
   ]
  },
  {
   "cell_type": "code",
   "execution_count": 6,
   "id": "dd5772bd",
   "metadata": {},
   "outputs": [],
   "source": [
    "# Object creation\n",
    "e1 = Employee()\n",
    "e2 = Programmer()\n",
    "e3 = Manager()\n",
    "\n"
   ]
  },
  {
   "cell_type": "code",
   "execution_count": 7,
   "id": "75414d07",
   "metadata": {},
   "outputs": [
    {
     "name": "stdout",
     "output_type": "stream",
     "text": [
      "General Employee\n",
      "Writes code and builds software\n",
      "Manages project and team\n"
     ]
    }
   ],
   "source": [
    "# Call\n",
    "e1.role()\n",
    "e2.role()\n",
    "e3.role()"
   ]
  },
  {
   "cell_type": "markdown",
   "id": "22d84f94",
   "metadata": {},
   "source": [
    "# All objects respond to the same role() method, but differently based on their class."
   ]
  },
  {
   "cell_type": "markdown",
   "id": "d71bf271",
   "metadata": {},
   "source": [
    " # Breakdown\n",
    " We have a Parent class: Employee\n",
    "➤ It defines a method role()\n",
    "\n",
    "We have two Child Class : Programmer and Manager\n",
    "➤ Both inherit from Employee\n",
    "➤ Both redefine the role() method"
   ]
  },
  {
   "cell_type": "markdown",
   "id": "4c660b9a",
   "metadata": {},
   "source": [
    "# Why is this Method Overriding?\n",
    "\n",
    "Let’s focus on the method role():\n",
    "| Class        | Method Name | Behavior                                    |\n",
    "| ------------ | ----------- | ------------------------------------------- |\n",
    "| `Employee`   | `role()`    | Prints: `\"General Employee\"`                |\n",
    "| `Programmer` | `role()`    | Prints: `\"Writes code and builds software\"` |\n",
    "| `Manager`    | `role()`    | Prints: `\"Manages project and team\"`        |\n"
   ]
  },
  {
   "cell_type": "markdown",
   "id": "113d85f0",
   "metadata": {},
   "source": []
  },
  {
   "cell_type": "markdown",
   "id": "a09483c0",
   "metadata": {},
   "source": [
    "# All classes have a method with the same name: role()\n",
    "\n",
    "But:\n",
    "\n",
    "The base class Employee provides a generic definition.\n",
    "\n",
    "The child classes Programmer and Manager provide specific versions of that method.\n",
    "\n",
    "When we do:"
   ]
  },
  {
   "cell_type": "code",
   "execution_count": 8,
   "id": "8d54c052",
   "metadata": {},
   "outputs": [
    {
     "name": "stdout",
     "output_type": "stream",
     "text": [
      "Writes code and builds software\n"
     ]
    }
   ],
   "source": [
    "e2 = Programmer()\n",
    "e2.role()  # Calls the overridden method in Programmer\n"
   ]
  },
  {
   "cell_type": "markdown",
   "id": "4f19d521",
   "metadata": {},
   "source": [
    "### Python ignores the base class version and calls the child class’s version."
   ]
  },
  {
   "cell_type": "markdown",
   "id": "c9357128",
   "metadata": {},
   "source": [
    "# Why it's important\n",
    "\n",
    "This allows different subclasses to behave differently for the same interface (role()), which is a key feature of:\n",
    "\n",
    "Polymorphism\n",
    "\n",
    "Dynamic method dispatch"
   ]
  },
  {
   "cell_type": "markdown",
   "id": "a29fc521",
   "metadata": {},
   "source": [
    "# Summary:\n",
    "| Feature              | Your Code                                              |\n",
    "| -------------------- | ------------------------------------------------------ |\n",
    "| Parent method        | `Employee.role()`                                      |\n",
    "| Overridden in child  | `Programmer.role()`, `Manager.role()`                  |\n",
    "| Behavior change      | Yes — each prints a different message                  |\n",
    "| Inheritance involved | Yes — both subclasses inherit from `Employee`          |\n",
    "| Why it's overriding  | Same method name, different implementation in subclass |\n"
   ]
  },
  {
   "cell_type": "markdown",
   "id": "b918c1aa",
   "metadata": {},
   "source": [
    "# Another Example"
   ]
  },
  {
   "cell_type": "code",
   "execution_count": 9,
   "id": "c0f00607",
   "metadata": {},
   "outputs": [
    {
     "name": "stdout",
     "output_type": "stream",
     "text": [
      "Woof!\n",
      "Meow!\n",
      "Woof!\n"
     ]
    }
   ],
   "source": [
    "## Parent Class\n",
    "class Animal:\n",
    "    def speak(self):\n",
    "        return \"Sound of the animal\"\n",
    "    \n",
    "## Derived Class 1\n",
    "class Dog(Animal):\n",
    "    def speak(self):\n",
    "        return \"Woof!\"\n",
    "    \n",
    "## Derived class\n",
    "class Cat(Animal):\n",
    "    def speak(self):\n",
    "        return \"Meow!\"\n",
    "    \n",
    "## Function that demonstrates polymorphism\n",
    "def animal_speak(animal):\n",
    "    print(animal.speak())\n",
    "    \n",
    "dog=Dog()\n",
    "cat=Cat()\n",
    "print(dog.speak())\n",
    "print(cat.speak())\n",
    "animal_speak(dog)"
   ]
  },
  {
   "cell_type": "markdown",
   "id": "28839200",
   "metadata": {},
   "source": [
    "# Let's analyze each class:\n",
    "✅ Parent class:"
   ]
  },
  {
   "cell_type": "code",
   "execution_count": 10,
   "id": "b8775ed5",
   "metadata": {},
   "outputs": [],
   "source": [
    "class Animal:\n",
    "    def speak(self):\n",
    "        return \"Sound of the animal\"\n"
   ]
  },
  {
   "cell_type": "markdown",
   "id": "bbb93257",
   "metadata": {},
   "source": [
    "Method speak() returns a generic animal sound.\n",
    "\n",
    "This is the base version of the method."
   ]
  },
  {
   "cell_type": "markdown",
   "id": "84b84508",
   "metadata": {},
   "source": [
    "### ✅ Child class Dog overrides speak():"
   ]
  },
  {
   "cell_type": "code",
   "execution_count": 11,
   "id": "4bb10119",
   "metadata": {},
   "outputs": [],
   "source": [
    "class Dog(Animal):\n",
    "    def speak(self):\n",
    "        return \"Woof!\"\n"
   ]
  },
  {
   "cell_type": "markdown",
   "id": "00ca27c5",
   "metadata": {},
   "source": [
    "### Dog inherits from Animal\n",
    "\n",
    "It has its own speak() method — same name, but different behavior.\n",
    "\n",
    "This is method overriding."
   ]
  },
  {
   "cell_type": "markdown",
   "id": "5eea9db0",
   "metadata": {},
   "source": [
    "### ✅ Child class Cat overrides speak():"
   ]
  },
  {
   "cell_type": "code",
   "execution_count": 12,
   "id": "d1361094",
   "metadata": {},
   "outputs": [],
   "source": [
    "class Cat(Animal):\n",
    "    def speak(self):\n",
    "        return \"Meow!\"\n"
   ]
  },
  {
   "cell_type": "markdown",
   "id": "f779815b",
   "metadata": {},
   "source": [
    "### Same thing here — Cat overrides speak() with a different implementation."
   ]
  },
  {
   "cell_type": "markdown",
   "id": "c00ac861",
   "metadata": {},
   "source": [
    "### ✅ What Happens When we Call speak()?"
   ]
  },
  {
   "cell_type": "code",
   "execution_count": 13,
   "id": "9683d24f",
   "metadata": {},
   "outputs": [
    {
     "name": "stdout",
     "output_type": "stream",
     "text": [
      "Woof!\n",
      "Meow!\n"
     ]
    }
   ],
   "source": [
    "print(dog.speak())  # Woof!\n",
    "print(cat.speak())  # Meow!\n"
   ]
  },
  {
   "cell_type": "markdown",
   "id": "9742089e",
   "metadata": {},
   "source": [
    "# Python looks at the object’s actual class:\n",
    "\n",
    "dog is a Dog, so it calls the Dog version of speak().\n",
    "\n",
    "cat is a Cat, so it calls the Cat version of speak().\n",
    "\n",
    "Even though both inherit from Animal, Python ignores the base class version if the method is overridden in the child class."
   ]
  },
  {
   "cell_type": "markdown",
   "id": "69738708",
   "metadata": {},
   "source": [
    "# What is happening here "
   ]
  },
  {
   "cell_type": "code",
   "execution_count": 14,
   "id": "311ff775",
   "metadata": {},
   "outputs": [
    {
     "name": "stdout",
     "output_type": "stream",
     "text": [
      "Woof!\n"
     ]
    }
   ],
   "source": [
    "# Function that demonstrates polymorphism\n",
    "def animal_speak(animal):\n",
    "    print(animal.speak())\n",
    "\n",
    "# Calling through polymorphic function\n",
    "animal_speak(dog)\n"
   ]
  },
  {
   "cell_type": "markdown",
   "id": "3e6b3481",
   "metadata": {},
   "source": [
    "# 1. animal_speak(animal) is a general-purpose function.\n",
    "\n",
    "a. It accepts any object as the argument (parameter animal).\n",
    "\n",
    "b. It then calls animal.speak() on that object.\n",
    "\n",
    "c. It doesn’t care what class the object belongs to, as long as it has a method called speak()"
   ]
  },
  {
   "cell_type": "markdown",
   "id": "327f4b95",
   "metadata": {},
   "source": [
    "# 2. dog is an instance of the Dog class.\n",
    "\n",
    "Earlier in our code, we did:"
   ]
  },
  {
   "cell_type": "code",
   "execution_count": 15,
   "id": "57e33bed",
   "metadata": {},
   "outputs": [],
   "source": [
    "dog = Dog()\n"
   ]
  },
  {
   "cell_type": "markdown",
   "id": "9209f4ca",
   "metadata": {},
   "source": [
    "### And in the Dog class, you overrode the speak() method:"
   ]
  },
  {
   "cell_type": "code",
   "execution_count": 16,
   "id": "bc5282c4",
   "metadata": {},
   "outputs": [],
   "source": [
    "class Dog(Animal):\n",
    "    def speak(self):\n",
    "        return \"Woof!\"\n"
   ]
  },
  {
   "cell_type": "markdown",
   "id": "a2f06abe",
   "metadata": {},
   "source": [
    "### So dog.speak() will return \"Woof!\"."
   ]
  },
  {
   "cell_type": "markdown",
   "id": "8c6f8636",
   "metadata": {},
   "source": [
    "# 3. When we call:"
   ]
  },
  {
   "cell_type": "code",
   "execution_count": 17,
   "id": "728a6c48",
   "metadata": {},
   "outputs": [
    {
     "name": "stdout",
     "output_type": "stream",
     "text": [
      "Woof!\n"
     ]
    }
   ],
   "source": [
    "animal_speak(dog)\n"
   ]
  },
  {
   "cell_type": "markdown",
   "id": "a6b658fc",
   "metadata": {},
   "source": [
    "### It executes:"
   ]
  },
  {
   "cell_type": "code",
   "execution_count": 18,
   "id": "0cad1af6",
   "metadata": {},
   "outputs": [
    {
     "name": "stdout",
     "output_type": "stream",
     "text": [
      "Woof!\n"
     ]
    }
   ],
   "source": [
    "print(dog.speak())  # Internally from the Dog class\n"
   ]
  },
  {
   "cell_type": "markdown",
   "id": "a0706784",
   "metadata": {},
   "source": [
    "# Why This is Polymorphism\n",
    "Polymorphism means:\n",
    "\n",
    "The same interface (method name) behaves differently depending on the object it is acting upon.\n",
    "\n",
    "In your function, you're always calling .speak()\n",
    "\n",
    "But the actual method being run depends on whether you pass in a Dog, Cat, or any other subclass of Animal\n",
    "\n",
    "✅ So:\n",
    "\n",
    "| Object passed | Method executed  | Output                |\n",
    "| ------------- | ---------------- | --------------------- |\n",
    "| `Dog()`       | `Dog.speak()`    | `Woof!`               |\n",
    "| `Cat()`       | `Cat.speak()`    | `Meow!`               |\n",
    "| `Animal()`    | `Animal.speak()` | `Sound of the animal` |\n"
   ]
  },
  {
   "cell_type": "markdown",
   "id": "a7861944",
   "metadata": {},
   "source": [
    "# 3. Functions and Methods in Python\n",
    "Polymorphism with functions and methods means:\n",
    "\n",
    "Functions or methods can work with different types of data or objects, and respond differently depending on the input type or class — but using the same name."
   ]
  },
  {
   "cell_type": "markdown",
   "id": "9d8b4883",
   "metadata": {},
   "source": [
    "### Two Key Forms:\n",
    "| Type                      | Description                                                          |\n",
    "| ------------------------- | -------------------------------------------------------------------- |\n",
    "| **Function Polymorphism** | Same function name behaves differently depending on the input type   |\n",
    "| **Method Polymorphism**   | Same method name behaves differently depending on the object’s class |\n"
   ]
  },
  {
   "cell_type": "markdown",
   "id": "e36e8cbb",
   "metadata": {},
   "source": [
    "### 1️⃣ Function Polymorphism"
   ]
  },
  {
   "cell_type": "markdown",
   "id": "1fa428ab",
   "metadata": {},
   "source": [
    "### ➤ Definition:\n",
    "\n",
    "A function behaves differently based on the type of input arguments, even though the function name is the same."
   ]
  },
  {
   "cell_type": "markdown",
   "id": "db367eb6",
   "metadata": {},
   "source": [
    "### ✅ Example 1: Built-in len() function"
   ]
  },
  {
   "cell_type": "code",
   "execution_count": 19,
   "id": "a71125e9",
   "metadata": {},
   "outputs": [
    {
     "name": "stdout",
     "output_type": "stream",
     "text": [
      "5\n",
      "3\n",
      "2\n"
     ]
    }
   ],
   "source": [
    "print(len(\"Hello\"))       # Output: 5\n",
    "print(len([1, 2, 3]))     # Output: 3\n",
    "print(len({'a': 1, 'b': 2}))  # Output: 2\n"
   ]
  },
  {
   "cell_type": "markdown",
   "id": "4b509522",
   "metadata": {},
   "source": [
    "### Even though we're calling the same function len(), the behavior differs:\n",
    "| Input Type | Behavior                     | Result |\n",
    "| ---------- | ---------------------------- | ------ |\n",
    "| `str`      | Returns number of characters | `5`    |\n",
    "| `list`     | Returns number of elements   | `3`    |\n",
    "| `dict`     | Returns number of keys       | `2`    |\n"
   ]
  },
  {
   "cell_type": "markdown",
   "id": "8e56393b",
   "metadata": {},
   "source": [
    "### ✅ Same function name → different behavior depending on type."
   ]
  },
  {
   "cell_type": "markdown",
   "id": "2c6f0253",
   "metadata": {},
   "source": [
    "### ✅ Example 2: User-defined function working on different types"
   ]
  },
  {
   "cell_type": "code",
   "execution_count": 20,
   "id": "864bd0bc",
   "metadata": {},
   "outputs": [
    {
     "name": "stdout",
     "output_type": "stream",
     "text": [
      "8\n",
      "Hi there\n",
      "[1, 2]\n"
     ]
    }
   ],
   "source": [
    "def add(a, b):\n",
    "    return a + b\n",
    "\n",
    "print(add(5, 3))          # Integer addition → 8\n",
    "print(add(\"Hi \", \"there\"))# String concatenation → \"Hi there\"\n",
    "print(add([1], [2]))      # List merging → [1, 2]\n"
   ]
  },
  {
   "cell_type": "markdown",
   "id": "064f8675",
   "metadata": {},
   "source": [
    "| Input Type | Behavior             | Result       |\n",
    "| ---------- | -------------------- | ------------ |\n",
    "| Integers   | Adds numbers         | `8`          |\n",
    "| Strings    | Concatenates strings | `\"Hi there\"` |\n",
    "| Lists      | Merges lists         | `[1, 2]`     |\n"
   ]
  },
  {
   "cell_type": "markdown",
   "id": "0e1f5db6",
   "metadata": {},
   "source": [
    "### ✅ Same function add() → polymorphic behavior."
   ]
  },
  {
   "cell_type": "markdown",
   "id": "50fc2951",
   "metadata": {},
   "source": [
    "# 2️⃣ Method Polymorphism\n",
    "### ➤ Definition:\n",
    "\n",
    "Different classes define the same method name, but with different behaviors depending on the object.\n",
    "\n",
    "This is usually achieved by method overriding in subclasses."
   ]
  },
  {
   "cell_type": "code",
   "execution_count": 21,
   "id": "0271e9e4",
   "metadata": {},
   "outputs": [
    {
     "name": "stdout",
     "output_type": "stream",
     "text": [
      "Woof!\n",
      "Meow!\n"
     ]
    }
   ],
   "source": [
    "class Animal:\n",
    "    def speak(self):\n",
    "        return \"Some generic animal sound\"\n",
    "\n",
    "class Dog(Animal):\n",
    "    def speak(self):\n",
    "        return \"Woof!\"\n",
    "\n",
    "class Cat(Animal):\n",
    "    def speak(self):\n",
    "        return \"Meow!\"\n",
    "\n",
    "# Polymorphic function\n",
    "def animal_sound(animal):\n",
    "    print(animal.speak())\n",
    "\n",
    "# Usage\n",
    "dog = Dog()\n",
    "cat = Cat()\n",
    "\n",
    "animal_sound(dog)   # Woof!\n",
    "animal_sound(cat)   # Meow!\n"
   ]
  },
  {
   "cell_type": "markdown",
   "id": "a90bea57",
   "metadata": {},
   "source": [
    "# What's happening:\n",
    "\n",
    "All classes have a method called speak()\n",
    "\n",
    "Each class implements it differently\n",
    "\n",
    "The function animal_sound() uses polymorphism to handle any animal"
   ]
  },
  {
   "cell_type": "markdown",
   "id": "72d9caf8",
   "metadata": {},
   "source": [
    "### Using Loops to Demonstrate Polymorphism with Methods"
   ]
  },
  {
   "cell_type": "code",
   "execution_count": 22,
   "id": "7c0ce95a",
   "metadata": {},
   "outputs": [
    {
     "name": "stdout",
     "output_type": "stream",
     "text": [
      "Woof!\n",
      "Meow!\n",
      "Some generic animal sound\n"
     ]
    }
   ],
   "source": [
    "animals = [Dog(), Cat(), Animal()]\n",
    "\n",
    "for animal in animals:\n",
    "    print(animal.speak())\n"
   ]
  },
  {
   "cell_type": "code",
   "execution_count": 32,
   "id": "4de26c07",
   "metadata": {},
   "outputs": [
    {
     "name": "stdout",
     "output_type": "stream",
     "text": [
      "the area is 20\n",
      "the area is 28.259999999999998\n"
     ]
    }
   ],
   "source": [
    "### Polymorphissm with Functions and MEthods\n",
    "## base class\n",
    "class Shape:\n",
    "    def area(self):\n",
    "        return \"The area of the figure\"\n",
    "    \n",
    "## Derived class 1\n",
    "class Rectangle(Shape):\n",
    "    def __init__(self,width,height):\n",
    "        self.width=width\n",
    "        self.height=height\n",
    "\n",
    "    def area(self):\n",
    "        return self.width * self.height\n",
    "    \n",
    "##DErived class 2\n",
    "\n",
    "class Circle(Shape):\n",
    "    def __init__(self,radius):\n",
    "        self.radius=radius\n",
    "\n",
    "    def area(self):\n",
    "        return 3.14*self.radius *self.radius\n",
    "    \n",
    "## Fucntion that demonstrates polymorphism\n",
    "\n",
    "def print_area(shape):\n",
    "    print(f\"the area is {shape.area()}\")\n",
    "\n",
    "\n",
    "rectangle=Rectangle(4,5)\n",
    "circle=Circle(3)\n",
    "\n",
    "print_area(rectangle)\n",
    "print_area(circle)"
   ]
  },
  {
   "cell_type": "markdown",
   "id": "8394457a",
   "metadata": {},
   "source": [
    "### Here we can see where we are overloading the function polimorphism"
   ]
  },
  {
   "cell_type": "markdown",
   "id": "4170a8ff",
   "metadata": {},
   "source": [
    "### Difference Between Function and Method Polymorphism\n",
    "| Feature        | Function Polymorphism                    | Method Polymorphism                      |\n",
    "| -------------- | ---------------------------------------- | ---------------------------------------- |\n",
    "| Applies to     | Standalone functions                     | Class methods                            |\n",
    "| Based on       | Type of arguments passed                 | Type of object on which method is called |\n",
    "| Example        | `len()`, `add()`                         | `speak()` method in different classes    |\n",
    "| Implemented by | Overloading built-in operators/functions | Overriding methods in subclasses         |\n"
   ]
  },
  {
   "cell_type": "markdown",
   "id": "116c3e5b",
   "metadata": {},
   "source": [
    "### Polymorphism using Abstract Base Classes (ABCs) in Python\n",
    "This is a more formal and enforceable way to implement polymorphism, especially in large applications where code structure and consistency are important.\n",
    "\n",
    "### One liner : Abstract class is an empty class and Abstract method is an empty method. We think that it can be used later , so whatever class is going to inherit this class will define this method of the class"
   ]
  },
  {
   "cell_type": "markdown",
   "id": "7ba4603b",
   "metadata": {},
   "source": [
    "### What is an Abstract Base Class (ABC)?\n",
    "\n",
    "An abstract base class is a blueprint for other classes.\n",
    "\n",
    "It cannot be instantiated directly.\n",
    "\n",
    "It can define abstract methods that must be implemented by any subclass.\n",
    "\n",
    "Enforces a consistent interface across all subclasses.\n",
    "\n",
    "It's part of the abc module in Python."
   ]
  },
  {
   "cell_type": "markdown",
   "id": "5f5bbc1b",
   "metadata": {},
   "source": [
    "### Why Use ABC for Polymorphism?\n",
    "\n",
    "In regular polymorphism (like with Dog and Cat), we trust the child classes to override the method (speak()), but there’s no guarantee.\n",
    "\n",
    "With an abstract base class, Python will raise an error if a child class doesn't implement the required methods.\n",
    "\n",
    "🔐 ABC enforces polymorphism by design."
   ]
  },
  {
   "cell_type": "markdown",
   "id": "2887d9e9",
   "metadata": {},
   "source": [
    "### How to Create an Abstract Base Class\n",
    "Step-by-step:\n",
    "\n",
    "Import ABC and abstractmethod from the abc module.\n",
    "\n",
    "Create a class that inherits from ABC.\n",
    "\n",
    "Use @abstractmethod to define abstract methods."
   ]
  },
  {
   "cell_type": "code",
   "execution_count": 33,
   "id": "2c556995",
   "metadata": {},
   "outputs": [],
   "source": [
    "from abc import ABC, abstractmethod\n",
    "\n",
    "# Abstract Base Class\n",
    "class Shape(ABC):\n",
    "    @abstractmethod #Abstract method\n",
    "    def area(self):\n",
    "        pass\n",
    "\n",
    "# Subclass: Circle\n",
    "class Circle(Shape):\n",
    "    def __init__(self, radius):\n",
    "        self.radius = radius\n",
    "\n",
    "    def area(self):\n",
    "        return 3.14 * self.radius * self.radius\n",
    "\n",
    "# Subclass: Rectangle\n",
    "class Rectangle(Shape):\n",
    "    def __init__(self, width, height):\n",
    "        self.width = width\n",
    "        self.height = height\n",
    "\n",
    "    def area(self):\n",
    "        return self.width * self.height\n"
   ]
  },
  {
   "cell_type": "code",
   "execution_count": 24,
   "id": "b8fad3ae",
   "metadata": {},
   "outputs": [
    {
     "name": "stdout",
     "output_type": "stream",
     "text": [
      "Area: 78.5\n",
      "Area: 24\n"
     ]
    }
   ],
   "source": [
    "shapes = [Circle(5), Rectangle(4, 6)]\n",
    "\n",
    "for shape in shapes:\n",
    "    print(f\"Area: {shape.area()}\")\n"
   ]
  },
  {
   "cell_type": "markdown",
   "id": "076e637d",
   "metadata": {},
   "source": [
    "### What If a Subclass Doesn’t Implement area()?"
   ]
  },
  {
   "cell_type": "code",
   "execution_count": 25,
   "id": "9892b9d0",
   "metadata": {},
   "outputs": [
    {
     "ename": "TypeError",
     "evalue": "Can't instantiate abstract class Triangle without an implementation for abstract method 'area'",
     "output_type": "error",
     "traceback": [
      "\u001b[31m---------------------------------------------------------------------------\u001b[39m",
      "\u001b[31mTypeError\u001b[39m                                 Traceback (most recent call last)",
      "\u001b[36mCell\u001b[39m\u001b[36m \u001b[39m\u001b[32mIn[25]\u001b[39m\u001b[32m, line 4\u001b[39m\n\u001b[32m      1\u001b[39m \u001b[38;5;28;01mclass\u001b[39;00m\u001b[38;5;250m \u001b[39m\u001b[34;01mTriangle\u001b[39;00m(Shape):\n\u001b[32m      2\u001b[39m     \u001b[38;5;28;01mpass\u001b[39;00m\n\u001b[32m----> \u001b[39m\u001b[32m4\u001b[39m t = \u001b[43mTriangle\u001b[49m\u001b[43m(\u001b[49m\u001b[43m)\u001b[49m  \u001b[38;5;66;03m# ❌ This will raise an error\u001b[39;00m\n",
      "\u001b[31mTypeError\u001b[39m: Can't instantiate abstract class Triangle without an implementation for abstract method 'area'"
     ]
    }
   ],
   "source": [
    "class Triangle(Shape):\n",
    "    pass\n",
    "\n",
    "t = Triangle()  # ❌ This will raise an error\n"
   ]
  },
  {
   "cell_type": "markdown",
   "id": "9ccc417b",
   "metadata": {},
   "source": [
    "### That’s how ABCs force polymorphic behavior — if a subclass doesn’t implement the abstract method, Python won’t let you create an object from it."
   ]
  },
  {
   "cell_type": "markdown",
   "id": "a5d8c4f6",
   "metadata": {},
   "source": [
    "### Polymorphism in Action\n",
    "\n",
    "The key part is this loop:"
   ]
  },
  {
   "cell_type": "code",
   "execution_count": 26,
   "id": "a9fb73af",
   "metadata": {},
   "outputs": [
    {
     "name": "stdout",
     "output_type": "stream",
     "text": [
      "78.5\n",
      "24\n"
     ]
    }
   ],
   "source": [
    "for shape in shapes:\n",
    "    print(shape.area())\n"
   ]
  },
  {
   "cell_type": "code",
   "execution_count": 34,
   "id": "1d710bed",
   "metadata": {},
   "outputs": [
    {
     "name": "stdout",
     "output_type": "stream",
     "text": [
      "Car enginer started\n"
     ]
    }
   ],
   "source": [
    "from abc import ABC,abstractmethod\n",
    "\n",
    "## Define an abstract class\n",
    "class Vehicle(ABC):\n",
    "    @abstractmethod\n",
    "    def start_engine(self):\n",
    "        pass\n",
    "\n",
    "## Derived class 1\n",
    "class Car(Vehicle):\n",
    "    def start_engine(self):\n",
    "        return \"Car enginer started\"\n",
    "    \n",
    "## Derived class 2\n",
    "class Motorcycle(Vehicle):\n",
    "    def start_engine(self):\n",
    "        return \"Motorcycle enginer started\"\n",
    "    \n",
    "# Function that demonstrates polymorphism\n",
    "def start_vehicle(vehicle):\n",
    "    print(vehicle.start_engine())\n",
    "\n",
    "## create objects of cAr and Motorcycle\n",
    "\n",
    "car = Car()\n",
    "motorcycle = Motorcycle()\n",
    "\n",
    "start_vehicle(car)"
   ]
  },
  {
   "cell_type": "markdown",
   "id": "9efbb725",
   "metadata": {},
   "source": [
    "### shape could be any subclass of Shape\n",
    "\n",
    "The method .area() will behave differently based on the actual object type\n",
    "\n",
    "You’re using polymorphism safely and consistently — thanks to ABCs"
   ]
  },
  {
   "cell_type": "markdown",
   "id": "b42f6505",
   "metadata": {},
   "source": [
    "# ✅ Real-World Analogy\n",
    "\n",
    "Imagine we're building a drawing app:\n",
    "\n",
    "We define a base Shape class (abstract).\n",
    "\n",
    "We don’t care what kind of shape it is (circle, square, triangle).\n",
    "\n",
    "We just call .area() or .draw() on every shape.\n",
    "\n",
    "Using an ABC ensures that every shape object must implement those required behaviors."
   ]
  },
  {
   "cell_type": "markdown",
   "id": "d99aa2c6",
   "metadata": {},
   "source": [
    "| Feature                         | Explanation                                      |\n",
    "| ------------------------------- | ------------------------------------------------ |\n",
    "| Abstract Base Class (ABC)       | A blueprint for other classes                    |\n",
    "| `@abstractmethod`               | Defines a method that must be overridden         |\n",
    "| Cannot instantiate ABC directly | Enforces design rules                            |\n",
    "| Used for                        | Structured, safe polymorphism                    |\n",
    "| Benefits                        | Prevents runtime surprises, improves reliability |\n"
   ]
  },
  {
   "cell_type": "markdown",
   "id": "ff0e6336",
   "metadata": {},
   "source": [
    "## Bonus Example: Payment Gateway (Real-World Use Case)"
   ]
  },
  {
   "cell_type": "code",
   "execution_count": 27,
   "id": "12bf75e8",
   "metadata": {},
   "outputs": [
    {
     "name": "stdout",
     "output_type": "stream",
     "text": [
      "Paid ₹1000 using Credit Card.\n",
      "Paid ₹500 via UPI.\n"
     ]
    }
   ],
   "source": [
    "from abc import ABC, abstractmethod\n",
    "\n",
    "class PaymentMethod(ABC):\n",
    "    @abstractmethod\n",
    "    def pay(self, amount):\n",
    "        pass\n",
    "\n",
    "class CreditCard(PaymentMethod):\n",
    "    def pay(self, amount):\n",
    "        print(f\"Paid ₹{amount} using Credit Card.\")\n",
    "\n",
    "class UPI(PaymentMethod):\n",
    "    def pay(self, amount):\n",
    "        print(f\"Paid ₹{amount} via UPI.\")\n",
    "\n",
    "# Usage\n",
    "def process_payment(payment: PaymentMethod, amount):\n",
    "    payment.pay(amount)\n",
    "\n",
    "payment1 = CreditCard()\n",
    "payment2 = UPI()\n",
    "\n",
    "process_payment(payment1, 1000)\n",
    "process_payment(payment2, 500)\n"
   ]
  },
  {
   "cell_type": "markdown",
   "id": "92c746ca",
   "metadata": {},
   "source": [
    "### ✅ process_payment() works polymorphically with any valid PaymentMethod object."
   ]
  },
  {
   "cell_type": "markdown",
   "id": "4a256775",
   "metadata": {},
   "source": [
    "# 4. Operator Overloading"
   ]
  },
  {
   "cell_type": "markdown",
   "id": "3e5998a9",
   "metadata": {},
   "source": [
    "### What is Operator Overloading?\n",
    "\n",
    "Operator Overloading allows us to define custom behavior for built-in operators (+, -, *, etc.) when they are used with user-defined objects (instances of classes).\n",
    "\n",
    "✅ It means: Same operator, different behavior depending on the operands’ types.\n",
    "\n",
    "Just like functions can be polymorphic (work with different types), operators can be polymorphic too."
   ]
  },
  {
   "cell_type": "markdown",
   "id": "8111989a",
   "metadata": {},
   "source": [
    "### Real-Life Analogy\n",
    "\n",
    "+ for numbers: adds values → 5 + 3 = 8\n",
    "\n",
    "+ for strings: concatenates → \"hello\" + \"world\" = \"helloworld\"\n",
    "\n",
    "+ for lists: merges → [1,2] + [3,4] = [1,2,3,4]\n",
    "\n",
    " This is polymorphism of the + operator — and in custom classes, we can define this behavior ourselves using operator overloading."
   ]
  },
  {
   "cell_type": "markdown",
   "id": "29e198e1",
   "metadata": {},
   "source": [
    "### How to Overload Operators in Python\n",
    "\n",
    "We overload an operator by defining special methods (dunder methods) in our class."
   ]
  },
  {
   "cell_type": "markdown",
   "id": "5fb742a4",
   "metadata": {},
   "source": [
    "| Operator | Special Method             |\n",
    "| -------- | -------------------------- |\n",
    "| `+`      | `__add__(self, other)`     |\n",
    "| `-`      | `__sub__(self, other)`     |\n",
    "| `*`      | `__mul__(self, other)`     |\n",
    "| `/`      | `__truediv__(self, other)` |\n",
    "| `==`     | `__eq__(self, other)`      |\n",
    "| `>`      | `__gt__(self, other)`      |\n",
    "| `<`      | `__lt__(self, other)`      |\n",
    "| `str()`  | `__str__(self)`            |\n"
   ]
  },
  {
   "cell_type": "code",
   "execution_count": 28,
   "id": "a0c040a1",
   "metadata": {},
   "outputs": [],
   "source": [
    "class Point:\n",
    "    def __init__(self, x, y):\n",
    "        self.x = x\n",
    "        self.y = y\n",
    "\n",
    "    def __add__(self, other):\n",
    "        return Point(self.x + other.x, self.y + other.y)\n",
    "\n",
    "    def __str__(self):\n",
    "        return f\"({self.x}, {self.y})\"\n"
   ]
  },
  {
   "cell_type": "code",
   "execution_count": 29,
   "id": "46f05b48",
   "metadata": {},
   "outputs": [
    {
     "name": "stdout",
     "output_type": "stream",
     "text": [
      "(4, 6)\n"
     ]
    }
   ],
   "source": [
    "p1 = Point(1, 2)\n",
    "p2 = Point(3, 4)\n",
    "\n",
    "p3 = p1 + p2  # Internally calls p1.__add__(p2)\n",
    "\n",
    "print(p3)     # Output: (4, 6)\n"
   ]
  },
  {
   "cell_type": "markdown",
   "id": "6e81bb0a",
   "metadata": {},
   "source": [
    "### Without __add__, Python wouldn’t know how to add two Point objects."
   ]
  },
  {
   "cell_type": "code",
   "execution_count": 30,
   "id": "48987d5e",
   "metadata": {},
   "outputs": [],
   "source": [
    "class Book:\n",
    "    def __init__(self, title, pages):\n",
    "        self.title = title\n",
    "        self.pages = pages\n",
    "\n",
    "    def __add__(self, other):\n",
    "        return self.pages + other.pages\n",
    "\n",
    "    def __eq__(self, other):\n",
    "        return self.pages == other.pages\n",
    "\n",
    "    def __gt__(self, other):\n",
    "        return self.pages > other.pages\n",
    "\n",
    "    def __str__(self):\n",
    "        return f\"{self.title} ({self.pages} pages)\"\n"
   ]
  },
  {
   "cell_type": "code",
   "execution_count": 31,
   "id": "230b826d",
   "metadata": {},
   "outputs": [
    {
     "name": "stdout",
     "output_type": "stream",
     "text": [
      "800\n",
      "False\n",
      "True\n"
     ]
    }
   ],
   "source": [
    "b1 = Book(\"Python Basics\", 300)\n",
    "b2 = Book(\"Advanced Python\", 500)\n",
    "\n",
    "print(b1 + b2)        # 800 → b1.__add__(b2)\n",
    "print(b1 == b2)       # False → b1.__eq__(b2)\n",
    "print(b2 > b1)        # True  → b2.__gt__(b1)\n"
   ]
  },
  {
   "cell_type": "markdown",
   "id": "ff2ebfa9",
   "metadata": {},
   "source": [
    "# Why Use Operator Overloading?\n",
    "| Benefit                               | Explanation                                                                     |\n",
    "| ------------------------------------- | ------------------------------------------------------------------------------- |\n",
    "| Improves readability                  | Use natural syntax like `a + b` instead of `a.add(b)`                           |\n",
    "| Makes classes act like built-in types | We can use arithmetic, comparison, and string functions on our custom objects |\n",
    "| Enables polymorphism with operators   | Same operator can work across many types in different ways                      |\n"
   ]
  },
  {
   "cell_type": "markdown",
   "id": "79b74d19",
   "metadata": {},
   "source": [
    "### Summary Table: Common Operator Methods\n",
    "| Operator | Method Name   | Purpose               |\n",
    "| -------- | ------------- | --------------------- |\n",
    "| `+`      | `__add__`     | Addition              |\n",
    "| `-`      | `__sub__`     | Subtraction           |\n",
    "| `*`      | `__mul__`     | Multiplication        |\n",
    "| `/`      | `__truediv__` | Division              |\n",
    "| `==`     | `__eq__`      | Equal to              |\n",
    "| `!=`     | `__ne__`      | Not equal to          |\n",
    "| `>`      | `__gt__`      | Greater than          |\n",
    "| `<`      | `__lt__`      | Less than             |\n",
    "| `str()`  | `__str__`     | String representation |\n"
   ]
  },
  {
   "cell_type": "code",
   "execution_count": null,
   "id": "28f9478b",
   "metadata": {},
   "outputs": [],
   "source": []
  }
 ],
 "metadata": {
  "kernelspec": {
   "display_name": "Python 3",
   "language": "python",
   "name": "python3"
  },
  "language_info": {
   "codemirror_mode": {
    "name": "ipython",
    "version": 3
   },
   "file_extension": ".py",
   "mimetype": "text/x-python",
   "name": "python",
   "nbconvert_exporter": "python",
   "pygments_lexer": "ipython3",
   "version": "3.13.7"
  }
 },
 "nbformat": 4,
 "nbformat_minor": 5
}
