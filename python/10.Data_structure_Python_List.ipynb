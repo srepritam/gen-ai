{
 "cells": [
  {
   "cell_type": "markdown",
   "id": "0cea4489",
   "metadata": {},
   "source": [
    "# Introduction To Lists\n",
    "## Lists are ordered, mutable collections of items.\n",
    "## They can contain items of different data types."
   ]
  },
  {
   "cell_type": "code",
   "execution_count": 1,
   "id": "275cb09f",
   "metadata": {},
   "outputs": [
    {
     "name": "stdout",
     "output_type": "stream",
     "text": [
      "<class 'list'>\n"
     ]
    }
   ],
   "source": [
    "my_list=[]\n",
    "print(type(my_list))"
   ]
  },
  {
   "cell_type": "markdown",
   "id": "bde0bad7",
   "metadata": {},
   "source": []
  },
  {
   "cell_type": "code",
   "execution_count": 2,
   "id": "449d7849",
   "metadata": {},
   "outputs": [
    {
     "name": "stdout",
     "output_type": "stream",
     "text": [
      "['Pritam', 'Swagata', 'Edhikaa', 1, 2, 3, 4, 5]\n"
     ]
    }
   ],
   "source": [
    "names=[\"Pritam\",\"Swagata\",\"Edhikaa\",1,2,3,4,5]\n",
    "print(names)"
   ]
  },
  {
   "cell_type": "code",
   "execution_count": 3,
   "id": "3a79e8ed",
   "metadata": {},
   "outputs": [
    {
     "name": "stdout",
     "output_type": "stream",
     "text": [
      "[3.14, 30, True, 'GEN AI']\n"
     ]
    }
   ],
   "source": [
    "my_list=[3.14,30,True,\"GEN AI\"]\n",
    "print(my_list)"
   ]
  },
  {
   "cell_type": "markdown",
   "id": "aed95928",
   "metadata": {},
   "source": [
    "### Accessing List Elements"
   ]
  },
  {
   "cell_type": "code",
   "execution_count": 4,
   "id": "fb870370",
   "metadata": {},
   "outputs": [],
   "source": [
    "\n",
    "fruits=[\"apple\",\"banana\",\"cherry\",\"kiwi\",\"gauva\"]"
   ]
  },
  {
   "cell_type": "code",
   "execution_count": 5,
   "id": "118cddd0",
   "metadata": {},
   "outputs": [
    {
     "name": "stdout",
     "output_type": "stream",
     "text": [
      "apple\n",
      "banana\n",
      "cherry\n",
      "kiwi\n",
      "gauva\n"
     ]
    }
   ],
   "source": [
    "print(fruits[0])\n",
    "print(fruits[1])\n",
    "print(fruits[2])\n",
    "print(fruits[3])\n",
    "print(fruits[4])"
   ]
  },
  {
   "cell_type": "code",
   "execution_count": 6,
   "id": "b0103a93",
   "metadata": {},
   "outputs": [
    {
     "name": "stdout",
     "output_type": "stream",
     "text": [
      "['banana', 'cherry', 'kiwi', 'gauva']\n"
     ]
    }
   ],
   "source": [
    "print(fruits[1:])\n"
   ]
  },
  {
   "cell_type": "code",
   "execution_count": 7,
   "id": "47310faf",
   "metadata": {},
   "outputs": [
    {
     "name": "stdout",
     "output_type": "stream",
     "text": [
      "['banana', 'cherry']\n"
     ]
    }
   ],
   "source": [
    "print(fruits[1:3])"
   ]
  },
  {
   "cell_type": "markdown",
   "id": "5fa839e0",
   "metadata": {},
   "source": [
    "## Modifying The List elements"
   ]
  },
  {
   "cell_type": "code",
   "execution_count": 8,
   "id": "7fa740ea",
   "metadata": {},
   "outputs": [
    {
     "data": {
      "text/plain": [
       "['apple', 'banana', 'cherry', 'kiwi', 'gauva']"
      ]
     },
     "execution_count": 8,
     "metadata": {},
     "output_type": "execute_result"
    }
   ],
   "source": [
    "\n",
    "fruits"
   ]
  },
  {
   "cell_type": "code",
   "execution_count": 9,
   "id": "4a289aa1",
   "metadata": {},
   "outputs": [],
   "source": [
    "fruits[1]=\"Avocado\""
   ]
  },
  {
   "cell_type": "code",
   "execution_count": 10,
   "id": "685266bc",
   "metadata": {},
   "outputs": [
    {
     "data": {
      "text/plain": [
       "['apple', 'Avocado', 'cherry', 'kiwi', 'gauva']"
      ]
     },
     "execution_count": 10,
     "metadata": {},
     "output_type": "execute_result"
    }
   ],
   "source": [
    "fruits"
   ]
  },
  {
   "cell_type": "code",
   "execution_count": 11,
   "id": "3b8b9c07",
   "metadata": {},
   "outputs": [],
   "source": [
    "fruits.append(\"Lemon\")"
   ]
  },
  {
   "cell_type": "code",
   "execution_count": 12,
   "id": "0a717aad",
   "metadata": {},
   "outputs": [
    {
     "data": {
      "text/plain": [
       "['apple', 'Avocado', 'cherry', 'kiwi', 'gauva', 'Lemon']"
      ]
     },
     "execution_count": 12,
     "metadata": {},
     "output_type": "execute_result"
    }
   ],
   "source": [
    "fruits"
   ]
  },
  {
   "cell_type": "code",
   "execution_count": 13,
   "id": "bc4a9e41",
   "metadata": {},
   "outputs": [],
   "source": [
    "fruits.insert(0,\"Lime\")"
   ]
  },
  {
   "cell_type": "code",
   "execution_count": 14,
   "id": "06f04bc2",
   "metadata": {},
   "outputs": [
    {
     "data": {
      "text/plain": [
       "['Lime', 'apple', 'Avocado', 'cherry', 'kiwi', 'gauva', 'Lemon']"
      ]
     },
     "execution_count": 14,
     "metadata": {},
     "output_type": "execute_result"
    }
   ],
   "source": [
    "fruits"
   ]
  },
  {
   "cell_type": "code",
   "execution_count": 15,
   "id": "1dca8a3b",
   "metadata": {},
   "outputs": [
    {
     "name": "stdout",
     "output_type": "stream",
     "text": [
      "Lemon\n"
     ]
    }
   ],
   "source": [
    "print(fruits[-1])"
   ]
  },
  {
   "cell_type": "code",
   "execution_count": 16,
   "id": "05d2ff1c",
   "metadata": {},
   "outputs": [
    {
     "name": "stdout",
     "output_type": "stream",
     "text": [
      "['apple', 'Avocado', 'cherry', 'kiwi', 'gauva', 'Lemon']\n"
     ]
    }
   ],
   "source": [
    "fruits.remove(\"Lime\") ## Removing the first occurance of an item\n",
    "print(fruits)"
   ]
  },
  {
   "cell_type": "code",
   "execution_count": 17,
   "id": "99efabfe",
   "metadata": {},
   "outputs": [
    {
     "name": "stdout",
     "output_type": "stream",
     "text": [
      "Lemon\n",
      "['apple', 'Avocado', 'cherry', 'kiwi', 'gauva']\n"
     ]
    }
   ],
   "source": [
    "## Remove and return the last element\n",
    "popped_fruits=fruits.pop()\n",
    "print(popped_fruits)\n",
    "print(fruits)"
   ]
  },
  {
   "cell_type": "code",
   "execution_count": 18,
   "id": "6b51aaaa",
   "metadata": {},
   "outputs": [
    {
     "data": {
      "text/plain": [
       "['apple', 'Avocado', 'cherry', 'kiwi', 'gauva']"
      ]
     },
     "execution_count": 18,
     "metadata": {},
     "output_type": "execute_result"
    }
   ],
   "source": [
    "fruits"
   ]
  },
  {
   "cell_type": "code",
   "execution_count": 19,
   "id": "82c0a2eb",
   "metadata": {},
   "outputs": [
    {
     "name": "stdout",
     "output_type": "stream",
     "text": [
      "3\n"
     ]
    }
   ],
   "source": [
    "index=fruits.index(\"kiwi\")\n",
    "print(index)"
   ]
  },
  {
   "cell_type": "code",
   "execution_count": 20,
   "id": "b58a8fc6",
   "metadata": {},
   "outputs": [
    {
     "data": {
      "text/plain": [
       "['apple', 'Avocado', 'cherry', 'kiwi', 'gauva']"
      ]
     },
     "execution_count": 20,
     "metadata": {},
     "output_type": "execute_result"
    }
   ],
   "source": [
    "fruits"
   ]
  },
  {
   "cell_type": "code",
   "execution_count": 21,
   "id": "cf18eae5",
   "metadata": {},
   "outputs": [],
   "source": [
    "fruits.insert(1,\"Lemon\")\n",
    "fruits.insert(3,\"Lemon\")\n",
    "fruits.insert(5,\"Lemon\")"
   ]
  },
  {
   "cell_type": "code",
   "execution_count": 22,
   "id": "58222f34",
   "metadata": {},
   "outputs": [
    {
     "data": {
      "text/plain": [
       "['apple', 'Lemon', 'Avocado', 'Lemon', 'cherry', 'Lemon', 'kiwi', 'gauva']"
      ]
     },
     "execution_count": 22,
     "metadata": {},
     "output_type": "execute_result"
    }
   ],
   "source": [
    "fruits"
   ]
  },
  {
   "cell_type": "code",
   "execution_count": 23,
   "id": "7581c0ff",
   "metadata": {},
   "outputs": [
    {
     "data": {
      "text/plain": [
       "3"
      ]
     },
     "execution_count": 23,
     "metadata": {},
     "output_type": "execute_result"
    }
   ],
   "source": [
    "fruits.count(\"Lemon\")"
   ]
  },
  {
   "cell_type": "code",
   "execution_count": 24,
   "id": "c4d92fde",
   "metadata": {},
   "outputs": [],
   "source": [
    "fruits.sort() ## Sorts the list in ascending order"
   ]
  },
  {
   "cell_type": "code",
   "execution_count": 25,
   "id": "6c9a47a0",
   "metadata": {},
   "outputs": [
    {
     "data": {
      "text/plain": [
       "['Avocado', 'Lemon', 'Lemon', 'Lemon', 'apple', 'cherry', 'gauva', 'kiwi']"
      ]
     },
     "execution_count": 25,
     "metadata": {},
     "output_type": "execute_result"
    }
   ],
   "source": [
    "fruits"
   ]
  },
  {
   "cell_type": "code",
   "execution_count": 27,
   "id": "4b6f4e2f",
   "metadata": {},
   "outputs": [
    {
     "data": {
      "text/plain": [
       "['Avocado', 'Lemon', 'Lemon', 'Lemon', 'apple', 'cherry', 'gauva', 'kiwi']"
      ]
     },
     "execution_count": 27,
     "metadata": {},
     "output_type": "execute_result"
    }
   ],
   "source": [
    "fruits.reverse() ## Reverse the list\n",
    "fruits"
   ]
  },
  {
   "cell_type": "code",
   "execution_count": 28,
   "id": "0bfe042b",
   "metadata": {},
   "outputs": [
    {
     "name": "stdout",
     "output_type": "stream",
     "text": [
      "[]\n"
     ]
    }
   ],
   "source": [
    "fruits.clear() ## Remove all items from the list\n",
    "\n",
    "print(fruits)"
   ]
  },
  {
   "cell_type": "code",
   "execution_count": 29,
   "id": "73b855de",
   "metadata": {},
   "outputs": [
    {
     "data": {
      "text/plain": [
       "[]"
      ]
     },
     "execution_count": 29,
     "metadata": {},
     "output_type": "execute_result"
    }
   ],
   "source": [
    "fruits"
   ]
  },
  {
   "cell_type": "code",
   "execution_count": 30,
   "id": "d8071965",
   "metadata": {},
   "outputs": [
    {
     "name": "stdout",
     "output_type": "stream",
     "text": [
      "[3, 4, 5]\n",
      "[1, 2, 3, 4, 5]\n",
      "[6, 7, 8, 9, 10]\n",
      "[1, 3, 5, 7, 9]\n",
      "[10, 9, 8, 7, 6, 5, 4, 3, 2, 1]\n"
     ]
    }
   ],
   "source": [
    "## Slicing List\n",
    "numbers = [1, 2, 3, 4, 5, 6, 7, 8, 9, 10]\n",
    "print(numbers[2:5])\n",
    "print(numbers[:5])\n",
    "print(numbers[5:])\n",
    "print(numbers[::2])\n",
    "print(numbers[::-1])"
   ]
  },
  {
   "cell_type": "code",
   "execution_count": 32,
   "id": "eabd58dd",
   "metadata": {},
   "outputs": [
    {
     "name": "stdout",
     "output_type": "stream",
     "text": [
      "You have entered : Was it a car or a cat I saw?\n",
      "your reverse sentence is : ?was I tac a ro rac a ti saW\n",
      "It is not a palindrome\n"
     ]
    }
   ],
   "source": [
    "# Check palindrome\n",
    "my_sentence = input(\"Enter your sentence: \")\n",
    "print(\"You have entered : {}\".format(my_sentence))\n",
    "\n",
    "if my_sentence == my_sentence[::-1]:\n",
    "    print(\"your reverse sentence is : {}\".format(my_sentence[::-1]))\n",
    "    print(\"It is a palindrome\")\n",
    "else : \n",
    "    print(\"your reverse sentence is : {}\".format(my_sentence[::-1]))\n",
    "    print(\"It is not a palindrome\")\n",
    "\n"
   ]
  },
  {
   "cell_type": "markdown",
   "id": "351883e0",
   "metadata": {},
   "source": [
    "# Is it not a Palindrome ? If yes what is the problem and how to fix ?"
   ]
  },
  {
   "cell_type": "code",
   "execution_count": 33,
   "id": "026c8648",
   "metadata": {},
   "outputs": [
    {
     "name": "stdout",
     "output_type": "stream",
     "text": [
      "You have entered : was it a car or a cat i saw?\n",
      "your reverse sentence is : ?was i tac a ro rac a ti saw\n",
      "It is not a palindrome\n"
     ]
    }
   ],
   "source": [
    "# Check palindrome\n",
    "my_sentence = input(\"Enter your sentence: \").lower()\n",
    "print(\"You have entered : {}\".format(my_sentence))\n",
    "\n",
    "if my_sentence == my_sentence[::-1]:\n",
    "    print(\"your reverse sentence is : {}\".format(my_sentence[::-1]))\n",
    "    print(\"It is a palindrome\")\n",
    "else : \n",
    "    print(\"your reverse sentence is : {}\".format(my_sentence[::-1]))\n",
    "    print(\"It is not a palindrome\")"
   ]
  },
  {
   "cell_type": "markdown",
   "id": "1baf41f7",
   "metadata": {},
   "source": [
    "# Still problem ? Lets Fix"
   ]
  },
  {
   "cell_type": "code",
   "execution_count": 35,
   "id": "c0b493f9",
   "metadata": {},
   "outputs": [
    {
     "name": "stdout",
     "output_type": "stream",
     "text": [
      "You have entered : wasitacaroracatisaw?\n",
      "your reverse sentence is : ?wasitacaroracatisaw\n",
      "It is not a palindrome\n"
     ]
    }
   ],
   "source": [
    "# Check palindrome\n",
    "my_sentence = input(\"Enter your sentence: \").lower().replace(\" \",\"\")\n",
    "print(\"You have entered : {}\".format(my_sentence))\n",
    "\n",
    "if my_sentence == my_sentence[::-1]:\n",
    "    print(\"your reverse sentence is : {}\".format(my_sentence[::-1]))\n",
    "    print(\"It is a palindrome\")\n",
    "else : \n",
    "    print(\"your reverse sentence is : {}\".format(my_sentence[::-1]))\n",
    "    print(\"It is not a palindrome\")"
   ]
  },
  {
   "cell_type": "markdown",
   "id": "7dbbf6ae",
   "metadata": {},
   "source": [
    "# Lets Fix the Final challange"
   ]
  },
  {
   "cell_type": "code",
   "execution_count": 39,
   "id": "08bd0b61",
   "metadata": {},
   "outputs": [],
   "source": [
    "import re # Import re package\n",
    "\n",
    "# Was it a car or a cat I saw?\n"
   ]
  },
  {
   "cell_type": "code",
   "execution_count": 42,
   "id": "19b50e38",
   "metadata": {},
   "outputs": [
    {
     "name": "stdout",
     "output_type": "stream",
     "text": [
      "You have entered : wasitacaroracatisaw?\n",
      "your reverse sentence is : wasitacaroracatisaw\n",
      "It is a palindrome\n"
     ]
    }
   ],
   "source": [
    "# Check palindrome\n",
    "# Was it a car or a cat I saw?\n",
    "my_sentence = input(\"Enter your sentence: \").lower().replace(\" \",\"\")\n",
    "user_input_removing_re = re.sub('[^A-Za-z0-9]+', '', my_sentence)\n",
    "new_sentence = re.sub('[^A-Za-z0-9]+', '', my_sentence)\n",
    "print(\"You have entered : {}\".format(my_sentence))\n",
    "\n",
    "if user_input_removing_re == new_sentence[::-1]:\n",
    "    print(\"your reverse sentence is : {}\".format(new_sentence[::-1]))\n",
    "    print(\"It is a palindrome\")\n",
    "else : \n",
    "    print(\"your reverse sentence is : {}\".format(new_sentence[::-1]))\n",
    "    print(\"It is not a palindrome\")"
   ]
  },
  {
   "cell_type": "markdown",
   "id": "75c28cc8",
   "metadata": {},
   "source": [
    "# Bingo !!"
   ]
  },
  {
   "cell_type": "code",
   "execution_count": 43,
   "id": "714c1af1",
   "metadata": {},
   "outputs": [
    {
     "name": "stdout",
     "output_type": "stream",
     "text": [
      "1\n",
      "2\n",
      "3\n",
      "4\n",
      "5\n",
      "6\n",
      "7\n",
      "8\n",
      "9\n",
      "10\n"
     ]
    }
   ],
   "source": [
    "### Iterating Over List\n",
    "numbers = [1,2,3,4,5,6,7,8,9,10]\n",
    "for number in numbers:\n",
    "    print(number)"
   ]
  },
  {
   "cell_type": "code",
   "execution_count": 45,
   "id": "ad7b15fe",
   "metadata": {},
   "outputs": [
    {
     "name": "stdout",
     "output_type": "stream",
     "text": [
      "index 0 has 1\n",
      "index 1 has 2\n",
      "index 2 has 3\n",
      "index 3 has 4\n",
      "index 4 has 5\n",
      "index 5 has 6\n",
      "index 6 has 7\n",
      "index 7 has 8\n",
      "index 8 has 9\n",
      "index 9 has 10\n"
     ]
    }
   ],
   "source": [
    "## Iterating with index\n",
    "for index,number in enumerate(numbers): # In python enumerate is an in-built function to get the index number\n",
    "    print(\"index {} has {}\".format(index,number))"
   ]
  },
  {
   "cell_type": "code",
   "execution_count": 46,
   "id": "515a98b8",
   "metadata": {},
   "outputs": [
    {
     "name": "stdout",
     "output_type": "stream",
     "text": [
      "[0, 1, 4, 9, 16, 25, 36, 49, 64, 81]\n"
     ]
    }
   ],
   "source": [
    "## List comprehension\n",
    "my_list=[]\n",
    "for x in range(10):\n",
    "    my_list.append(x**2)\n",
    "\n",
    "print(my_list)"
   ]
  },
  {
   "cell_type": "code",
   "execution_count": 48,
   "id": "775e64d3",
   "metadata": {},
   "outputs": [
    {
     "data": {
      "text/plain": [
       "[0, 1, 4, 9, 16, 25, 36, 49, 64, 81]"
      ]
     },
     "execution_count": 48,
     "metadata": {},
     "output_type": "execute_result"
    }
   ],
   "source": [
    "[x**2 for x in range(10)] # [What Operation we are doing      What Iteration we are performing]"
   ]
  },
  {
   "cell_type": "markdown",
   "id": "5c194ee5",
   "metadata": {},
   "source": [
    "# List Comprehension\n",
    "## Basics Syantax [expression for item in iterable]\n",
    "\n",
    "## with conditional logic [expression for item in iterable if condition]\n",
    "\n",
    "## Nested List Comprehension [expression for item1 in iterable1 for item2 in iterable2]"
   ]
  },
  {
   "cell_type": "code",
   "execution_count": 49,
   "id": "686e8756",
   "metadata": {},
   "outputs": [
    {
     "name": "stdout",
     "output_type": "stream",
     "text": [
      "[0, 1, 4, 9, 16, 25, 36, 49, 64, 81]\n"
     ]
    }
   ],
   "source": [
    "### Basic List Comphrension\n",
    "\n",
    "sqaure=[num**2 for num in range(10)]\n",
    "print(sqaure)"
   ]
  },
  {
   "cell_type": "code",
   "execution_count": 50,
   "id": "8b96090a",
   "metadata": {},
   "outputs": [
    {
     "name": "stdout",
     "output_type": "stream",
     "text": [
      "[0, 2, 4, 6, 8]\n"
     ]
    }
   ],
   "source": [
    "### List Comprehension with Condition\n",
    "lst=[]\n",
    "for i in range(10):\n",
    "    if i%2==0:\n",
    "        lst.append(i)\n",
    "\n",
    "print(lst)\n",
    "        "
   ]
  },
  {
   "cell_type": "code",
   "execution_count": 51,
   "id": "5cf2e6fa",
   "metadata": {},
   "outputs": [
    {
     "name": "stdout",
     "output_type": "stream",
     "text": [
      "[0, 2, 4, 6, 8]\n"
     ]
    }
   ],
   "source": [
    "even_numbers=[num for num in range(10) if num%2==0] # [What Operation we are doing      What Iteration we are performing   Condition]\n",
    "print(even_numbers)"
   ]
  },
  {
   "cell_type": "code",
   "execution_count": 52,
   "id": "605b43f3",
   "metadata": {},
   "outputs": [
    {
     "name": "stdout",
     "output_type": "stream",
     "text": [
      "[[1, 'a'], [1, 'b'], [1, 'c'], [1, 'd'], [2, 'a'], [2, 'b'], [2, 'c'], [2, 'd'], [3, 'a'], [3, 'b'], [3, 'c'], [3, 'd'], [4, 'a'], [4, 'b'], [4, 'c'], [4, 'd']]\n"
     ]
    }
   ],
   "source": [
    "## Nested List Comphrension\n",
    "\n",
    "lst1=[1,2,3,4]\n",
    "lst2=['a','b','c','d']\n",
    "\n",
    "pair=[[i,j] for i in lst1 for j in lst2]\n",
    "\n",
    "print(pair)"
   ]
  },
  {
   "cell_type": "code",
   "execution_count": 53,
   "id": "e28cc055",
   "metadata": {},
   "outputs": [
    {
     "name": "stdout",
     "output_type": "stream",
     "text": [
      "[5, 5, 6, 4, 13]\n"
     ]
    }
   ],
   "source": [
    "## List Comprehension with function calls\n",
    "words = [\"hello\", \"world\", \"python\", \"list\", \"comprehension\"]\n",
    "lengths = [len(word) for word in words]\n",
    "print(lengths)  # Output: [5, 5, 6, 4, 13]"
   ]
  },
  {
   "cell_type": "markdown",
   "id": "7d320439",
   "metadata": {},
   "source": [
    "# Conclusion\n",
    "### List comprehensions are a powerful and concise way to create lists in Python. They are syntactically compact and can replace more verbose looping constructs. Understanding the syntax of list comprehensions will help us write cleaner and more efficient Python code."
   ]
  },
  {
   "cell_type": "markdown",
   "id": "0f4d7717",
   "metadata": {},
   "source": []
  }
 ],
 "metadata": {
  "kernelspec": {
   "display_name": "Python 3",
   "language": "python",
   "name": "python3"
  },
  "language_info": {
   "codemirror_mode": {
    "name": "ipython",
    "version": 3
   },
   "file_extension": ".py",
   "mimetype": "text/x-python",
   "name": "python",
   "nbconvert_exporter": "python",
   "pygments_lexer": "ipython3",
   "version": "3.13.7"
  }
 },
 "nbformat": 4,
 "nbformat_minor": 5
}
