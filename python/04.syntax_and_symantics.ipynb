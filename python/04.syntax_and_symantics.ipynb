{
 "cells": [
  {
   "cell_type": "markdown",
   "id": "f2a0467d",
   "metadata": {},
   "source": [
    "## Syntax and Semantics in Python\n",
    "# What is SYntax\n",
    "### Syntax refers to the set of rules that defines the combinations of symbols that are considered to be correctly structured programs in a language. In simpler terms, syntax is about the correct arrangement of words and symbols in a code.\n",
    "# What is Semantic\n",
    "## Semantics refers to the meaning or the interpretation of the symbols, characters, and commands in a language. It is about what the code is supposed to do when it runs. '''"
   ]
  },
  {
   "cell_type": "markdown",
   "id": "cee53513",
   "metadata": {},
   "source": [
    "## Case sensitivity- Python is case sensitive"
   ]
  },
  {
   "cell_type": "code",
   "execution_count": 1,
   "id": "b86b644d",
   "metadata": {},
   "outputs": [
    {
     "name": "stdout",
     "output_type": "stream",
     "text": [
      "Pritam\n",
      "Edhikaa\n"
     ]
    }
   ],
   "source": [
    "name = \"Pritam\"\n",
    "Name = \"Edhikaa\"\n",
    "print(name)\n",
    "print(Name)"
   ]
  },
  {
   "cell_type": "markdown",
   "id": "fddb7a3a",
   "metadata": {},
   "source": [
    "# What is Indentation ?\n",
    "## Indentation in Python is used to define the structure and hierarchy of the code.\n",
    "## Unlike many other programming languages that use braces {} to delimit blocks of code, Python uses indentation to determine the grouping of statements. \n",
    "## This means that all the statements within a block must be indented at the same level."
   ]
  },
  {
   "cell_type": "code",
   "execution_count": null,
   "id": "8ad6b392",
   "metadata": {},
   "outputs": [],
   "source": []
  },
  {
   "cell_type": "code",
   "execution_count": 2,
   "id": "1bc4cd42",
   "metadata": {},
   "outputs": [
    {
     "name": "stdout",
     "output_type": "stream",
     "text": [
      "Your age is below 30\n"
     ]
    }
   ],
   "source": [
    "# Correct\n",
    "age=28\n",
    "\n",
    "if age>30:\n",
    "    \n",
    "    print(\"Your age is above 30\")\n",
    "\n",
    "else: \n",
    "\n",
    "    print(\"Your age is below 30\")\n"
   ]
  },
  {
   "cell_type": "code",
   "execution_count": 4,
   "id": "8180861f",
   "metadata": {},
   "outputs": [
    {
     "ename": "IndentationError",
     "evalue": "expected an indented block after 'else' statement on line 8 (3994779141.py, line 10)",
     "output_type": "error",
     "traceback": [
      "  \u001b[36mCell\u001b[39m\u001b[36m \u001b[39m\u001b[32mIn[4]\u001b[39m\u001b[32m, line 10\u001b[39m\n\u001b[31m    \u001b[39m\u001b[31mprint(\"Your age is below 30\")\u001b[39m\n    ^\n\u001b[31mIndentationError\u001b[39m\u001b[31m:\u001b[39m expected an indented block after 'else' statement on line 8\n"
     ]
    }
   ],
   "source": [
    "# incorrect\n",
    "age=28\n",
    "\n",
    "if age>30:\n",
    "    \n",
    "    print(\"Your age is above 30\")\n",
    "\n",
    "else: \n",
    "\n",
    "print(\"Your age is below 30\")"
   ]
  },
  {
   "cell_type": "code",
   "execution_count": 14,
   "id": "3aee3ac6",
   "metadata": {},
   "outputs": [
    {
     "name": "stdout",
     "output_type": "stream",
     "text": [
      "Correct Indentation\n",
      "This will print\n",
      "Outside the if block\n"
     ]
    }
   ],
   "source": [
    "## Code exmaples of indentation\n",
    "if True:\n",
    "    print(\"Correct Indentation\")\n",
    "    if False:\n",
    "        print(\"This wont print\")\n",
    "    print(\"This will print\")\n",
    "print(\"Outside the if block\")"
   ]
  },
  {
   "cell_type": "markdown",
   "id": "cd67950a",
   "metadata": {},
   "source": [
    "## This is a single line comment\n",
    "print(\"Welcome to Python\")"
   ]
  },
  {
   "cell_type": "markdown",
   "id": "aec9f673",
   "metadata": {},
   "source": [
    "# Line Continuation\n",
    "## Use a backslash (\\) to continue a statement to the next line"
   ]
  },
  {
   "cell_type": "markdown",
   "id": "16cb6f88",
   "metadata": {},
   "source": []
  },
  {
   "cell_type": "code",
   "execution_count": 5,
   "id": "2deebee5",
   "metadata": {},
   "outputs": [
    {
     "name": "stdout",
     "output_type": "stream",
     "text": [
      "103\n"
     ]
    }
   ],
   "source": [
    "total=1+2+3+4+5+6+7+\\\n",
    "4+5+6\\\n",
    "+10\\\n",
    "+11+12+13+14\n",
    "\n",
    "print(total)"
   ]
  },
  {
   "cell_type": "code",
   "execution_count": 6,
   "id": "d83c9ea6",
   "metadata": {},
   "outputs": [
    {
     "name": "stdout",
     "output_type": "stream",
     "text": [
      "26\n"
     ]
    }
   ],
   "source": [
    "## Multiple Statements on a single line\n",
    "x=15;y=11;z=x+y\n",
    "print(z)"
   ]
  },
  {
   "cell_type": "markdown",
   "id": "5d9b0f85",
   "metadata": {},
   "source": [
    "# Understand  Semnatics In Python\n"
   ]
  },
  {
   "cell_type": "code",
   "execution_count": 10,
   "id": "ceb738bb",
   "metadata": {},
   "outputs": [
    {
     "name": "stdout",
     "output_type": "stream",
     "text": [
      "<class 'int'>\n",
      "<class 'str'>\n"
     ]
    }
   ],
   "source": [
    "## variable assignment\n",
    "## We do not need to define the data type like other programming Langiage\n",
    "age=30 ##age is an integer\n",
    "name=\"Pritam\" ##name is a string\n",
    "\n",
    "print(type(age))\n",
    "print(type(name))"
   ]
  },
  {
   "cell_type": "markdown",
   "id": "ade3987b",
   "metadata": {},
   "source": []
  },
  {
   "cell_type": "code",
   "execution_count": 12,
   "id": "4e241562",
   "metadata": {},
   "outputs": [
    {
     "name": "stdout",
     "output_type": "stream",
     "text": [
      "<class 'int'>\n"
     ]
    }
   ],
   "source": [
    "## During the runtime we can change the type of a variable\n",
    "## This is Semantics\n",
    "name = 3.15\n",
    "print(type(age))"
   ]
  },
  {
   "cell_type": "markdown",
   "id": "a4e1977c",
   "metadata": {},
   "source": [
    "# Conclusion:\n",
    "## Understanding the syntax and semantics of Python is crucial for writing correct and meaningful programs.\n",
    "## Syntax ensures the code is properly structured, while semantics ensures the code behaves as expected.\n",
    "## Mastering these concepts will help in writing efficient and error-free Python code."
   ]
  },
  {
   "cell_type": "markdown",
   "id": "0dfba621",
   "metadata": {},
   "source": []
  }
 ],
 "metadata": {
  "kernelspec": {
   "display_name": "Python 3",
   "language": "python",
   "name": "python3"
  },
  "language_info": {
   "codemirror_mode": {
    "name": "ipython",
    "version": 3
   },
   "file_extension": ".py",
   "mimetype": "text/x-python",
   "name": "python",
   "nbconvert_exporter": "python",
   "pygments_lexer": "ipython3",
   "version": "3.13.7"
  }
 },
 "nbformat": 4,
 "nbformat_minor": 5
}
