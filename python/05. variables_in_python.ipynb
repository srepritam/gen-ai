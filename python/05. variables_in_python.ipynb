{
 "cells": [
  {
   "cell_type": "markdown",
   "id": "fd1725a9",
   "metadata": {},
   "source": [
    "# What are Variables ?\n",
    "## Variables are fundamental elements in programming used to store data that can be referenced and manipulated in a program. ## In Python, variables are created when you assign a value to them, and they do not need explicit declaration to reserve memory space. \n",
    "## The declaration happens automatically when you assign a value to a variable.\n"
   ]
  },
  {
   "cell_type": "markdown",
   "id": "0cb185ee",
   "metadata": {},
   "source": []
  },
  {
   "cell_type": "code",
   "execution_count": 3,
   "id": "a702fb54",
   "metadata": {},
   "outputs": [
    {
     "name": "stdout",
     "output_type": "stream",
     "text": [
      "age : 31\n",
      "Height: 5.7\n",
      "Name: Pritam\n",
      "Student: True\n"
     ]
    }
   ],
   "source": [
    "## Declaring And Assigning Variables\n",
    "\n",
    "age=31 # integer\n",
    "height=5.7 #float\n",
    "name=\"Pritam\" #string\n",
    "is_student=True #boolean\n",
    "\n",
    "## printing the variables\n",
    "\n",
    "print(\"age :\",age)\n",
    "print(\"Height:\",height)\n",
    "print(\"Name:\",name)\n",
    "print(\"Student:\",is_student)"
   ]
  },
  {
   "cell_type": "markdown",
   "id": "ae1a741e",
   "metadata": {},
   "source": [
    "# Naming Conventions\n",
    "## Variable names should be descriptive\n",
    "## They must start with a letter or an '_' and contains letter,numbers and underscores\n",
    "## variables names case sensitive\n",
    "\n"
   ]
  },
  {
   "cell_type": "code",
   "execution_count": 4,
   "id": "009f48ff",
   "metadata": {},
   "outputs": [],
   "source": [
    "# valid variable names\n",
    "\n",
    "first_name=\"Pritam\"\n",
    "last_name=\"Dey\""
   ]
  },
  {
   "cell_type": "code",
   "execution_count": null,
   "id": "1e7b39a1",
   "metadata": {},
   "outputs": [],
   "source": [
    "# Invalid variable names\n",
    "# 2age=30\n",
    "# first-name=\"Pritam\"\n",
    "## @name=\"Pritam\""
   ]
  },
  {
   "cell_type": "code",
   "execution_count": null,
   "id": "cf67932f",
   "metadata": {},
   "outputs": [
    {
     "name": "stdout",
     "output_type": "stream",
     "text": [
      "Pritam\n"
     ]
    }
   ],
   "source": [
    "print(first_name)\n"
   ]
  },
  {
   "cell_type": "code",
   "execution_count": 7,
   "id": "cb787493",
   "metadata": {},
   "outputs": [
    {
     "ename": "SyntaxError",
     "evalue": "invalid decimal literal (615911493.py, line 1)",
     "output_type": "error",
     "traceback": [
      "  \u001b[36mCell\u001b[39m\u001b[36m \u001b[39m\u001b[32mIn[7]\u001b[39m\u001b[32m, line 1\u001b[39m\n\u001b[31m    \u001b[39m\u001b[31m2age=30\u001b[39m\n    ^\n\u001b[31mSyntaxError\u001b[39m\u001b[31m:\u001b[39m invalid decimal literal\n"
     ]
    }
   ],
   "source": [
    "2age=30"
   ]
  },
  {
   "cell_type": "code",
   "execution_count": 8,
   "id": "ef6e3640",
   "metadata": {},
   "outputs": [
    {
     "ename": "SyntaxError",
     "evalue": "cannot assign to expression here. Maybe you meant '==' instead of '='? (506171471.py, line 1)",
     "output_type": "error",
     "traceback": [
      "  \u001b[36mCell\u001b[39m\u001b[36m \u001b[39m\u001b[32mIn[8]\u001b[39m\u001b[32m, line 1\u001b[39m\n\u001b[31m    \u001b[39m\u001b[31mfirst-name=\"Pritam\"\u001b[39m\n    ^\n\u001b[31mSyntaxError\u001b[39m\u001b[31m:\u001b[39m cannot assign to expression here. Maybe you meant '==' instead of '='?\n"
     ]
    }
   ],
   "source": [
    "first-name=\"Pritam\""
   ]
  },
  {
   "cell_type": "code",
   "execution_count": 9,
   "id": "55817690",
   "metadata": {},
   "outputs": [
    {
     "ename": "SyntaxError",
     "evalue": "invalid syntax. Maybe you meant '==' or ':=' instead of '='? (1945173723.py, line 1)",
     "output_type": "error",
     "traceback": [
      "  \u001b[36mCell\u001b[39m\u001b[36m \u001b[39m\u001b[32mIn[9]\u001b[39m\u001b[32m, line 1\u001b[39m\n\u001b[31m    \u001b[39m\u001b[31m@name=\"Pritam\"\u001b[39m\n     ^\n\u001b[31mSyntaxError\u001b[39m\u001b[31m:\u001b[39m invalid syntax. Maybe you meant '==' or ':=' instead of '='?\n"
     ]
    }
   ],
   "source": [
    "@name=\"Pritam\""
   ]
  },
  {
   "cell_type": "code",
   "execution_count": 10,
   "id": "0275cfb7",
   "metadata": {},
   "outputs": [
    {
     "name": "stdout",
     "output_type": "stream",
     "text": [
      "<class 'int'>\n",
      "<class 'float'>\n",
      "<class 'str'>\n",
      "<class 'bool'>\n"
     ]
    }
   ],
   "source": [
    "## Understnading Variable types\n",
    "## Python is dynamically typed,\n",
    "# type of a variable is determined at runtime\n",
    "\n",
    "age=25 #int\n",
    "height=3.14 #float\n",
    "name=\"Pritam\" #str\n",
    "is_student=True #bool\n",
    "\n",
    "print(type(age))\n",
    "print(type(height))\n",
    "print(type(name))\n",
    "print(type(is_student))"
   ]
  },
  {
   "cell_type": "code",
   "execution_count": 11,
   "id": "1cef0a1a",
   "metadata": {},
   "outputs": [
    {
     "name": "stdout",
     "output_type": "stream",
     "text": [
      "25\n",
      "<class 'str'>\n"
     ]
    }
   ],
   "source": [
    "# Type conversion\n",
    "age_str=str(age)\n",
    "print(age_str)\n",
    "print(type(age_str))"
   ]
  },
  {
   "cell_type": "code",
   "execution_count": null,
   "id": "677d0a62",
   "metadata": {},
   "outputs": [
    {
     "ename": "ValueError",
     "evalue": "invalid literal for int() with base 10: 'Pritam'",
     "output_type": "error",
     "traceback": [
      "\u001b[31m---------------------------------------------------------------------------\u001b[39m",
      "\u001b[31mValueError\u001b[39m                                Traceback (most recent call last)",
      "\u001b[36mCell\u001b[39m\u001b[36m \u001b[39m\u001b[32mIn[12]\u001b[39m\u001b[32m, line 2\u001b[39m\n\u001b[32m      1\u001b[39m name=\u001b[33m\"\u001b[39m\u001b[33mPritam\u001b[39m\u001b[33m\"\u001b[39m\n\u001b[32m----> \u001b[39m\u001b[32m2\u001b[39m Name = \u001b[38;5;28;43mint\u001b[39;49m\u001b[43m(\u001b[49m\u001b[43mname\u001b[49m\u001b[43m)\u001b[49m\n\u001b[32m      3\u001b[39m \u001b[38;5;28mprint\u001b[39m(\u001b[38;5;28mtype\u001b[39m(Name))\n",
      "\u001b[31mValueError\u001b[39m: invalid literal for int() with base 10: 'Pritam'"
     ]
    }
   ],
   "source": [
    "# Conversion Error\n",
    "name=\"Pritam\"\n",
    "Name = int(name)\n",
    "print(type(Name))"
   ]
  },
  {
   "cell_type": "code",
   "execution_count": 13,
   "id": "a062b742",
   "metadata": {},
   "outputs": [
    {
     "name": "stdout",
     "output_type": "stream",
     "text": [
      "3\n",
      "<class 'int'>\n"
     ]
    }
   ],
   "source": [
    "value = 3.14\n",
    "value1 = int(value)\n",
    "print(value1)\n",
    "print(type(value1))"
   ]
  },
  {
   "cell_type": "code",
   "execution_count": 14,
   "id": "c0e4d08c",
   "metadata": {},
   "outputs": [
    {
     "name": "stdout",
     "output_type": "stream",
     "text": [
      "3.0\n",
      "<class 'float'>\n"
     ]
    }
   ],
   "source": [
    "data = 3\n",
    "data1 = float(data)\n",
    "print(data1)\n",
    "print(type(data1))"
   ]
  },
  {
   "cell_type": "code",
   "execution_count": 15,
   "id": "bf39e989",
   "metadata": {},
   "outputs": [
    {
     "name": "stdout",
     "output_type": "stream",
     "text": [
      "The value is : 10\n",
      "10 <class 'int'>\n",
      "The value is : Pritam\n",
      "Pritam <class 'str'>\n",
      "The value is : 3.14\n",
      "3.14 <class 'float'>\n"
     ]
    }
   ],
   "source": [
    "## Dynamic Typing\n",
    "## Python allows the type of a vraible to change as the program executes\n",
    "var=10 #int\n",
    "print(\"The value is : {}\".format(var))\n",
    "print(var,type(var))\n",
    "\n",
    "var=\"Pritam\"\n",
    "print(\"The value is : {}\".format(var))\n",
    "print(var,type(var))\n",
    "\n",
    "var=3.14\n",
    "print(\"The value is : {}\".format(var))\n",
    "print(var,type(var))"
   ]
  },
  {
   "cell_type": "code",
   "execution_count": 17,
   "id": "ce37d5c7",
   "metadata": {},
   "outputs": [
    {
     "name": "stdout",
     "output_type": "stream",
     "text": [
      "Welcome Pritam, your age is 28\n",
      "28 <class 'int'>\n",
      "Pritam <class 'str'>\n"
     ]
    }
   ],
   "source": [
    "## input\n",
    "\n",
    "age=int(input(\"What is the age ? \"))\n",
    "name=input(\"What is your name ? \")\n",
    "\n",
    "print(\"Welcome {}, your age is {}\".format(name, age))\n",
    "print(age,type(age))\n",
    "print(name,type(name))"
   ]
  },
  {
   "cell_type": "markdown",
   "id": "e45db672",
   "metadata": {},
   "source": [
    "# So we have understood is Whenever we get the user's input the type of that is always a string by default"
   ]
  },
  {
   "cell_type": "code",
   "execution_count": 19,
   "id": "5136c99e",
   "metadata": {},
   "outputs": [
    {
     "name": "stdout",
     "output_type": "stream",
     "text": [
      "Your First Number is : 22.0\n",
      "Your First Number is : 11.0\n",
      "Sum: 33.0\n",
      "Difference: 11.0\n",
      "Product: 242.0\n",
      "Quotient: 2.0\n"
     ]
    }
   ],
   "source": [
    "### Simple calculator\n",
    "num1 = float(input(\"Enter first number: \"))\n",
    "num2 = float(input(\"Enter second number: \"))\n",
    "\n",
    "sum = num1 + num2\n",
    "difference = num1 - num2\n",
    "product = num1 * num2\n",
    "quotient = num1 / num2\n",
    "\n",
    "print(\"Your First Number is : {}\".format(num1))\n",
    "print(\"Your First Number is : {}\".format(num2))\n",
    "print(\"Sum:\", sum)\n",
    "print(\"Difference:\", difference)\n",
    "print(\"Product:\", product)\n",
    "print(\"Quotient:\", quotient)"
   ]
  }
 ],
 "metadata": {
  "kernelspec": {
   "display_name": "Python 3",
   "language": "python",
   "name": "python3"
  },
  "language_info": {
   "codemirror_mode": {
    "name": "ipython",
    "version": 3
   },
   "file_extension": ".py",
   "mimetype": "text/x-python",
   "name": "python",
   "nbconvert_exporter": "python",
   "pygments_lexer": "ipython3",
   "version": "3.13.7"
  }
 },
 "nbformat": 4,
 "nbformat_minor": 5
}
