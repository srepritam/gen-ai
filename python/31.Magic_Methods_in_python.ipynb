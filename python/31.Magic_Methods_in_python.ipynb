{
 "cells": [
  {
   "cell_type": "markdown",
   "id": "25f282fa",
   "metadata": {},
   "source": [
    "# Magic Methods\n",
    "Magic methods in Python, also known as ***dunder*** methods **(double underscore methods)**, are special methods that start and end with ***double underscores***. These methods enable us to define the behavior of objects for ***built-in operations***, such as ***arithmetic operations, comparisons***, and more.\n",
    "\n",
    "# Magic Methods\n",
    "Magic methods are predefined methods in Python that we can override to change the behavior of your objects. Some common magic methods include:"
   ]
  },
  {
   "cell_type": "markdown",
   "id": "fed1fb5a",
   "metadata": {},
   "source": [
    "# Common Magic Method\n",
    "| Magic Method  | Purpose                               | Example Use       |\n",
    "| ------------- | ------------------------------------- | ----------------- |\n",
    "| `__init__`    | Constructor (initialize object)       | `obj = MyClass()` |\n",
    "| `__str__`     | String representation (`str()`)       | `print(obj)`      |\n",
    "| `__repr__`    | Official string for debugging         | `repr(obj)`       |\n",
    "| `__add__`     | Overload `+` operator                 | `obj1 + obj2`     |\n",
    "| `__sub__`     | Overload `-` operator                 | `obj1 - obj2`     |\n",
    "| `__eq__`      | Overload `==` operator                | `obj1 == obj2`    |\n",
    "| `__lt__`      | Overload `<` operator                 | `obj1 < obj2`     |\n",
    "| `__len__`     | Overload `len()`                      | `len(obj)`        |\n",
    "| `__call__`    | Makes object callable like a function | `obj()`           |\n",
    "| `__getitem__` | Access item using `obj[key]`          | `obj[0]`          |\n"
   ]
  },
  {
   "cell_type": "code",
   "execution_count": 10,
   "id": "9776e08b",
   "metadata": {},
   "outputs": [],
   "source": [
    "class Book:\n",
    "    def __init__(self, title, pages):\n",
    "        self.title = title\n",
    "        self.pages = pages\n",
    "\n",
    "    def __str__(self):\n",
    "        return f\"'{self.title}' with {self.pages} pages\"\n",
    "\n",
    "    def __len__(self):\n",
    "        return self.pages\n",
    "\n",
    "    def __eq__(self, other):\n",
    "        return self.pages == other.pages\n",
    "\n",
    "    def __add__(self, other):\n",
    "        return self.pages + other.pages\n"
   ]
  },
  {
   "cell_type": "code",
   "execution_count": 11,
   "id": "c55b2a33",
   "metadata": {},
   "outputs": [
    {
     "name": "stdout",
     "output_type": "stream",
     "text": [
      "'Python Basics' with 300 pages\n",
      "300\n",
      "False\n",
      "800\n"
     ]
    }
   ],
   "source": [
    "book1 = Book(\"Python Basics\", 300)\n",
    "book2 = Book(\"Advanced Python\", 500)\n",
    "\n",
    "print(book1)                  # __str__: 'Python Basics' with 300 pages\n",
    "print(len(book1))             # __len__: 300\n",
    "print(book1 == book2)         # __eq__: False\n",
    "print(book1 + book2)          # __add__: 800\n"
   ]
  },
  {
   "cell_type": "markdown",
   "id": "71fa1c0d",
   "metadata": {},
   "source": [
    "| Expression       | Calls Method | Result                           |\n",
    "| ---------------- | ------------ | -------------------------------- |\n",
    "| `print(book1)`   | `__str__`    | `'Python Basics' with 300 pages` |\n",
    "| `len(book1)`     | `__len__`    | `300`                            |\n",
    "| `book1 == book2` | `__eq__`     | `False`                          |\n",
    "| `book1 + book2`  | `__add__`    | `800` (Sum of pages)             |\n"
   ]
  },
  {
   "cell_type": "code",
   "execution_count": 3,
   "id": "bad23669",
   "metadata": {},
   "outputs": [
    {
     "data": {
      "text/plain": [
       "['__class__',\n",
       " '__delattr__',\n",
       " '__dict__',\n",
       " '__dir__',\n",
       " '__doc__',\n",
       " '__eq__',\n",
       " '__firstlineno__',\n",
       " '__format__',\n",
       " '__ge__',\n",
       " '__getattribute__',\n",
       " '__getstate__',\n",
       " '__gt__',\n",
       " '__hash__',\n",
       " '__init__',\n",
       " '__init_subclass__',\n",
       " '__le__',\n",
       " '__lt__',\n",
       " '__module__',\n",
       " '__ne__',\n",
       " '__new__',\n",
       " '__reduce__',\n",
       " '__reduce_ex__',\n",
       " '__repr__',\n",
       " '__setattr__',\n",
       " '__sizeof__',\n",
       " '__static_attributes__',\n",
       " '__str__',\n",
       " '__subclasshook__',\n",
       " '__weakref__']"
      ]
     },
     "execution_count": 3,
     "metadata": {},
     "output_type": "execute_result"
    }
   ],
   "source": [
    "class Person:\n",
    "    pass\n",
    "\n",
    "person=Person()\n",
    "dir(person) # These are the Magic Methods"
   ]
  },
  {
   "cell_type": "code",
   "execution_count": null,
   "id": "5a37aa4d",
   "metadata": {},
   "outputs": [
    {
     "name": "stdout",
     "output_type": "stream",
     "text": [
      "<__main__.Person object at 0x000001BA94978C20>\n"
     ]
    }
   ],
   "source": [
    "## Basics MEthods\n",
    "class Person:\n",
    "    def __init__(self,name,age):\n",
    "        self.name=name\n",
    "        self.age=age\n",
    "person=Person(\"Pritam\",32)\n",
    "print(person) # By default we will get this output"
   ]
  },
  {
   "cell_type": "code",
   "execution_count": 9,
   "id": "e1d09ee0",
   "metadata": {},
   "outputs": [
    {
     "name": "stdout",
     "output_type": "stream",
     "text": [
      "Pritam,32 years old\n",
      "Person(name=Pritam,age=32)\n"
     ]
    }
   ],
   "source": [
    "## Basics MEthods\n",
    "class Person:\n",
    "    def __init__(self,name,age):\n",
    "        self.name=name\n",
    "        self.age=age\n",
    "    \n",
    "    def __str__(self):\n",
    "        return f\"{self.name},{self.age} years old\" # Overriding the default functionality of the Magic Method\n",
    "    \n",
    "    def __repr__(self):\n",
    "        return f\"Person(name={self.name},age={self.age})\"\n",
    "    \n",
    "person=Person(\"Pritam\",32)\n",
    "print(person)\n",
    "print(repr(person))"
   ]
  },
  {
   "cell_type": "markdown",
   "id": "7e7d3036",
   "metadata": {},
   "source": []
  }
 ],
 "metadata": {
  "kernelspec": {
   "display_name": "Python 3",
   "language": "python",
   "name": "python3"
  },
  "language_info": {
   "codemirror_mode": {
    "name": "ipython",
    "version": 3
   },
   "file_extension": ".py",
   "mimetype": "text/x-python",
   "name": "python",
   "nbconvert_exporter": "python",
   "pygments_lexer": "ipython3",
   "version": "3.13.7"
  }
 },
 "nbformat": 4,
 "nbformat_minor": 5
}
