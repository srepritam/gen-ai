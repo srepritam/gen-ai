{
 "cells": [
  {
   "cell_type": "markdown",
   "id": "a0c66f02",
   "metadata": {},
   "source": [
    "# Operators in details"
   ]
  },
  {
   "cell_type": "markdown",
   "id": "177355a8",
   "metadata": {},
   "source": [
    "### 1. Arithmethic Operation\n",
    "\n"
   ]
  },
  {
   "cell_type": "markdown",
   "id": "32f1dfb1",
   "metadata": {},
   "source": []
  },
  {
   "cell_type": "code",
   "execution_count": 1,
   "id": "51578700",
   "metadata": {},
   "outputs": [
    {
     "name": "stdout",
     "output_type": "stream",
     "text": [
      "35\n",
      "25\n",
      "150\n",
      "6.0\n",
      "6\n",
      "0\n",
      "24300000\n"
     ]
    }
   ],
   "source": [
    "a = 30\n",
    "b = 5\n",
    "\n",
    "add_result = a+b  #addiiton\n",
    "sub_result = a-b  #substraction \n",
    "mult_result = a*b #multiplication\n",
    "div_result = a/b  #division\n",
    "floor_div_result = a//b ## floor division\n",
    "modulus_result = a%b #modulus operation\n",
    "\n",
    "exponent_result = a**b ## Exponentiation\n",
    "\n",
    "\n",
    "print(add_result)\n",
    "print(sub_result)\n",
    "print(mult_result)\n",
    "print(div_result)\n",
    "print(floor_div_result)\n",
    "print(modulus_result)\n",
    "print(exponent_result)"
   ]
  },
  {
   "cell_type": "markdown",
   "id": "77084de4",
   "metadata": {},
   "source": [
    "### 2. Comparison Operators"
   ]
  },
  {
   "cell_type": "code",
   "execution_count": 2,
   "id": "d7715d0d",
   "metadata": {},
   "outputs": [
    {
     "data": {
      "text/plain": [
       "True"
      ]
     },
     "execution_count": 2,
     "metadata": {},
     "output_type": "execute_result"
    }
   ],
   "source": [
    "## Comparison Operators\n",
    "## == Equal to\n",
    "\n",
    "a=10\n",
    "b=10\n",
    "\n",
    "a==b"
   ]
  },
  {
   "cell_type": "code",
   "execution_count": null,
   "id": "61cbd3a7",
   "metadata": {},
   "outputs": [
    {
     "data": {
      "text/plain": [
       "False"
      ]
     },
     "execution_count": 3,
     "metadata": {},
     "output_type": "execute_result"
    }
   ],
   "source": [
    "## Comparison Operators\n",
    "## != not Equal to\n",
    "a=10\n",
    "b=10\n",
    "\n",
    "a!=b"
   ]
  },
  {
   "cell_type": "code",
   "execution_count": 4,
   "id": "bf9670ad",
   "metadata": {},
   "outputs": [
    {
     "data": {
      "text/plain": [
       "True"
      ]
     },
     "execution_count": 4,
     "metadata": {},
     "output_type": "execute_result"
    }
   ],
   "source": [
    "## Comparison Operators\n",
    "## >= Greater Equal to\n",
    "a=11\n",
    "b=10\n",
    "\n",
    "a>=b"
   ]
  },
  {
   "cell_type": "code",
   "execution_count": 5,
   "id": "d75224d3",
   "metadata": {},
   "outputs": [
    {
     "data": {
      "text/plain": [
       "False"
      ]
     },
     "execution_count": 5,
     "metadata": {},
     "output_type": "execute_result"
    }
   ],
   "source": [
    "## Comparison Operators\n",
    "## <= Lesser Equal to\n",
    "a=11\n",
    "b=10\n",
    "\n",
    "a<=b"
   ]
  },
  {
   "cell_type": "markdown",
   "id": "055c4574",
   "metadata": {},
   "source": [
    "### 3. Logical Operators"
   ]
  },
  {
   "cell_type": "code",
   "execution_count": 6,
   "id": "9f829843",
   "metadata": {},
   "outputs": [
    {
     "name": "stdout",
     "output_type": "stream",
     "text": [
      "True\n"
     ]
    }
   ],
   "source": [
    "## And\n",
    "X=True\n",
    "Y=True\n",
    "\n",
    "result =X and Y\n",
    "print(result)"
   ]
  },
  {
   "cell_type": "code",
   "execution_count": null,
   "id": "92f08de5",
   "metadata": {},
   "outputs": [
    {
     "name": "stdout",
     "output_type": "stream",
     "text": [
      "True\n"
     ]
    }
   ],
   "source": [
    "## OR\n",
    "\n",
    "X=True\n",
    "Y=True\n",
    "\n",
    "result = X or Y\n",
    "print(result)"
   ]
  },
  {
   "cell_type": "code",
   "execution_count": 10,
   "id": "0bfb455b",
   "metadata": {},
   "outputs": [
    {
     "name": "stdout",
     "output_type": "stream",
     "text": [
      "not satisfy the comparison, So False\n"
     ]
    }
   ],
   "source": [
    "## OR\n",
    "\n",
    "X=10\n",
    "Y=5\n",
    "result=True\n",
    "\n",
    "if X+Y >= 15 and X-Y<=4:\n",
    "    result = True\n",
    "    print(\" satisfy the comparison, So {}\".format(result))\n",
    "\n",
    "else:\n",
    "    result = False\n",
    "    print(\"not satisfy the comparison, So {}\".format(result))\n",
    " \n",
    "\n"
   ]
  },
  {
   "cell_type": "code",
   "execution_count": 11,
   "id": "df985389",
   "metadata": {},
   "outputs": [
    {
     "name": "stdout",
     "output_type": "stream",
     "text": [
      " satisfy the comparison, So True\n"
     ]
    }
   ],
   "source": [
    "## OR\n",
    "\n",
    "X=10\n",
    "Y=5\n",
    "result=True\n",
    "\n",
    "if X+Y >= 15 and X-Y<=6:\n",
    "    result = True\n",
    "    print(\" satisfy the comparison, So {}\".format(result))\n",
    "\n",
    "else:\n",
    "    result = False\n",
    "    print(\"not satisfy the comparison, So {}\".format(result))"
   ]
  },
  {
   "cell_type": "code",
   "execution_count": 13,
   "id": "851257fd",
   "metadata": {},
   "outputs": [
    {
     "name": "stdout",
     "output_type": "stream",
     "text": [
      "Our First Number is 10.0 and our Second number is 5.0\n",
      "Addition: 15.0\n",
      "Subtraction: 5.0\n",
      "Multiplication: 50.0\n",
      "Division: 2.0\n",
      "Floor Division: 2.0\n",
      "Modulus: 0.0\n",
      "Exponentiation: 100000.0\n"
     ]
    }
   ],
   "source": [
    "## Simple Calculator\n",
    "\n",
    "# Simple calculator\n",
    "num1 = float(input(\"Enter first number: \"))\n",
    "num2 = float(input(\"Enter second number: \"))\n",
    "\n",
    "# Performing arithmetic operations\n",
    "addition = num1 + num2\n",
    "subtraction = num1 - num2\n",
    "multiplication = num1 * num2\n",
    "division = num1 / num2\n",
    "floor_division = num1 // num2\n",
    "modulus = num1 % num2\n",
    "exponentiation = num1 ** num2\n",
    "\n",
    "# Inputs\n",
    "print(\"Our First Number is {} and our Second number is {}\".format(num1,num2))\n",
    "# Displaying results\n",
    "print(\"Addition:\", addition)\n",
    "print(\"Subtraction:\", subtraction)\n",
    "print(\"Multiplication:\", multiplication)\n",
    "print(\"Division:\", division)\n",
    "print(\"Floor Division:\", floor_division)\n",
    "print(\"Modulus:\", modulus)\n",
    "print(\"Exponentiation:\", exponentiation)"
   ]
  }
 ],
 "metadata": {
  "kernelspec": {
   "display_name": "Python 3",
   "language": "python",
   "name": "python3"
  },
  "language_info": {
   "codemirror_mode": {
    "name": "ipython",
    "version": 3
   },
   "file_extension": ".py",
   "mimetype": "text/x-python",
   "name": "python",
   "nbconvert_exporter": "python",
   "pygments_lexer": "ipython3",
   "version": "3.13.7"
  }
 },
 "nbformat": 4,
 "nbformat_minor": 5
}
