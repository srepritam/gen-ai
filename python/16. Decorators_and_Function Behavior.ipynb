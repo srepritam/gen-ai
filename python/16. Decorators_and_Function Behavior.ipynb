{
 "cells": [
  {
   "cell_type": "markdown",
   "id": "f12dbb6f",
   "metadata": {},
   "source": [
    "# Decorators & Function Behavior"
   ]
  },
  {
   "cell_type": "markdown",
   "id": "de457755",
   "metadata": {},
   "source": [
    "# What Is a Decorator?\n",
    "\n",
    "A decorator in Python is a function that takes another function (or class) as an argument and returns a new function that enhances or modifies the behavior of the original."
   ]
  },
  {
   "cell_type": "markdown",
   "id": "3fbe51bf",
   "metadata": {},
   "source": [
    "# It’s often used for:\n",
    "\n",
    "Logging\n",
    "\n",
    "Authentication\n",
    "\n",
    "Timing\n",
    "\n",
    "Caching\n",
    "\n",
    "Validation\n",
    "\n",
    "Pre/post-processing logic"
   ]
  },
  {
   "cell_type": "markdown",
   "id": "6dcb6afa",
   "metadata": {},
   "source": []
  },
  {
   "cell_type": "code",
   "execution_count": 2,
   "id": "b15bafba",
   "metadata": {},
   "outputs": [],
   "source": [
    "def decorator_function(original_function):\n",
    "    def wrapper_function(*args, **kwargs):\n",
    "        print(f\"Before calling {original_function.__name__}\")\n",
    "        result = original_function(*args, **kwargs)\n",
    "        print(f\"After calling {original_function.__name__}\")\n",
    "        return result\n",
    "    return wrapper_function\n",
    "\n",
    "@decorator_function\n",
    "def greet(name):\n",
    "    print(f\"Hello, {name}!\")\n"
   ]
  },
  {
   "cell_type": "code",
   "execution_count": 3,
   "id": "87d47144",
   "metadata": {},
   "outputs": [
    {
     "name": "stdout",
     "output_type": "stream",
     "text": [
      "Before calling greet\n",
      "Hello, Pritam!\n",
      "After calling greet\n"
     ]
    }
   ],
   "source": [
    "greet(\"Pritam\")"
   ]
  },
  {
   "cell_type": "markdown",
   "id": "e2be0a4b",
   "metadata": {},
   "source": [
    "# Step-by-Step Breakdown"
   ]
  },
  {
   "cell_type": "markdown",
   "id": "e5268e02",
   "metadata": {},
   "source": [
    "### Step 1: Define the Decorator\n",
    "def decorator_function(original_function):\n",
    "\n",
    "This is a decorator function.\n",
    "\n",
    "It takes another function as an argument — here it will take greet."
   ]
  },
  {
   "cell_type": "markdown",
   "id": "b9991a6b",
   "metadata": {},
   "source": [
    "## Step 2: Define the Wrapper Inside It"
   ]
  },
  {
   "cell_type": "markdown",
   "id": "23b10c35",
   "metadata": {},
   "source": [
    "    def wrapper_function(*args, **kwargs):\n",
    "        print(f\"Before calling {original_function.__name__}\")\n",
    "        result = original_function(*args, **kwargs)\n",
    "        print(f\"After calling {original_function.__name__}\")\n",
    "        return result\n"
   ]
  },
  {
   "cell_type": "markdown",
   "id": "439a22a3",
   "metadata": {},
   "source": [
    "This is a nested function that wraps the original one.\n",
    "\n",
    "It :\n",
    "\n",
    "Prints something before calling the original function.\n",
    "\n",
    "Calls the original function with its arguments.\n",
    "\n",
    "Prints something after.\n",
    "\n",
    "Returns whatever the original function returns."
   ]
  },
  {
   "cell_type": "markdown",
   "id": "a1a2c22a",
   "metadata": {},
   "source": [
    "## Step 3: Return the Wrapper"
   ]
  },
  {
   "cell_type": "markdown",
   "id": "37d1f47d",
   "metadata": {},
   "source": [
    "return wrapper_function"
   ]
  },
  {
   "cell_type": "markdown",
   "id": "acfcd043",
   "metadata": {},
   "source": [
    "The outer function returns this wrapper, not the original function itself."
   ]
  },
  {
   "cell_type": "markdown",
   "id": "479cd31c",
   "metadata": {},
   "source": [
    "## Step 4: Decorate greet"
   ]
  },
  {
   "cell_type": "code",
   "execution_count": 6,
   "id": "0f1639c4",
   "metadata": {},
   "outputs": [],
   "source": [
    "@decorator_function\n",
    "def greet(name):\n",
    "    print(f\"Hello, {name}!\")"
   ]
  },
  {
   "cell_type": "markdown",
   "id": "7eaea7a6",
   "metadata": {},
   "source": [
    "This is syntactic sugar for:\n",
    "\n",
    "greet = decorator_function(greet)\n",
    "\n",
    "\n",
    "So the original greet() is replaced by wrapper_function().\n"
   ]
  },
  {
   "cell_type": "markdown",
   "id": "1af30da2",
   "metadata": {},
   "source": [
    "# Step 5: Call the Decorated Function"
   ]
  },
  {
   "cell_type": "markdown",
   "id": "0abb0a4b",
   "metadata": {},
   "source": [
    "greet(\"Pritam\")\n",
    "\n",
    "Now when you call greet(\"Pritam\"), you’re actually calling wrapper_function(\"Pritam\")."
   ]
  },
  {
   "cell_type": "markdown",
   "id": "1280e732",
   "metadata": {},
   "source": [
    "# Step 6: Output"
   ]
  },
  {
   "cell_type": "markdown",
   "id": "dece3856",
   "metadata": {},
   "source": [
    "The wrapper_function runs:\n",
    "\n",
    "print(\"Before calling greet\")\n",
    "\n",
    "Calls the original greet(\"Pritam\") → prints \"Hello, Pritam!\"\n",
    "\n",
    "print(\"After calling greet\")"
   ]
  },
  {
   "cell_type": "markdown",
   "id": "bff4b7c9",
   "metadata": {},
   "source": [
    "# How it is working internally "
   ]
  },
  {
   "cell_type": "markdown",
   "id": "fe4081fd",
   "metadata": {},
   "source": []
  },
  {
   "cell_type": "markdown",
   "id": "6c3b02d5",
   "metadata": {},
   "source": [
    "Our code:\n",
    "\n",
    "@decorator_function\n",
    "def greet(name):\n",
    "    ...\n",
    "\n",
    "Is transformed to:\n",
    "\n",
    "greet = decorator_function(greet)\n",
    "\n",
    "Which becomes:\n",
    "\n",
    "greet = wrapper_function  # returned by decorator_function\n",
    "\n",
    "Then:\n",
    "\n",
    "greet(\"Pritam\") → wrapper_function(\"Pritam\")\n"
   ]
  },
  {
   "cell_type": "markdown",
   "id": "7988b61a",
   "metadata": {},
   "source": [
    "# ❓ Question:\n",
    "\n",
    "\"Can you write a decorator that logs the execution time of any function it wraps?\""
   ]
  },
  {
   "cell_type": "code",
   "execution_count": 8,
   "id": "a04ca8a6",
   "metadata": {},
   "outputs": [
    {
     "name": "stdout",
     "output_type": "stream",
     "text": [
      "Done!\n"
     ]
    }
   ],
   "source": [
    "import time\n",
    "\n",
    "def time_logger(func):\n",
    "    def wrapper(*args, **kwargs):\n",
    "        start = time.time()\n",
    "        result = func(*args, **kwargs)\n",
    "        end = time.time()\n",
    "        print(f\"{func.__name__} executed in {end - start:.4f} seconds\")\n",
    "        return result\n",
    "    return wrapper\n",
    "\n",
    "# @time_logger\n",
    "def slow_function():\n",
    "    time.sleep(2)\n",
    "    print(\"Done!\")\n",
    "\n",
    "slow_function()\n"
   ]
  },
  {
   "cell_type": "code",
   "execution_count": 10,
   "id": "516d7630",
   "metadata": {},
   "outputs": [
    {
     "name": "stdout",
     "output_type": "stream",
     "text": [
      "Done!\n",
      "slow_function executed in 2.0010 seconds\n"
     ]
    }
   ],
   "source": [
    "import time\n",
    "\n",
    "def time_logger(func):\n",
    "    def wrapper(*args, **kwargs):\n",
    "        start = time.time()\n",
    "        result = func(*args, **kwargs)\n",
    "        end = time.time()\n",
    "        print(f\"{func.__name__} executed in {end - start:.4f} seconds\")\n",
    "        return result\n",
    "    return wrapper\n",
    "\n",
    "@time_logger\n",
    "def slow_function():\n",
    "    time.sleep(2)\n",
    "    print(\"Done!\")\n",
    "\n",
    "slow_function()"
   ]
  },
  {
   "cell_type": "markdown",
   "id": "5e8e2615",
   "metadata": {},
   "source": [
    "# Task: Write a decorator called authenticate that checks if a user is logged in (use a global user variable) before allowing access to a function."
   ]
  },
  {
   "cell_type": "code",
   "execution_count": 11,
   "id": "99f77d9f",
   "metadata": {},
   "outputs": [
    {
     "name": "stdout",
     "output_type": "stream",
     "text": [
      "Case 1: User not logged in\n",
      "Access denied. User is not authenticated.\n",
      "\n",
      "Case 2: User logs in\n",
      "Welcome to your dashboard!\n"
     ]
    }
   ],
   "source": [
    "# Global user object\n",
    "user = {\n",
    "    \"username\": \"john_doe\",\n",
    "    \"logged_in\": False  # Toggle to True to simulate login\n",
    "}\n",
    "\n",
    "# Decorator\n",
    "def authenticate(func):\n",
    "    def wrapper(*args, **kwargs):\n",
    "        if user.get(\"logged_in\"):\n",
    "            return func(*args, **kwargs)\n",
    "        else:\n",
    "            print(\"Access denied. User is not authenticated.\")\n",
    "    return wrapper\n",
    "\n",
    "# Function protected by decorator\n",
    "@authenticate\n",
    "def view_dashboard():\n",
    "    print(\"Welcome to your dashboard!\")\n",
    "\n",
    "# Test calls\n",
    "print(\"Case 1: User not logged in\")\n",
    "view_dashboard()\n",
    "\n",
    "print(\"\\nCase 2: User logs in\")\n",
    "user[\"logged_in\"] = True\n",
    "view_dashboard()\n"
   ]
  },
  {
   "cell_type": "markdown",
   "id": "87b87b9f",
   "metadata": {},
   "source": [
    "# Logging Decorator\n",
    "\n",
    "Logs the function name and arguments every time it's called."
   ]
  },
  {
   "cell_type": "code",
   "execution_count": 13,
   "id": "108f4625",
   "metadata": {},
   "outputs": [
    {
     "name": "stdout",
     "output_type": "stream",
     "text": [
      "[LOG] Calling add with args: (10, 20), kwargs: {}\n",
      "30\n",
      "[LOG] Calling add with args: (100, 32), kwargs: {}\n",
      "132\n"
     ]
    }
   ],
   "source": [
    "from functools import wraps\n",
    "\n",
    "def log(func):\n",
    "    @wraps(func)\n",
    "    def wrapper(*args, **kwargs):\n",
    "        print(f\"[LOG] Calling {func.__name__} with args: {args}, kwargs: {kwargs}\")\n",
    "        return func(*args, **kwargs)\n",
    "    return wrapper\n",
    "\n",
    "@log\n",
    "def add(a, b):\n",
    "    return a + b\n",
    "\n",
    "print(add(10, 20))  # Logs the call\n",
    "print(add(100, 32))  # Logs the call\n",
    "\n"
   ]
  },
  {
   "cell_type": "markdown",
   "id": "c0cb430f",
   "metadata": {},
   "source": [
    "# Timing Decorator\n",
    "\n",
    "Measures how long a function takes to run (used in performance tuning)."
   ]
  },
  {
   "cell_type": "code",
   "execution_count": 15,
   "id": "6dc30390",
   "metadata": {},
   "outputs": [
    {
     "name": "stdout",
     "output_type": "stream",
     "text": [
      "Done!\n",
      "[TIMER] slow_operation ran in 1.0009 seconds\n",
      "Done!\n",
      "[TIMER] slow_operation ran in 1.0014 seconds\n",
      "Done!\n",
      "[TIMER] slow_operation ran in 1.0006 seconds\n"
     ]
    }
   ],
   "source": [
    "import time\n",
    "from functools import wraps\n",
    "\n",
    "def timer(func):\n",
    "    @wraps(func)\n",
    "    def wrapper(*args, **kwargs):\n",
    "        start = time.time()\n",
    "        result = func(*args, **kwargs)\n",
    "        end = time.time()\n",
    "        print(f\"[TIMER] {func.__name__} ran in {end - start:.4f} seconds\")\n",
    "        return result\n",
    "    return wrapper\n",
    "\n",
    "@timer\n",
    "def slow_operation():\n",
    "    time.sleep(1)\n",
    "    print(\"Done!\")\n",
    "\n",
    "slow_operation()\n",
    "\n",
    "slow_operation()\n",
    "\n",
    "slow_operation()\n"
   ]
  },
  {
   "cell_type": "markdown",
   "id": "b61c948e",
   "metadata": {},
   "source": [
    "# Access Control Based on User Role\n",
    "\n",
    "Allows function to run only for admin users."
   ]
  },
  {
   "cell_type": "code",
   "execution_count": null,
   "id": "1a13f966",
   "metadata": {},
   "outputs": [
    {
     "name": "stdout",
     "output_type": "stream",
     "text": [
      "Access denied. guest role cannot access this.\n",
      "Access denied. guest role cannot access this.\n"
     ]
    }
   ],
   "source": [
    "user = {\n",
    "    \"username\": \"john_doe\",\n",
    "    \"role\": \"guest\"\n",
    "}\n",
    "\n",
    "def require_role(role):\n",
    "    def decorator(func):\n",
    "        def wrapper(*args, **kwargs):\n",
    "            if user.get(\"role\") == role:\n",
    "                return func(*args, **kwargs)\n",
    "            else:\n",
    "                print(f\"Access denied. {user['role']} role cannot access this.\")\n",
    "        return wrapper\n",
    "    return decorator\n",
    "\n",
    "@require_role(\"admin\")\n",
    "def delete_account():\n",
    "    print(\"Account deleted!\")\n",
    "\n",
    "delete_account()\n",
    "\n"
   ]
  },
  {
   "cell_type": "markdown",
   "id": "125f88b6",
   "metadata": {},
   "source": [
    "# BUT"
   ]
  },
  {
   "cell_type": "code",
   "execution_count": 18,
   "id": "26157ee9",
   "metadata": {},
   "outputs": [
    {
     "name": "stdout",
     "output_type": "stream",
     "text": [
      "Account deleted!\n"
     ]
    }
   ],
   "source": [
    "user = {\n",
    "    \"username\": \"Pritam\",\n",
    "    \"role\": \"admin\"\n",
    "}\n",
    "\n",
    "def require_role(role):\n",
    "    def decorator(func):\n",
    "        def wrapper(*args, **kwargs):\n",
    "            if user.get(\"role\") == role:\n",
    "                return func(*args, **kwargs)\n",
    "            else:\n",
    "                print(f\"Access denied. {user['role']} role cannot access this.\")\n",
    "        return wrapper\n",
    "    return decorator\n",
    "\n",
    "@require_role(\"admin\")\n",
    "def delete_account():\n",
    "    print(\"Account deleted!\")\n",
    "\n",
    "delete_account()"
   ]
  },
  {
   "cell_type": "code",
   "execution_count": 19,
   "id": "27ecb78c",
   "metadata": {},
   "outputs": [
    {
     "name": "stdout",
     "output_type": "stream",
     "text": [
      "Access denied. tester role cannot access this.\n"
     ]
    }
   ],
   "source": [
    "user = {\n",
    "    \"username\": \"Pritam\",\n",
    "    \"role\": \"admin\",\n",
    "    \"username\": \"Rahul\",\n",
    "    \"role\": \"tester\",\n",
    "\n",
    "}\n",
    "\n",
    "def require_role(role):\n",
    "    def decorator(func):\n",
    "        def wrapper(*args, **kwargs):\n",
    "            if user.get(\"role\") == role:\n",
    "                return func(*args, **kwargs)\n",
    "            else:\n",
    "                print(f\"Access denied. {user['role']} role cannot access this.\")\n",
    "        return wrapper\n",
    "    return decorator\n",
    "\n",
    "@require_role(\"admin\")\n",
    "def delete_account():\n",
    "    print(\"Account deleted!\")\n",
    "\n",
    "delete_account()"
   ]
  },
  {
   "cell_type": "markdown",
   "id": "4c3bbd86",
   "metadata": {},
   "source": [
    "# Retry Decorator\n",
    "\n",
    "Retries a function if it fails (useful in flaky network operations)."
   ]
  },
  {
   "cell_type": "code",
   "execution_count": 20,
   "id": "4dd07a37",
   "metadata": {},
   "outputs": [
    {
     "name": "stdout",
     "output_type": "stream",
     "text": [
      "Success!\n"
     ]
    }
   ],
   "source": [
    "import random\n",
    "from functools import wraps\n",
    "\n",
    "def retry(n):\n",
    "    def decorator(func):\n",
    "        @wraps(func)\n",
    "        def wrapper(*args, **kwargs):\n",
    "            for attempt in range(1, n + 1):\n",
    "                try:\n",
    "                    return func(*args, **kwargs)\n",
    "                except Exception as e:\n",
    "                    print(f\"Attempt {attempt} failed: {e}\")\n",
    "            print(\"All retry attempts failed.\")\n",
    "        return wrapper\n",
    "    return decorator\n",
    "\n",
    "@retry(3)\n",
    "def unstable_function():\n",
    "    if random.random() < 0.7:\n",
    "        raise Exception(\"Random failure\")\n",
    "    print(\"Success!\")\n",
    "\n",
    "unstable_function()\n"
   ]
  },
  {
   "cell_type": "markdown",
   "id": "87186249",
   "metadata": {},
   "source": [
    "# # Cache Decorator (Memoization)\n",
    "\n",
    "Stores previously computed values to save time."
   ]
  },
  {
   "cell_type": "code",
   "execution_count": 21,
   "id": "c4b42b31",
   "metadata": {},
   "outputs": [
    {
     "name": "stdout",
     "output_type": "stream",
     "text": [
      "832040\n"
     ]
    }
   ],
   "source": [
    "def memoize(func):\n",
    "    cache = {}\n",
    "    def wrapper(n):\n",
    "        if n not in cache:\n",
    "            cache[n] = func(n)\n",
    "        return cache[n]\n",
    "    return wrapper\n",
    "\n",
    "@memoize\n",
    "def fib(n):\n",
    "    if n <= 1:\n",
    "        return n\n",
    "    return fib(n - 1) + fib(n - 2)\n",
    "\n",
    "print(fib(30))  # Much faster due to caching\n"
   ]
  },
  {
   "cell_type": "markdown",
   "id": "798a4a14",
   "metadata": {},
   "source": [
    "# Validate Arguments\n",
    "\n",
    "Ensures arguments meet certain conditions before executing."
   ]
  },
  {
   "cell_type": "code",
   "execution_count": 22,
   "id": "d58609ee",
   "metadata": {},
   "outputs": [
    {
     "name": "stdout",
     "output_type": "stream",
     "text": [
      "4.0\n"
     ]
    }
   ],
   "source": [
    "def validate_positive(func):\n",
    "    def wrapper(x):\n",
    "        if x <= 0:\n",
    "            raise ValueError(\"Only positive numbers are allowed\")\n",
    "        return func(x)\n",
    "    return wrapper\n",
    "\n",
    "@validate_positive\n",
    "def square_root(x):\n",
    "    return x ** 0.5\n",
    "\n",
    "print(square_root(16))   # Works\n",
    "# print(square_root(-4)) # Raises ValueError\n"
   ]
  },
  {
   "cell_type": "markdown",
   "id": "35b749c2",
   "metadata": {},
   "source": [
    "# Multiple Decorators on One Function\n",
    "\n",
    "They stack — the closest to the function runs first."
   ]
  },
  {
   "cell_type": "code",
   "execution_count": 23,
   "id": "97a7bddd",
   "metadata": {},
   "outputs": [
    {
     "name": "stdout",
     "output_type": "stream",
     "text": [
      "Decorator 1\n",
      "Decorator 2\n",
      "Hello!\n"
     ]
    }
   ],
   "source": [
    "def decorator1(func):\n",
    "    def wrapper(*args, **kwargs):\n",
    "        print(\"Decorator 1\")\n",
    "        return func(*args, **kwargs)\n",
    "    return wrapper\n",
    "\n",
    "def decorator2(func):\n",
    "    def wrapper(*args, **kwargs):\n",
    "        print(\"Decorator 2\")\n",
    "        return func(*args, **kwargs)\n",
    "    return wrapper\n",
    "\n",
    "@decorator1\n",
    "@decorator2\n",
    "def hello():\n",
    "    print(\"Hello!\")\n",
    "\n",
    "hello()\n"
   ]
  },
  {
   "cell_type": "markdown",
   "id": "13773b79",
   "metadata": {},
   "source": [
    "# Decorator to Throttle Function Calls\n",
    "\n",
    "Goal: Prevent a function from being called more than once every X seconds."
   ]
  },
  {
   "cell_type": "code",
   "execution_count": 24,
   "id": "cae2251b",
   "metadata": {},
   "outputs": [
    {
     "name": "stdout",
     "output_type": "stream",
     "text": [
      "Hello, you called the function!\n",
      "Throttled! Please wait 5.00 seconds.\n",
      "Hello, you called the function!\n"
     ]
    }
   ],
   "source": [
    "import time\n",
    "from functools import wraps\n",
    "\n",
    "def throttle(seconds):\n",
    "    def decorator(func):\n",
    "        last_called = [0]  # Use a list to store mutable last call timestamp\n",
    "\n",
    "        @wraps(func)\n",
    "        def wrapper(*args, **kwargs):\n",
    "            now = time.time()\n",
    "            if now - last_called[0] < seconds:\n",
    "                print(f\"Throttled! Please wait {seconds - (now - last_called[0]):.2f} seconds.\")\n",
    "                return\n",
    "            last_called[0] = now\n",
    "            return func(*args, **kwargs)\n",
    "        return wrapper\n",
    "    return decorator\n",
    "\n",
    "# Example usage\n",
    "@throttle(5)  # Allow function call only once every 5 seconds\n",
    "def greet():\n",
    "    print(\"Hello, you called the function!\")\n",
    "\n",
    "# Testing the throttled function\n",
    "if __name__ == \"__main__\":\n",
    "    greet()      # Should work\n",
    "    greet()      # Should be throttled\n",
    "    time.sleep(5)\n",
    "    greet()      # Should work again\n"
   ]
  },
  {
   "cell_type": "markdown",
   "id": "8c6883b3",
   "metadata": {},
   "source": [
    "# Decorator to Count How Many Times a Function Has Been Called\n",
    "\n",
    "Goal: Track how many times a function has been invoked during program execution."
   ]
  },
  {
   "cell_type": "code",
   "execution_count": 25,
   "id": "fabf739d",
   "metadata": {},
   "outputs": [
    {
     "name": "stdout",
     "output_type": "stream",
     "text": [
      "[INFO] greet has been called 1 times.\n",
      "Hello there!\n",
      "[INFO] greet has been called 2 times.\n",
      "Hello there!\n",
      "[INFO] greet has been called 3 times.\n",
      "Hello there!\n",
      "\n",
      "[SUMMARY] Call counts:\n",
      "{'greet': 3}\n"
     ]
    }
   ],
   "source": [
    "from functools import wraps\n",
    "\n",
    "# Dictionary to track function call counts\n",
    "call_counts = {}\n",
    "\n",
    "def count_calls(func):\n",
    "    call_counts[func.__name__] = 0\n",
    "\n",
    "    @wraps(func)\n",
    "    def wrapper(*args, **kwargs):\n",
    "        call_counts[func.__name__] += 1\n",
    "        print(f\"[INFO] {func.__name__} has been called {call_counts[func.__name__]} times.\")\n",
    "        return func(*args, **kwargs)\n",
    "    return wrapper\n",
    "\n",
    "# Example usage\n",
    "@count_calls\n",
    "def greet():\n",
    "    print(\"Hello there!\")\n",
    "\n",
    "# Testing\n",
    "if __name__ == \"__main__\":\n",
    "    greet()\n",
    "    greet()\n",
    "    greet()\n",
    "\n",
    "    print(\"\\n[SUMMARY] Call counts:\")\n",
    "    print(call_counts)\n"
   ]
  },
  {
   "cell_type": "markdown",
   "id": "3ce0450e",
   "metadata": {},
   "source": [
    "# Question:\n",
    "Create three decorators:\n",
    "\n",
    "@authenticate — allows function execution only if a global user is logged in.\n",
    "\n",
    "@retry(n) — retries the decorated function up to n times if it raises an exception.\n",
    "\n",
    "@log — logs the function name and arguments each time it is called.\n",
    "\n",
    "Then, apply all three decorators to a function and demonstrate how they work together."
   ]
  },
  {
   "cell_type": "code",
   "execution_count": 27,
   "id": "976fa5ec",
   "metadata": {},
   "outputs": [
    {
     "name": "stdout",
     "output_type": "stream",
     "text": [
      "[LOG] Calling unstable_action with args=(), kwargs={}\n",
      "Attempting unstable action...\n",
      "Action succeeded!\n"
     ]
    }
   ],
   "source": [
    "import random\n",
    "from functools import wraps\n",
    "\n",
    "# Global user state\n",
    "user = {\n",
    "    \"username\": \"alice\",\n",
    "    \"logged_in\": True  # Change to False to test authentication block\n",
    "}\n",
    "\n",
    "# 1. Authenticate decorator\n",
    "def authenticate(func):\n",
    "    @wraps(func)\n",
    "    def wrapper(*args, **kwargs):\n",
    "        if user.get(\"logged_in\"):\n",
    "            return func(*args, **kwargs)\n",
    "        else:\n",
    "            print(\"Access denied. Please log in.\")\n",
    "    return wrapper\n",
    "\n",
    "# 2. Retry decorator\n",
    "def retry(n):\n",
    "    def decorator(func):\n",
    "        @wraps(func)\n",
    "        def wrapper(*args, **kwargs):\n",
    "            for attempt in range(1, n + 1):\n",
    "                try:\n",
    "                    return func(*args, **kwargs)\n",
    "                except Exception as e:\n",
    "                    print(f\"[Retry {attempt}/{n}] Exception: {e}\")\n",
    "            print(\"[Failure] All retry attempts failed.\")\n",
    "        return wrapper\n",
    "    return decorator\n",
    "\n",
    "# 3. Log decorator\n",
    "def log(func):\n",
    "    @wraps(func)\n",
    "    def wrapper(*args, **kwargs):\n",
    "        print(f\"[LOG] Calling {func.__name__} with args={args}, kwargs={kwargs}\")\n",
    "        return func(*args, **kwargs)\n",
    "    return wrapper\n",
    "\n",
    "# Example function using all decorators\n",
    "@authenticate\n",
    "@retry(3)\n",
    "@log\n",
    "def unstable_action():\n",
    "    print(\"Attempting unstable action...\")\n",
    "    # Random failure simulation\n",
    "    if random.random() < 0.7:\n",
    "        raise Exception(\"Random failure!\")\n",
    "    print(\"Action succeeded!\")\n",
    "\n",
    "# Test the decorated function\n",
    "if __name__ == \"__main__\":\n",
    "    unstable_action()\n"
   ]
  },
  {
   "cell_type": "markdown",
   "id": "c87aef3d",
   "metadata": {},
   "source": [
    "# Explanation\n",
    "\n",
    "@authenticate: Checks if the user is logged in before running the function.\n",
    "\n",
    "@retry(3): Retries the function up to 3 times if it throws an exception.\n",
    "\n",
    "@log: Prints a log statement with the function name and arguments on every call.\n",
    "\n",
    "The decorators are applied from the bottom up, so @log wraps unstable_action, then @retry wraps that, then @authenticate wraps the entire thing."
   ]
  }
 ],
 "metadata": {
  "kernelspec": {
   "display_name": "Python 3",
   "language": "python",
   "name": "python3"
  },
  "language_info": {
   "codemirror_mode": {
    "name": "ipython",
    "version": 3
   },
   "file_extension": ".py",
   "mimetype": "text/x-python",
   "name": "python",
   "nbconvert_exporter": "python",
   "pygments_lexer": "ipython3",
   "version": "3.13.7"
  }
 },
 "nbformat": 4,
 "nbformat_minor": 5
}
