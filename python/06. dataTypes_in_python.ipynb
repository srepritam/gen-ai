{
 "cells": [
  {
   "cell_type": "markdown",
   "id": "72dafa56",
   "metadata": {},
   "source": [
    "# DataTypes\n",
    "### 1. Definition:\n",
    "## Data types are a classification of data which tell the compiler or interpreter how the programmer intends to use the data.\n",
    "## They determine the type of operations that can be performed on the data, the values that the data can take, and the amount of memory needed to store the data.\n",
    "### 2. Importance of Data Types in Programming\n",
    "## Explanation:\n",
    "## Data types ensure that data is stored in an efficient way.\n",
    "## They help in performing correct operations on data.\n",
    "## Proper use of data types can prevent errors and bugs in the program.\n"
   ]
  },
  {
   "cell_type": "code",
   "execution_count": 1,
   "id": "68c4b1c3",
   "metadata": {},
   "outputs": [
    {
     "data": {
      "text/plain": [
       "int"
      ]
     },
     "execution_count": 1,
     "metadata": {},
     "output_type": "execute_result"
    }
   ],
   "source": [
    "### Integer Example\n",
    "age=30\n",
    "type(age)"
   ]
  },
  {
   "cell_type": "code",
   "execution_count": 2,
   "id": "b1a88826",
   "metadata": {},
   "outputs": [
    {
     "name": "stdout",
     "output_type": "stream",
     "text": [
      "5.71\n",
      "<class 'float'>\n"
     ]
    }
   ],
   "source": [
    "##floating point datatype\n",
    "height=5.71\n",
    "print(height)\n",
    "print(type(height))"
   ]
  },
  {
   "cell_type": "code",
   "execution_count": 3,
   "id": "158faa7d",
   "metadata": {},
   "outputs": [
    {
     "name": "stdout",
     "output_type": "stream",
     "text": [
      "Pritam\n",
      "<class 'str'>\n"
     ]
    }
   ],
   "source": [
    "## string datatype example\n",
    "name=\"Pritam\"\n",
    "print(name)\n",
    "print(type(name))"
   ]
  },
  {
   "cell_type": "code",
   "execution_count": 4,
   "id": "e4b6c8c4",
   "metadata": {},
   "outputs": [
    {
     "data": {
      "text/plain": [
       "bool"
      ]
     },
     "execution_count": 4,
     "metadata": {},
     "output_type": "execute_result"
    }
   ],
   "source": [
    "## boolean datatype\n",
    "is_true=True\n",
    "type(is_true)"
   ]
  },
  {
   "cell_type": "code",
   "execution_count": 5,
   "id": "79ab5089",
   "metadata": {},
   "outputs": [
    {
     "data": {
      "text/plain": [
       "bool"
      ]
     },
     "execution_count": 5,
     "metadata": {},
     "output_type": "execute_result"
    }
   ],
   "source": [
    "a=10\n",
    "b=10\n",
    "\n",
    "type(a==b) # We use it in the comparison"
   ]
  },
  {
   "cell_type": "code",
   "execution_count": 6,
   "id": "a9630a19",
   "metadata": {},
   "outputs": [
    {
     "ename": "TypeError",
     "evalue": "can only concatenate str (not \"int\") to str",
     "output_type": "error",
     "traceback": [
      "\u001b[31m---------------------------------------------------------------------------\u001b[39m",
      "\u001b[31mTypeError\u001b[39m                                 Traceback (most recent call last)",
      "\u001b[36mCell\u001b[39m\u001b[36m \u001b[39m\u001b[32mIn[6]\u001b[39m\u001b[32m, line 5\u001b[39m\n\u001b[32m      1\u001b[39m \u001b[38;5;66;03m# Error we can have\u001b[39;00m\n\u001b[32m      2\u001b[39m \u001b[38;5;66;03m# Sometime we try to do operations in two different type of data Type\u001b[39;00m\n\u001b[32m      3\u001b[39m \u001b[38;5;66;03m# Example of common errors\u001b[39;00m\n\u001b[32m----> \u001b[39m\u001b[32m5\u001b[39m result=\u001b[33;43m\"\u001b[39;49m\u001b[33;43mPritam\u001b[39;49m\u001b[33;43m\"\u001b[39;49m\u001b[43m \u001b[49m\u001b[43m+\u001b[49m\u001b[43m \u001b[49m\u001b[32;43m5\u001b[39;49m\n",
      "\u001b[31mTypeError\u001b[39m: can only concatenate str (not \"int\") to str"
     ]
    }
   ],
   "source": [
    "# Error we can have\n",
    "# Sometime we try to do operations in two different type of data Type\n",
    "# Example of common errors\n",
    "\n",
    "result=\"Pritam\" + 5"
   ]
  },
  {
   "cell_type": "code",
   "execution_count": 7,
   "id": "88a25b79",
   "metadata": {},
   "outputs": [
    {
     "name": "stdout",
     "output_type": "stream",
     "text": [
      "Pritam5\n"
     ]
    }
   ],
   "source": [
    "# But we can do like this \n",
    "result=\"Pritam\" + str(5)\n",
    "print(result)"
   ]
  },
  {
   "cell_type": "code",
   "execution_count": 9,
   "id": "638e204c",
   "metadata": {},
   "outputs": [
    {
     "name": "stdout",
     "output_type": "stream",
     "text": [
      "12.1\n"
     ]
    }
   ],
   "source": [
    "a = 10.1\n",
    "b = 2\n",
    "print(a+b) # int + float = float"
   ]
  }
 ],
 "metadata": {
  "kernelspec": {
   "display_name": "Python 3",
   "language": "python",
   "name": "python3"
  },
  "language_info": {
   "codemirror_mode": {
    "name": "ipython",
    "version": 3
   },
   "file_extension": ".py",
   "mimetype": "text/x-python",
   "name": "python",
   "nbconvert_exporter": "python",
   "pygments_lexer": "ipython3",
   "version": "3.13.7"
  }
 },
 "nbformat": 4,
 "nbformat_minor": 5
}
