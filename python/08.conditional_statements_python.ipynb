{
 "cells": [
  {
   "cell_type": "markdown",
   "id": "e1de0931",
   "metadata": {},
   "source": [
    "# Conditional Statements (if, elif, else)"
   ]
  },
  {
   "cell_type": "markdown",
   "id": "0661a028",
   "metadata": {},
   "source": [
    "## 1. if statement"
   ]
  },
  {
   "cell_type": "code",
   "execution_count": 1,
   "id": "965be34d",
   "metadata": {},
   "outputs": [
    {
     "name": "stdout",
     "output_type": "stream",
     "text": [
      "You are allowed to vote in the elections\n"
     ]
    }
   ],
   "source": [
    "\n",
    "age=20\n",
    "\n",
    "if age>=18:\n",
    "    print(\"You are allowed to vote in the elections\")"
   ]
  },
  {
   "cell_type": "markdown",
   "id": "fe2a34dd",
   "metadata": {},
   "source": [
    "## 2. if-else"
   ]
  },
  {
   "cell_type": "code",
   "execution_count": 2,
   "id": "155d3dde",
   "metadata": {},
   "outputs": [
    {
     "name": "stdout",
     "output_type": "stream",
     "text": [
      "You are a minor\n"
     ]
    }
   ],
   "source": [
    "\n",
    "## The else statement executes a block of code if the condition in the if statement is False.\n",
    "\n",
    "age=16\n",
    "\n",
    "if age>=18:\n",
    "    print(\"You are eligible for voting\")\n",
    "else:\n",
    "    print(\"You are a minor\")"
   ]
  },
  {
   "cell_type": "markdown",
   "id": "ef8ee746",
   "metadata": {},
   "source": []
  },
  {
   "cell_type": "markdown",
   "id": "0514af42",
   "metadata": {},
   "source": [
    "## 3. if-elif-else\n",
    "## The elif statement allows you to check multiple conditions. It stands for \"else if\""
   ]
  },
  {
   "cell_type": "code",
   "execution_count": 3,
   "id": "d79d9d28",
   "metadata": {},
   "outputs": [
    {
     "name": "stdout",
     "output_type": "stream",
     "text": [
      "You are a teenager\n"
     ]
    }
   ],
   "source": [
    "age=17\n",
    "\n",
    "if age<13:\n",
    "    print(\"You are a child\")\n",
    "elif age<18:\n",
    "    print(\"You are a teenager\")\n",
    "else:\n",
    "    print(\"You are an adult\")"
   ]
  },
  {
   "cell_type": "markdown",
   "id": "d9f09207",
   "metadata": {},
   "source": []
  },
  {
   "cell_type": "markdown",
   "id": "026ec6bf",
   "metadata": {},
   "source": [
    "## 4.  Nested Condiitonal Statements\n",
    "\n",
    "# We can place one or more if, elif, or else statements inside another if, elif, or else statement to create nested conditional statements.\n"
   ]
  },
  {
   "cell_type": "code",
   "execution_count": 5,
   "id": "e138623a",
   "metadata": {},
   "outputs": [
    {
     "name": "stdout",
     "output_type": "stream",
     "text": [
      "You have entered : 7\n",
      "The number is positive\n",
      "The number is odd\n"
     ]
    }
   ],
   "source": [
    "## number even ,odd,negative\n",
    "\n",
    "num=int(input(\"Enter the number\"))\n",
    "\n",
    "if num>0:\n",
    "    print(\"You have entered : {}\".format(num))\n",
    "    print(\"The number is positive\")\n",
    "    if num%2==0:\n",
    "        print(\"The number is even\")\n",
    "    else:\n",
    "        print(\"The number is odd\")\n",
    "\n",
    "else:\n",
    "    print(\"The number is zero or negative\")"
   ]
  },
  {
   "cell_type": "code",
   "execution_count": null,
   "id": "4d5f90fd",
   "metadata": {},
   "outputs": [
    {
     "name": "stdout",
     "output_type": "stream",
     "text": [
      "you choose : 2025\n",
      "2025 is not a leap year\n"
     ]
    }
   ],
   "source": [
    "## Determine if a year is a leap year using nested condition statement\n",
    "\n",
    "year=int(input(\"Enter the year\"))\n",
    "print(\"you choose : {}\".format(year))\n",
    "\n",
    "#Just putting multiple conditions\n",
    "if year%4==0:\n",
    "    if year%100==0:\n",
    "        if year%400==0:\n",
    "            print(year,\"is a leap year\")\n",
    "        else:\n",
    "            print(year,\"is not a leap year\")\n",
    "    else:\n",
    "        print(year,\"is a leap year\")\n",
    "\n",
    "else:\n",
    "    print(year,\"is not a leap year\")"
   ]
  },
  {
   "cell_type": "markdown",
   "id": "cbac2dfa",
   "metadata": {},
   "source": []
  },
  {
   "cell_type": "markdown",
   "id": "c3ba37f2",
   "metadata": {},
   "source": [
    "## 5. Case"
   ]
  },
  {
   "cell_type": "code",
   "execution_count": 10,
   "id": "d36f6640",
   "metadata": {},
   "outputs": [
    {
     "name": "stdout",
     "output_type": "stream",
     "text": [
      "You choose to sunsrraction of 12.0 and 7.0\n",
      "Result: 5.0\n"
     ]
    }
   ],
   "source": [
    "## Simple Calculator program\n",
    "# Take user input\n",
    "num1 = float(input(\"Enter first number: \"))\n",
    "num2 = float(input(\"Enter second number: \"))\n",
    "operation = input(\"Enter operation (+, -, *, /): \")\n",
    "\n",
    "# case\n",
    "# Match to predefined patterns\n",
    "match operation:\n",
    "    case \"+\" :\n",
    "        print(\"You choose to addition of {} and {}\".format(num1,num2))  \n",
    "        result = num1 + num2\n",
    "    case \"-\" :\n",
    "        print(\"You choose to sunsrraction of {} and {}\".format(num1,num2))  \n",
    "        result = num1 - num2\n",
    "    case \"*\" :\n",
    "        print(\"You choose to multiplication of {} and {}\".format(num1,num2))  \n",
    "        result = num1 * num2\n",
    "    case \"/\" :\n",
    "        print(\"You choose to divsion of {} and {}\".format(num1,num2))  \n",
    "        if num2 != 0:\n",
    "            result = num1 / num2\n",
    "        else:\n",
    "            result = \"Error! Division by zero.\"\n",
    "\n",
    "\n",
    "\n",
    "\n",
    "\n",
    "# Perform the requested operation\n",
    "# We can alos use if-else for this operation\n",
    "# if operation == '+':\n",
    "#     result = num1 + num2\n",
    "# elif operation == '-':\n",
    "#     result = num1 - num2\n",
    "# elif operation == '*':\n",
    "#     result = num1 * num2\n",
    "# elif operation == '/':\n",
    "#     if num2 != 0:\n",
    "#         result = num1 / num2\n",
    "#     else:\n",
    "#         result = \"Error! Division by zero.\"\n",
    "# else:\n",
    "#     result = \"Invalid operation.\"\n",
    "\n",
    "print(\"Result:\", result)"
   ]
  },
  {
   "cell_type": "markdown",
   "id": "e590c27a",
   "metadata": {},
   "source": []
  },
  {
   "cell_type": "code",
   "execution_count": 19,
   "id": "483e5b14",
   "metadata": {},
   "outputs": [
    {
     "name": "stdout",
     "output_type": "stream",
     "text": [
      "You are 31 years old and you mentioned that your student status is : no, so your Ticket price is $30\n"
     ]
    }
   ],
   "source": [
    "### Determine the ticket price based on age and whether the person is a student.\n",
    "# Ticket pricing based on age and student status\n",
    "\n",
    "# Take user input\n",
    "age = int(input(\"Enter your age: \"))\n",
    "is_student = input(\"Are you a student? (yes/no): \").lower()\n",
    "\n",
    "# Determine ticket price\n",
    "if age < 5:\n",
    "    price = \"Free\"\n",
    "elif age <= 12:\n",
    "    if is_student == 'yes':\n",
    "        price = \"$5\"\n",
    "    else : price = \"$8\"\n",
    "\n",
    "\n",
    "    \n",
    "elif age <= 17:\n",
    "    if is_student == 'yes':\n",
    "        price = \"$12\"\n",
    "    else:\n",
    "        price = \"$15\"\n",
    "elif age <= 30 and age>=18:\n",
    "    if is_student == 'yes':\n",
    "        price = \"$18\"\n",
    "    else:\n",
    "        price = \"$25\"\n",
    "elif  age >=60:\n",
    "    price = \"Free\"\n",
    "\n",
    "else:\n",
    "    price = \"$30\"\n",
    "\n",
    "print(\"You are {} years old and you mentioned that your student status is : {}, so your Ticket price is {}\".format(age,is_student,price))\n"
   ]
  },
  {
   "cell_type": "code",
   "execution_count": null,
   "id": "b715d4e1",
   "metadata": {},
   "outputs": [],
   "source": []
  }
 ],
 "metadata": {
  "kernelspec": {
   "display_name": "Python 3",
   "language": "python",
   "name": "python3"
  },
  "language_info": {
   "codemirror_mode": {
    "name": "ipython",
    "version": 3
   },
   "file_extension": ".py",
   "mimetype": "text/x-python",
   "name": "python",
   "nbconvert_exporter": "python",
   "pygments_lexer": "ipython3",
   "version": "3.13.7"
  }
 },
 "nbformat": 4,
 "nbformat_minor": 5
}
