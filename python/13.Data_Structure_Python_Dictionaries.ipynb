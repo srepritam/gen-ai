{
 "cells": [
  {
   "cell_type": "markdown",
   "id": "0f4e4c23",
   "metadata": {},
   "source": [
    "# Dictionaries\n",
    "Dictionaries are unordered collections of items. They store data in key-value pairs.\n",
    "Keys must be unique and immutable (e.g., strings, numbers, or tuples), while values can be of any type.\n",
    "Means once we declare the keys, those can not be changed only we can change the value"
   ]
  },
  {
   "cell_type": "code",
   "execution_count": 1,
   "id": "f62fbede",
   "metadata": {},
   "outputs": [
    {
     "name": "stdout",
     "output_type": "stream",
     "text": [
      "<class 'dict'>\n"
     ]
    }
   ],
   "source": [
    "## Creating Dictionaries\n",
    "empty_dict={}\n",
    "print(type(empty_dict))"
   ]
  },
  {
   "cell_type": "markdown",
   "id": "d4aa74da",
   "metadata": {},
   "source": []
  },
  {
   "cell_type": "code",
   "execution_count": 3,
   "id": "fe178970",
   "metadata": {},
   "outputs": [
    {
     "data": {
      "text/plain": [
       "{}"
      ]
     },
     "execution_count": 3,
     "metadata": {},
     "output_type": "execute_result"
    }
   ],
   "source": [
    "empty_dict=dict() # Another way to create the dict\n",
    "empty_dict"
   ]
  },
  {
   "cell_type": "code",
   "execution_count": 4,
   "id": "ae5d0107",
   "metadata": {},
   "outputs": [
    {
     "name": "stdout",
     "output_type": "stream",
     "text": [
      "{'name': 'Pritam', 'age': 30, 'Country': 'India'}\n",
      "<class 'dict'>\n"
     ]
    }
   ],
   "source": [
    "student={\"name\":\"Pritam\",\"age\":30,\"Country\":\"India\"}\n",
    "print(student)\n",
    "print(type(student))"
   ]
  },
  {
   "cell_type": "code",
   "execution_count": 5,
   "id": "fc98191b",
   "metadata": {},
   "outputs": [
    {
     "name": "stdout",
     "output_type": "stream",
     "text": [
      "{'name': 'India', 'age': 30}\n"
     ]
    }
   ],
   "source": [
    "# Single key is slways used\n",
    "student={\"name\":\"Pritam\",\"age\":30,\"name\":\"India\"}\n",
    "print(student)"
   ]
  },
  {
   "cell_type": "markdown",
   "id": "fa473e48",
   "metadata": {},
   "source": [
    "# Here only the recent value of the Key will be printed. In this example the recent value of the key name is India"
   ]
  },
  {
   "cell_type": "code",
   "execution_count": 6,
   "id": "ae9df032",
   "metadata": {},
   "outputs": [
    {
     "name": "stdout",
     "output_type": "stream",
     "text": [
      "{'name': 'Pritam', 'age': 30, 'grade': 'A'}\n"
     ]
    }
   ],
   "source": [
    "## accessing Dictionary Elements\n",
    "student={\"name\":\"Pritam\",\"age\":30,\"grade\":'A'}\n",
    "print(student)"
   ]
  },
  {
   "cell_type": "code",
   "execution_count": 7,
   "id": "5ca15a36",
   "metadata": {},
   "outputs": [
    {
     "name": "stdout",
     "output_type": "stream",
     "text": [
      "A\n",
      "30\n",
      "A\n",
      "None\n"
     ]
    }
   ],
   "source": [
    "## Accessing Dictionary elements\n",
    "print(student['grade'])\n",
    "print(student['age'])\n",
    "\n",
    "## Accessing using get() method\n",
    "print(student.get('grade'))\n",
    "print(student.get('last_name'))"
   ]
  },
  {
   "cell_type": "code",
   "execution_count": 9,
   "id": "c3008d75",
   "metadata": {},
   "outputs": [
    {
     "name": "stdout",
     "output_type": "stream",
     "text": [
      "Not Available\n"
     ]
    }
   ],
   "source": [
    "print(student.get('last_name',\"Not Available\")) # If the Key is not there then insted of None it will print Not Available"
   ]
  },
  {
   "cell_type": "markdown",
   "id": "5afcd91b",
   "metadata": {},
   "source": [
    "# ## Modifying Dicitonary Elements\n",
    "## Dictionary are mutable,so we can add, update or delete elements"
   ]
  },
  {
   "cell_type": "code",
   "execution_count": 10,
   "id": "b26f4b10",
   "metadata": {},
   "outputs": [
    {
     "name": "stdout",
     "output_type": "stream",
     "text": [
      "{'name': 'Pritam', 'age': 30, 'grade': 'A'}\n"
     ]
    }
   ],
   "source": [
    "\n",
    "print(student)"
   ]
  },
  {
   "cell_type": "code",
   "execution_count": 11,
   "id": "d3186a52",
   "metadata": {},
   "outputs": [
    {
     "name": "stdout",
     "output_type": "stream",
     "text": [
      "{'name': 'Pritam', 'age': 33, 'grade': 'A'}\n",
      "{'name': 'Pritam', 'age': 33, 'grade': 'A', 'address': 'India'}\n"
     ]
    }
   ],
   "source": [
    "student[\"age\"]=33  ##update value for the key\n",
    "print(student)\n",
    "student[\"address\"]=\"India\" ## added a new key and value\n",
    "print(student)"
   ]
  },
  {
   "cell_type": "markdown",
   "id": "b1360666",
   "metadata": {},
   "source": [
    "## delete key and value pair"
   ]
  },
  {
   "cell_type": "code",
   "execution_count": 12,
   "id": "8913a173",
   "metadata": {},
   "outputs": [
    {
     "name": "stdout",
     "output_type": "stream",
     "text": [
      "{'name': 'Pritam', 'age': 33, 'address': 'India'}\n"
     ]
    }
   ],
   "source": [
    "del student['grade'] \n",
    "\n",
    "print(student)"
   ]
  },
  {
   "cell_type": "markdown",
   "id": "e96399bb",
   "metadata": {},
   "source": [
    "## Dictionary methods"
   ]
  },
  {
   "cell_type": "code",
   "execution_count": 13,
   "id": "0e05be58",
   "metadata": {},
   "outputs": [
    {
     "name": "stdout",
     "output_type": "stream",
     "text": [
      "dict_keys(['name', 'age', 'address'])\n",
      "dict_values(['Pritam', 33, 'India'])\n",
      "dict_items([('name', 'Pritam'), ('age', 33), ('address', 'India')])\n"
     ]
    }
   ],
   "source": [
    "keys=student.keys() ##get all the keys\n",
    "print(keys)\n",
    "values=student.values() ##get all values\n",
    "print(values)\n",
    "\n",
    "items=student.items() ##get all key value pairs\n",
    "print(items)"
   ]
  },
  {
   "cell_type": "markdown",
   "id": "4a805881",
   "metadata": {},
   "source": [
    "##  Shallow copy"
   ]
  },
  {
   "cell_type": "code",
   "execution_count": 18,
   "id": "d40c1e91",
   "metadata": {},
   "outputs": [
    {
     "name": "stdout",
     "output_type": "stream",
     "text": [
      "{'name': 'Pritam', 'age': 30, 'grade': 'A'}\n"
     ]
    }
   ],
   "source": [
    "student={\"name\":\"Pritam\",\"age\":30,\"grade\":'A'}\n",
    "print(student)"
   ]
  },
  {
   "cell_type": "code",
   "execution_count": 19,
   "id": "250adb43",
   "metadata": {},
   "outputs": [
    {
     "name": "stdout",
     "output_type": "stream",
     "text": [
      "{'name': 'Pritam', 'age': 30, 'grade': 'A'}\n",
      "{'name': 'Pritam', 'age': 30, 'grade': 'A'}\n"
     ]
    }
   ],
   "source": [
    "\n",
    "student_copy=student\n",
    "print(student)\n",
    "print(student_copy)"
   ]
  },
  {
   "cell_type": "code",
   "execution_count": 20,
   "id": "44053525",
   "metadata": {},
   "outputs": [
    {
     "name": "stdout",
     "output_type": "stream",
     "text": [
      "{'name': 'Pritam2', 'age': 30, 'grade': 'A'}\n",
      "{'name': 'Pritam2', 'age': 30, 'grade': 'A'}\n"
     ]
    }
   ],
   "source": [
    "student[\"name\"]=\"Pritam2\"\n",
    "print(student)\n",
    "print(student_copy)"
   ]
  },
  {
   "cell_type": "markdown",
   "id": "88b19b66",
   "metadata": {},
   "source": [
    "# So we can see in both Dict the value of the key name has updated\n",
    "This is a Big problem "
   ]
  },
  {
   "cell_type": "markdown",
   "id": "c76f2248",
   "metadata": {},
   "source": [
    "# So we can copy a dict but if I update the Main dict that copy dict should not be updated"
   ]
  },
  {
   "cell_type": "code",
   "execution_count": 21,
   "id": "158e5e1f",
   "metadata": {},
   "outputs": [
    {
     "name": "stdout",
     "output_type": "stream",
     "text": [
      "{'name': 'Pritam', 'age': 30, 'grade': 'A'}\n"
     ]
    }
   ],
   "source": [
    "student={\"name\":\"Pritam\",\"age\":30,\"grade\":'A'}\n",
    "print(student)"
   ]
  },
  {
   "cell_type": "code",
   "execution_count": 22,
   "id": "daa86cd2",
   "metadata": {},
   "outputs": [
    {
     "data": {
      "text/plain": [
       "{'name': 'Pritam', 'age': 30, 'grade': 'A'}"
      ]
     },
     "execution_count": 22,
     "metadata": {},
     "output_type": "execute_result"
    }
   ],
   "source": [
    "student_copy1 = student.copy()\n",
    "student_copy1"
   ]
  },
  {
   "cell_type": "code",
   "execution_count": 24,
   "id": "d60d4aca",
   "metadata": {},
   "outputs": [
    {
     "name": "stdout",
     "output_type": "stream",
     "text": [
      "{'name': 'Pritam1', 'age': 30, 'grade': 'A'}\n",
      "{'name': 'Pritam', 'age': 30, 'grade': 'A'}\n"
     ]
    }
   ],
   "source": [
    "student['name']= \"Pritam1\"\n",
    "print(student)\n",
    "print(student_copy1)"
   ]
  },
  {
   "cell_type": "markdown",
   "id": "633fe839",
   "metadata": {},
   "source": [
    "# In this way we can copy the dict without modifying the Copy Dict\n",
    "This is the difference between copy and shallow copy"
   ]
  },
  {
   "cell_type": "code",
   "execution_count": 25,
   "id": "6c70d556",
   "metadata": {},
   "outputs": [
    {
     "name": "stdout",
     "output_type": "stream",
     "text": [
      "name\n",
      "age\n",
      "grade\n"
     ]
    }
   ],
   "source": [
    "### Iterating Over Dictionaries\n",
    "## You can use loops to iterate over dictionatries, keys,values,or items\n",
    "\n",
    "## Iterating over keys\n",
    "for keys in student.keys():\n",
    "    print(keys)"
   ]
  },
  {
   "cell_type": "code",
   "execution_count": 26,
   "id": "339a2ab7",
   "metadata": {},
   "outputs": [
    {
     "name": "stdout",
     "output_type": "stream",
     "text": [
      "Pritam1\n",
      "30\n",
      "A\n"
     ]
    }
   ],
   "source": [
    "## Iterate over values\n",
    "for value in student.values():\n",
    "    print(value)"
   ]
  },
  {
   "cell_type": "code",
   "execution_count": 28,
   "id": "f1204411",
   "metadata": {},
   "outputs": [
    {
     "name": "stdout",
     "output_type": "stream",
     "text": [
      "The key - name has this value - Pritam1\n",
      "The key - age has this value - 30\n",
      "The key - grade has this value - A\n"
     ]
    }
   ],
   "source": [
    "## Iterate over key value pairs\n",
    "for key,value in student.items():\n",
    "    print(\"The key - {} has this value - {}\".format(key,value))"
   ]
  },
  {
   "cell_type": "markdown",
   "id": "cb88b0ea",
   "metadata": {},
   "source": [
    "## Nested Disctionaries"
   ]
  },
  {
   "cell_type": "code",
   "execution_count": 30,
   "id": "3ad3ce35",
   "metadata": {},
   "outputs": [
    {
     "name": "stdout",
     "output_type": "stream",
     "text": [
      "{'student1': {'name': 'Pritam', 'age': 30}, 'student2': {'name': 'Edhikaa', 'age': 3}}\n"
     ]
    }
   ],
   "source": [
    "\n",
    "students={\n",
    "    \"student1\":{\"name\":\"Pritam\",\"age\":30},\n",
    "    \"student2\":{\"name\":\"Edhikaa\",\"age\":3}\n",
    "}\n",
    "print(students)"
   ]
  },
  {
   "cell_type": "markdown",
   "id": "9e64e796",
   "metadata": {},
   "source": [
    "## Access nested dictionaries elements"
   ]
  },
  {
   "cell_type": "code",
   "execution_count": 32,
   "id": "76c66970",
   "metadata": {},
   "outputs": [
    {
     "name": "stdout",
     "output_type": "stream",
     "text": [
      "Edhikaa\n",
      "3\n",
      "Pritam\n",
      "30\n"
     ]
    }
   ],
   "source": [
    "\n",
    "print(students[\"student2\"][\"name\"])\n",
    "print(students[\"student2\"][\"age\"])\n",
    "print(students[\"student1\"][\"name\"])\n",
    "print(students[\"student1\"][\"age\"])"
   ]
  },
  {
   "cell_type": "code",
   "execution_count": 33,
   "id": "da344cac",
   "metadata": {},
   "outputs": [
    {
     "data": {
      "text/plain": [
       "dict_items([('student1', {'name': 'Pritam', 'age': 30}), ('student2', {'name': 'Edhikaa', 'age': 3})])"
      ]
     },
     "execution_count": 33,
     "metadata": {},
     "output_type": "execute_result"
    }
   ],
   "source": [
    "students.items()"
   ]
  },
  {
   "cell_type": "code",
   "execution_count": 34,
   "id": "3c278be1",
   "metadata": {},
   "outputs": [
    {
     "name": "stdout",
     "output_type": "stream",
     "text": [
      "student1:{'name': 'Pritam', 'age': 30}\n",
      "name:Pritam\n",
      "age:30\n",
      "student2:{'name': 'Edhikaa', 'age': 3}\n",
      "name:Edhikaa\n",
      "age:3\n"
     ]
    }
   ],
   "source": [
    "## Iterating over nested dictionaries\n",
    "for student_id,student_info in students.items():\n",
    "    print(f\"{student_id}:{student_info}\")\n",
    "    for key,value in student_info.items():\n",
    "        print(f\"{key}:{value}\")"
   ]
  },
  {
   "cell_type": "markdown",
   "id": "c1866560",
   "metadata": {},
   "source": [
    "## Dictionary Comphrehension"
   ]
  },
  {
   "cell_type": "code",
   "execution_count": 35,
   "id": "20331b76",
   "metadata": {},
   "outputs": [
    {
     "name": "stdout",
     "output_type": "stream",
     "text": [
      "{0: 0, 1: 1, 2: 4, 3: 9, 4: 16}\n"
     ]
    }
   ],
   "source": [
    "\n",
    "squares={x:x**2 for x in range(5)}\n",
    "print(squares)"
   ]
  },
  {
   "cell_type": "markdown",
   "id": "05ab1002",
   "metadata": {},
   "source": [
    "Condition dictionary comprehension"
   ]
  },
  {
   "cell_type": "code",
   "execution_count": 36,
   "id": "ac294177",
   "metadata": {},
   "outputs": [
    {
     "name": "stdout",
     "output_type": "stream",
     "text": [
      "{0: 0, 2: 4, 4: 16, 6: 36, 8: 64}\n"
     ]
    }
   ],
   "source": [
    "\n",
    "evens={x:x**2 for x in range(10) if x%2==0}\n",
    "print(evens)"
   ]
  },
  {
   "cell_type": "code",
   "execution_count": 37,
   "id": "a84101db",
   "metadata": {},
   "outputs": [
    {
     "name": "stdout",
     "output_type": "stream",
     "text": [
      "{1: 1, 2: 2, 3: 3, 4: 4}\n"
     ]
    }
   ],
   "source": [
    "## Practical Examples\n",
    "\n",
    "## USe a dictionary to count he frequency of elements in list\n",
    "\n",
    "numbers=[1,2,2,3,3,3,4,4,4,4]\n",
    "frequency={}\n",
    "\n",
    "for number in numbers:\n",
    "    if number in frequency:\n",
    "        frequency[number]+=1\n",
    "    else:\n",
    "        frequency[number]=1\n",
    "print(frequency)"
   ]
  },
  {
   "cell_type": "code",
   "execution_count": 38,
   "id": "63c56387",
   "metadata": {},
   "outputs": [
    {
     "name": "stdout",
     "output_type": "stream",
     "text": [
      "{'a': 1, 'b': 3, 'c': 4}\n"
     ]
    }
   ],
   "source": [
    "## Merge 2 dictionaries into one\n",
    "\n",
    "dict1={\"a\":1,\"b\":2}\n",
    "dict2={\"b\":3,\"c\":4}\n",
    "merged_dict={**dict1,**dict2}\n",
    "print(merged_dict)"
   ]
  },
  {
   "cell_type": "markdown",
   "id": "4c5f3c85",
   "metadata": {},
   "source": [
    "# Conclusion\n",
    "Dictionaries are powerful tools in Python for managing key-value pairs. \n",
    "They are used in a variety of real-world scenarios, such as counting word frequency, grouping data, storing configuration settings, managing phonebooks, tracking inventory, and caching results. \n",
    "Understanding how to leverage dictionaries effectively can greatly enhance the efficiency and readability of our code."
   ]
  }
 ],
 "metadata": {
  "kernelspec": {
   "display_name": "Python 3",
   "language": "python",
   "name": "python3"
  },
  "language_info": {
   "codemirror_mode": {
    "name": "ipython",
    "version": 3
   },
   "file_extension": ".py",
   "mimetype": "text/x-python",
   "name": "python",
   "nbconvert_exporter": "python",
   "pygments_lexer": "ipython3",
   "version": "3.13.7"
  }
 },
 "nbformat": 4,
 "nbformat_minor": 5
}
