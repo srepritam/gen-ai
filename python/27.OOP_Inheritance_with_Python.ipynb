{
 "cells": [
  {
   "cell_type": "markdown",
   "id": "7f0edd4d",
   "metadata": {},
   "source": [
    "# Inheritance In Python"
   ]
  },
  {
   "cell_type": "markdown",
   "id": "252f93d9",
   "metadata": {},
   "source": [
    "Inheritance is a fundamental concept in Object-Oriented Programming (OOP) that allows a class to inherit attributes and methods from another class."
   ]
  },
  {
   "cell_type": "markdown",
   "id": "64989005",
   "metadata": {},
   "source": [
    "### What is Inheritance in Python?\n",
    "\n",
    "Inheritance allows a child class to inherit attributes and methods from a parent class.\n",
    "\n",
    "Promotes code reuse\n",
    "\n",
    "Enables polymorphism (method overriding)\n",
    "\n",
    "Supports hierarchical design"
   ]
  },
  {
   "cell_type": "markdown",
   "id": "94e3c102",
   "metadata": {},
   "source": [
    "### We all are inheriting our Parants Properties "
   ]
  },
  {
   "cell_type": "markdown",
   "id": "9b712934",
   "metadata": {},
   "source": [
    "### But Vice Versa is not possible, means my Property cannot be inharited by my parents, insted it will go to my Children"
   ]
  },
  {
   "cell_type": "markdown",
   "id": "0aa7ffbe",
   "metadata": {},
   "source": [
    " # 1. Single Inheritance\n",
    "\n",
    "One child class inherits from one parent class"
   ]
  },
  {
   "cell_type": "markdown",
   "id": "c5f18488",
   "metadata": {},
   "source": [
    "### Real-Time Example: Vehicle ➜ Car"
   ]
  },
  {
   "cell_type": "code",
   "execution_count": 3,
   "id": "13be90a5",
   "metadata": {},
   "outputs": [],
   "source": [
    "# Parent class\n",
    "class Vehicle:\n",
    "    def __init__(self, brand, model):\n",
    "        self.brand = brand\n",
    "        self.model = model\n",
    "\n",
    "    def start(self):\n",
    "        print(f\"{self.brand} {self.model} is starting...\")\n",
    "\n",
    "\n",
    "\n",
    "\n"
   ]
  },
  {
   "cell_type": "code",
   "execution_count": 7,
   "id": "b70ddd88",
   "metadata": {},
   "outputs": [
    {
     "name": "stdout",
     "output_type": "stream",
     "text": [
      "TATA NANO is starting...\n"
     ]
    }
   ],
   "source": [
    "obj1 = Vehicle(\"TATA\",\"NANO\")\n",
    "obj1.start()"
   ]
  },
  {
   "cell_type": "markdown",
   "id": "79f6c65a",
   "metadata": {},
   "source": [
    "### Now Lets say I want to create a New Class called Car where I do not want to write all the properties and methods from the beginning, insted of that I know there is another Class where we have most of the things are defined, We just new some new functionalities and we want to extend the Vechile Class\n",
    "\n",
    "### In this case we will create a Child class ( CAR ) which will inherit the Parent Class which is Vechile in our case"
   ]
  },
  {
   "cell_type": "markdown",
   "id": "9a5ac748",
   "metadata": {},
   "source": []
  },
  {
   "cell_type": "code",
   "execution_count": 10,
   "id": "a3b4bfea",
   "metadata": {},
   "outputs": [],
   "source": [
    "# Child class\n",
    "class Car(Vehicle): # Creating a Car Class from the Vehicle Class\n",
    "    def __init__(self, brand, model, doors): \n",
    "        # New parameter doors or we can say additional attribute\n",
    "        super().__init__(brand, model)  # Calling the init method from the parent class with what attribute we have in the parent class\n",
    "        # Inherit from Vehicle, \n",
    "        # super keyword means we are calling the constructor from the paranet class and calling the __init__ method\n",
    "        self.doors = doors \n",
    "        # defining the attribute which is newly added inside the class , remaining all we are inhereting from the parent class\n",
    "\n",
    "    def car_info(self):\n",
    "        print(f\"Car: {self.brand} {self.model}, Doors: {self.doors}\")"
   ]
  },
  {
   "cell_type": "code",
   "execution_count": 11,
   "id": "a78b3b44",
   "metadata": {},
   "outputs": [
    {
     "name": "stdout",
     "output_type": "stream",
     "text": [
      "Toyota Camry is starting...\n",
      "Car: Toyota Camry, Doors: 4\n"
     ]
    }
   ],
   "source": [
    "# Usage\n",
    "my_car = Car(\"Toyota\", \"Camry\", 4)\n",
    "my_car.start()         # Inherited from Vehicle\n",
    "my_car.car_info()      # Defined in Car"
   ]
  },
  {
   "cell_type": "markdown",
   "id": "3f8074a5",
   "metadata": {},
   "source": [
    "# 2. Multiple Inheritance\n",
    "\n",
    "One child class inherits from two or more parent classes\n",
    "### When a class inherits from more than one parent class.\n",
    "\n",
    "✅ Real-Time Example: "
   ]
  },
  {
   "cell_type": "code",
   "execution_count": null,
   "id": "55d219bd",
   "metadata": {},
   "outputs": [],
   "source": [
    "# First Parent class\n",
    "class Employee:\n",
    "    # Constructor with parameters or attribute\n",
    "    def __init__(self, name):\n",
    "        # instance Variables\n",
    "        self.name = name\n",
    "    \n",
    "    # Instance Methods\n",
    "    def work(self):\n",
    "        print(f\"{self.name} is working.\")\n",
    "\n",
    "\n"
   ]
  },
  {
   "cell_type": "code",
   "execution_count": 15,
   "id": "4e9a4769",
   "metadata": {},
   "outputs": [],
   "source": [
    "# Second Parent class\n",
    "class Programmer:\n",
    "    # Constructor with parameter or attribute\n",
    "    def __init__(self, language):\n",
    "        # Instance Variable\n",
    "        self.language = language\n",
    "\n",
    "    # Instance Method\n",
    "    def code(self):\n",
    "        print(f\"Coding in {self.language}.\")\n",
    "\n"
   ]
  },
  {
   "cell_type": "code",
   "execution_count": 17,
   "id": "0d7e1252",
   "metadata": {},
   "outputs": [],
   "source": [
    "# Child class using multiple inheritance\n",
    "class TechEmployee(Employee, Programmer): # Here Creating a  class with multiple Parent class\n",
    "    def __init__(self, name, language):\n",
    "        Employee.__init__(self, name)       # Initialize from Employee\n",
    "        Programmer.__init__(self, language) # Initialize from Programmer\n",
    "    \n",
    "    # Child Class's instance method\n",
    "    def display_info(self):\n",
    "        print(f\"{self.name} codes in {self.language}.\")\n",
    "\n"
   ]
  },
  {
   "cell_type": "code",
   "execution_count": 18,
   "id": "3923d4a6",
   "metadata": {},
   "outputs": [
    {
     "name": "stdout",
     "output_type": "stream",
     "text": [
      "Pritam is working.\n",
      "Coding in Python.\n",
      "Pritam codes in Python.\n"
     ]
    }
   ],
   "source": [
    "# Object create\n",
    "emp = TechEmployee(\"Pritam\", \"Python\")\n",
    "emp.work()           # From Employee\n",
    "emp.code()           # From Programmer\n",
    "emp.display_info()   # Own method"
   ]
  },
  {
   "cell_type": "code",
   "execution_count": 22,
   "id": "5c37ef6d",
   "metadata": {},
   "outputs": [
    {
     "ename": "TypeError",
     "evalue": "Employee.__init__() missing 1 required positional argument: 'salary'",
     "output_type": "error",
     "traceback": [
      "\u001b[31m---------------------------------------------------------------------------\u001b[39m",
      "\u001b[31mTypeError\u001b[39m                                 Traceback (most recent call last)",
      "\u001b[36mCell\u001b[39m\u001b[36m \u001b[39m\u001b[32mIn[22]\u001b[39m\u001b[32m, line 35\u001b[39m\n\u001b[32m     32\u001b[39m         \u001b[38;5;28mprint\u001b[39m(\u001b[33mf\u001b[39m\u001b[33m\"\u001b[39m\u001b[38;5;132;01m{\u001b[39;00m\u001b[38;5;28mself\u001b[39m.name\u001b[38;5;132;01m}\u001b[39;00m\u001b[33m codes in \u001b[39m\u001b[38;5;132;01m{\u001b[39;00m\u001b[38;5;28mself\u001b[39m.language\u001b[38;5;132;01m}\u001b[39;00m\u001b[33m.\u001b[39m\u001b[33m\"\u001b[39m)\n\u001b[32m     34\u001b[39m \u001b[38;5;66;03m# Usage\u001b[39;00m\n\u001b[32m---> \u001b[39m\u001b[32m35\u001b[39m emp = \u001b[43mTechEmployee\u001b[49m\u001b[43m(\u001b[49m\u001b[33;43m\"\u001b[39;49m\u001b[33;43mAlice\u001b[39;49m\u001b[33;43m\"\u001b[39;49m\u001b[43m,\u001b[49m\u001b[43m \u001b[49m\u001b[33;43m\"\u001b[39;49m\u001b[33;43mPython\u001b[39;49m\u001b[33;43m\"\u001b[39;49m\u001b[43m)\u001b[49m\n\u001b[32m     36\u001b[39m emp.work()           \u001b[38;5;66;03m# From Employee\u001b[39;00m\n\u001b[32m     37\u001b[39m emp.code()           \u001b[38;5;66;03m# From Programmer\u001b[39;00m\n",
      "\u001b[36mCell\u001b[39m\u001b[36m \u001b[39m\u001b[32mIn[22]\u001b[39m\u001b[32m, line 28\u001b[39m, in \u001b[36mTechEmployee.__init__\u001b[39m\u001b[34m(self, name, language)\u001b[39m\n\u001b[32m     27\u001b[39m \u001b[38;5;28;01mdef\u001b[39;00m\u001b[38;5;250m \u001b[39m\u001b[34m__init__\u001b[39m(\u001b[38;5;28mself\u001b[39m, name, language):\n\u001b[32m---> \u001b[39m\u001b[32m28\u001b[39m     \u001b[43mEmployee\u001b[49m\u001b[43m.\u001b[49m\u001b[34;43m__init__\u001b[39;49m\u001b[43m(\u001b[49m\u001b[38;5;28;43mself\u001b[39;49m\u001b[43m,\u001b[49m\u001b[43m \u001b[49m\u001b[43mname\u001b[49m\u001b[43m)\u001b[49m       \u001b[38;5;66;03m# Initialize from Employee\u001b[39;00m\n\u001b[32m     29\u001b[39m     Programmer.\u001b[34m__init__\u001b[39m(\u001b[38;5;28mself\u001b[39m, language)\n",
      "\u001b[31mTypeError\u001b[39m: Employee.__init__() missing 1 required positional argument: 'salary'"
     ]
    }
   ],
   "source": [
    "# First Parent class\n",
    "class Employee:\n",
    "    def __init__(self, name, salary):\n",
    "        self.name = name\n",
    "        self.salary = salary\n",
    "    \n",
    "\n",
    "    def work(self):\n",
    "        print(f\"{self.name} is working.\")\n",
    "    \n",
    "    def salary(self):\n",
    "        print(\"{} earns {}\".format(self.name, self.salary))\n",
    "\n",
    "# Second Parent class\n",
    "class Programmer:\n",
    "    def __init__(self, language, domain):\n",
    "        self.language = language\n",
    "        self.domain - domain\n",
    "\n",
    "    def code(self):\n",
    "        print(f\"Coding in {self.language}.\")\n",
    "    def domain(self):\n",
    "        print(\" a/an {} expert\".format(self.domain))\n",
    "\n",
    "# Child class using multiple inheritance\n",
    "class TechEmployee(Employee, Programmer):\n",
    "    def __init__(self, name, language):\n",
    "        Employee.__init__(self, name)       # Initialize from Employee\n",
    "        Programmer.__init__(self, language) # Initialize from Programmer\n",
    "\n",
    "    def display_info(self):\n",
    "        print(f\"{self.name} codes in {self.language}.\")\n",
    "\n",
    "# Usage\n",
    "emp = TechEmployee(\"Alice\", \"Python\")\n",
    "emp.work()           # From Employee\n",
    "emp.code()           # From Programmer\n",
    "emp.display_info()   # Own method\n"
   ]
  },
  {
   "cell_type": "markdown",
   "id": "f316a3c3",
   "metadata": {},
   "source": [
    "### This means we need to call everything whatever we have in our parent clss, we cannot call partially"
   ]
  },
  {
   "cell_type": "code",
   "execution_count": 26,
   "id": "4d3b251a",
   "metadata": {},
   "outputs": [
    {
     "name": "stdout",
     "output_type": "stream",
     "text": [
      "Pritam is working.\n",
      "Coding in Python.\n",
      "Pritam codes in Python.\n"
     ]
    }
   ],
   "source": [
    "# First Parent class\n",
    "class Employee:\n",
    "    def __init__(self, name, salary):\n",
    "        self.name = name\n",
    "        self.salary = salary\n",
    "\n",
    "    def work(self):\n",
    "        print(f\"{self.name} is working.\")\n",
    "    \n",
    "    def salary(self):\n",
    "        print(\"{} earns {}\".format(self.name, self.salary))\n",
    "\n",
    "# Second Parent class\n",
    "class Programmer:\n",
    "    def __init__(self, language, domain):\n",
    "        self.language = language\n",
    "        self.domain = domain\n",
    "\n",
    "    def code(self):\n",
    "        print(f\"Coding in {self.language}.\")\n",
    "    def domain(self):\n",
    "        print(\" a/an {} expert\".format(self.domain))\n",
    "\n",
    "# Child class using multiple inheritance\n",
    "class TechEmployee(Employee, Programmer):\n",
    "    def __init__(self, name, salary, language, domain):\n",
    "        Employee.__init__(self, name, salary)       # Initialize from Employee\n",
    "        Programmer.__init__(self, language, domain) # Initialize from Programmer\n",
    "\n",
    "    def display_info(self):\n",
    "        print(f\"{self.name} codes in {self.language}.\")\n",
    "\n",
    "# Usage\n",
    "emp = TechEmployee(\"Pritam\", 1000, \"Python\", \"BFSI\" )\n",
    "emp.work()           # From Employee\n",
    "emp.code()           # From Programmer\n",
    "emp.display_info()   # Own method"
   ]
  },
  {
   "cell_type": "markdown",
   "id": "d56e369a",
   "metadata": {},
   "source": [
    "### Here one point to be notted is that the parameters are in order \n"
   ]
  },
  {
   "cell_type": "code",
   "execution_count": null,
   "id": "8497cf6c",
   "metadata": {},
   "outputs": [
    {
     "name": "stdout",
     "output_type": "stream",
     "text": [
      "Coding in Python.\n",
      "Pritam is working.\n",
      "Pritam codes in Python.\n"
     ]
    }
   ],
   "source": [
    "emp = TechEmployee(\"Pritam\", 1000, \"Python\", \"BFSI\" )\n",
    "emp.code() \n",
    "emp.work()           \n",
    "          \n",
    "emp.display_info()  "
   ]
  },
  {
   "cell_type": "markdown",
   "id": "cdcbaf28",
   "metadata": {},
   "source": [
    "### Tis is fine but "
   ]
  },
  {
   "cell_type": "code",
   "execution_count": 28,
   "id": "8c8c79b7",
   "metadata": {},
   "outputs": [
    {
     "name": "stdout",
     "output_type": "stream",
     "text": [
      "Coding in 1000.\n",
      "Pritam is working.\n",
      "Pritam codes in 1000.\n"
     ]
    }
   ],
   "source": [
    "emp = TechEmployee(\"Pritam\", \"Python\", 1000, \"BFSI\" )\n",
    "emp.code() \n",
    "emp.work()           \n",
    "          \n",
    "emp.display_info()  "
   ]
  },
  {
   "cell_type": "markdown",
   "id": "352a5fc3",
   "metadata": {},
   "source": [
    "### So always check the parameter order's before creating the Object"
   ]
  },
  {
   "cell_type": "markdown",
   "id": "15d48f69",
   "metadata": {},
   "source": [
    "# 3. Multilevel Inheritance"
   ]
  },
  {
   "cell_type": "markdown",
   "id": "e7804ad7",
   "metadata": {},
   "source": [
    "Multilevel inheritance means:\n",
    "\n",
    "A child class inherits from a parent class, and then another class inherits from that child class.\n",
    "\n",
    "📚 Think of it like a family tree:"
   ]
  },
  {
   "cell_type": "markdown",
   "id": "45d1dd10",
   "metadata": {},
   "source": [
    "Parent → Child → Grand Child"
   ]
  },
  {
   "cell_type": "code",
   "execution_count": 29,
   "id": "6866d918",
   "metadata": {},
   "outputs": [],
   "source": [
    "# First Parent class\n",
    "class Employee:\n",
    "    def __init__(self, name, salary):\n",
    "        self.name = name\n",
    "        self.salary = salary\n",
    "\n",
    "    def work(self):\n",
    "        print(f\"{self.name} is working.\")\n",
    "    \n",
    "    def show_salary(self):\n",
    "        print(f\"{self.name} earns ${self.salary}\")\n",
    "\n"
   ]
  },
  {
   "cell_type": "code",
   "execution_count": 30,
   "id": "fab356fa",
   "metadata": {},
   "outputs": [],
   "source": [
    "# Second Parent class\n",
    "class Programmer:\n",
    "    def __init__(self, language, domain):\n",
    "        self.language = language\n",
    "        self.domain = domain\n",
    "\n",
    "    def code(self):\n",
    "        print(f\"Coding in {self.language}.\")\n",
    "\n",
    "    def show_domain(self):\n",
    "        print(f\"{self.language} programmer specialized in {self.domain} domain.\")\n",
    "\n"
   ]
  },
  {
   "cell_type": "code",
   "execution_count": 31,
   "id": "6b0aa43f",
   "metadata": {},
   "outputs": [],
   "source": [
    "# Intermediate Child class using multiple inheritance\n",
    "class TechEmployee(Employee, Programmer):\n",
    "    def __init__(self, name, salary, language, domain):\n",
    "        Employee.__init__(self, name, salary)\n",
    "        Programmer.__init__(self, language, domain)\n",
    "\n",
    "    def display_info(self):\n",
    "        print(f\"{self.name} codes in {self.language} and works in {self.domain}.\")\n",
    "\n",
    "# Final Child class (Multilevel Inheritance)\n",
    "class SeniorTechEmployee(TechEmployee):\n",
    "    def __init__(self, name, salary, language, domain, experience):\n",
    "        super().__init__(name, salary, language, domain)  # Initialize TechEmployee like single inheritence\n",
    "        self.experience = experience\n",
    "\n",
    "    def lead_team(self):\n",
    "        print(f\"{self.name} is leading a team with {self.experience} years of experience.\")\n",
    "\n",
    "    def display_full_info(self):\n",
    "        self.display_info()\n",
    "        self.show_salary()\n",
    "        self.show_domain()\n",
    "        self.lead_team()\n",
    "\n"
   ]
  },
  {
   "cell_type": "code",
   "execution_count": 32,
   "id": "0f33c772",
   "metadata": {},
   "outputs": [
    {
     "name": "stdout",
     "output_type": "stream",
     "text": [
      "Pritam is working.\n",
      "Pritam earns $150000\n",
      "Coding in Python.\n",
      "Python programmer specialized in BFSI domain.\n",
      "Pritam codes in Python and works in BFSI.\n",
      "Pritam is leading a team with 10 years of experience.\n",
      "\n",
      "--- Full Info ---\n",
      "Pritam codes in Python and works in BFSI.\n",
      "Pritam earns $150000\n",
      "Python programmer specialized in BFSI domain.\n",
      "Pritam is leading a team with 10 years of experience.\n"
     ]
    }
   ],
   "source": [
    "# Object create\n",
    "senior_emp = SeniorTechEmployee(\"Pritam\", 150000, \"Python\", \"BFSI\", 10)\n",
    "\n",
    "# Inherited from Employee\n",
    "senior_emp.work()\n",
    "senior_emp.show_salary()\n",
    "\n",
    "# Inherited from Programmer\n",
    "senior_emp.code()\n",
    "senior_emp.show_domain()\n",
    "\n",
    "# Inherited from TechEmployee\n",
    "senior_emp.display_info()\n",
    "\n",
    "# Defined in SeniorTechEmployee\n",
    "senior_emp.lead_team()\n",
    "\n",
    "# Combined method\n",
    "print(\"\\n--- Full Info ---\")\n",
    "senior_emp.display_full_info()\n"
   ]
  }
 ],
 "metadata": {
  "kernelspec": {
   "display_name": "Python 3",
   "language": "python",
   "name": "python3"
  },
  "language_info": {
   "codemirror_mode": {
    "name": "ipython",
    "version": 3
   },
   "file_extension": ".py",
   "mimetype": "text/x-python",
   "name": "python",
   "nbconvert_exporter": "python",
   "pygments_lexer": "ipython3",
   "version": "3.13.7"
  }
 },
 "nbformat": 4,
 "nbformat_minor": 5
}
