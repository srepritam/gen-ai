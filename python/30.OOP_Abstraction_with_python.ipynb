{
 "cells": [
  {
   "cell_type": "markdown",
   "id": "ed77698e",
   "metadata": {},
   "source": [
    "# Abstraction\n",
    "Abstraction is the concept of hiding the complex implementation details and showing only the necessary features of an object. This helps in reducing programming complexity and effort."
   ]
  },
  {
   "cell_type": "markdown",
   "id": "f5fc78dd",
   "metadata": {},
   "source": [
    "## For example a Mobile Phone\n",
    "There may be diffrent options to operate the phone\n",
    "1. How to install the application ( What is the inbuild functions / methods to achieve the same )\n",
    "2. After shut down, the phone off, how it happened \n",
    "3. OS patch release ( how it is patching the older version with the new patch )\n",
    "4. How the phone is connected with the wifi when there is a wifi signals\n",
    "5. How the volume key is actually up and down the volume of the phone \n",
    "\n",
    "All of these implementations are hidden from us ( from the user ), because we do not need to understand those attributes or the methods. \n",
    "\n",
    "These implementation is done via ABSTRACTION\n",
    "\n",
    "So , Phone has the Abstract method and different phone can use this and define its functionalities on top of that \n",
    "\n",
    "In the Parent class the Abstract Class and Method is / are is an empty class or method \n",
    "\n",
    "The Child class can inherit the parent class but the condition is the child Class should define the Abstract method insid ethat class after it inherit the Parent Abstracted class"
   ]
  },
  {
   "cell_type": "markdown",
   "id": "b4c56a71",
   "metadata": {},
   "source": [
    "# Step 1: Define an Abstract Base Class MobilePhone"
   ]
  },
  {
   "cell_type": "code",
   "execution_count": 2,
   "id": "e16db473",
   "metadata": {},
   "outputs": [],
   "source": [
    "from abc import ABC, abstractmethod\n",
    "\n",
    "class MobilePhone(ABC):\n",
    "    \n",
    "    @abstractmethod\n",
    "    def install_app(self, app_name):\n",
    "        pass\n",
    "\n",
    "    @abstractmethod\n",
    "    def shutdown(self):\n",
    "        pass\n",
    "\n",
    "    @abstractmethod\n",
    "    def patch_os(self, patch_version):\n",
    "        pass\n",
    "\n",
    "    @abstractmethod\n",
    "    def connect_wifi(self, ssid, password):\n",
    "        pass\n",
    "\n",
    "    @abstractmethod\n",
    "    def adjust_volume(self, direction):\n",
    "        pass\n"
   ]
  },
  {
   "cell_type": "markdown",
   "id": "0ab5295c",
   "metadata": {},
   "source": [
    "This abstract class defines what a phone can do, but not how it does it.\n",
    "All methods are abstract, so any subclass must implement them.\n",
    "\n",
    "# Step 2: Define a Concrete Child Class AndroidPhone"
   ]
  },
  {
   "cell_type": "code",
   "execution_count": 3,
   "id": "5dcd5d29",
   "metadata": {},
   "outputs": [],
   "source": [
    "class AndroidPhone(MobilePhone):\n",
    "\n",
    "    def install_app(self, app_name):\n",
    "        print(f\"Installing '{app_name}' from Play Store...\")\n",
    "\n",
    "    def shutdown(self):\n",
    "        print(\"Shutting down Android OS and turning off power.\")\n",
    "\n",
    "    def patch_os(self, patch_version):\n",
    "        print(f\"Applying Android patch version: {patch_version}\")\n",
    "\n",
    "    def connect_wifi(self, ssid, password):\n",
    "        print(f\"Connecting to Wi-Fi network: '{ssid}' using WPA2 authentication...\")\n",
    "\n",
    "    def adjust_volume(self, direction):\n",
    "        if direction.lower() == \"up\":\n",
    "            print(\"Increasing volume level.\")\n",
    "        elif direction.lower() == \"down\":\n",
    "            print(\"Decreasing volume level.\")\n",
    "        else:\n",
    "            print(\"Invalid direction. Use 'up' or 'down'.\")\n"
   ]
  },
  {
   "cell_type": "markdown",
   "id": "d4cd3768",
   "metadata": {},
   "source": [
    "This class inherits from MobilePhone and implements all abstract methods.\n",
    "# Step 3: Using the Abstraction"
   ]
  },
  {
   "cell_type": "code",
   "execution_count": 4,
   "id": "1a7ebc0a",
   "metadata": {},
   "outputs": [
    {
     "name": "stdout",
     "output_type": "stream",
     "text": [
      "Installing 'WhatsApp' from Play Store...\n",
      "Connecting to Wi-Fi network: 'Home_WiFi' using WPA2 authentication...\n",
      "Increasing volume level.\n",
      "Applying Android patch version: 2025.09.01\n",
      "Shutting down Android OS and turning off power.\n"
     ]
    }
   ],
   "source": [
    "# Creating object of child class\n",
    "my_phone = AndroidPhone()\n",
    "\n",
    "my_phone.install_app(\"WhatsApp\")\n",
    "my_phone.connect_wifi(\"Home_WiFi\", \"password123\")\n",
    "my_phone.adjust_volume(\"up\")\n",
    "my_phone.patch_os(\"2025.09.01\")\n",
    "my_phone.shutdown()\n"
   ]
  },
  {
   "cell_type": "markdown",
   "id": "43fc93f2",
   "metadata": {},
   "source": [
    "# Why This is Abstraction?\n",
    "| Feature                       | Explanation                                                               |\n",
    "| ----------------------------- | ------------------------------------------------------------------------- |\n",
    "| Abstract Class `MobilePhone`  | Defines what a phone **can do** (interface) but not how                   |\n",
    "| Abstract Methods              | `install_app()`, `shutdown()` etc. are **empty** in the base class        |\n",
    "| Concrete Class `AndroidPhone` | Provides the actual implementation (**how** the phone does those actions) |\n",
    "| Hidden Implementation         | Users of `AndroidPhone` don't see how Wi-Fi or patching works internally  |\n"
   ]
  },
  {
   "cell_type": "markdown",
   "id": "d467341d",
   "metadata": {},
   "source": [
    "# Real-World Meaning of Each Method:\n",
    "| Abstract Method   | Real-World Action                                                        |\n",
    "| ----------------- | ------------------------------------------------------------------------ |\n",
    "| `install_app()`   | Calls internal package manager, handles permissions, background download |\n",
    "| `shutdown()`      | Flushes memory, stops background processes, powers off components        |\n",
    "| `patch_os()`      | Downloads OTA update, validates signature, replaces system binaries      |\n",
    "| `connect_wifi()`  | Scans networks, connects to router, encrypts traffic                     |\n",
    "| `adjust_volume()` | Interfaces with audio drivers and hardware volume buttons                |\n"
   ]
  },
  {
   "cell_type": "markdown",
   "id": "7a7779b8",
   "metadata": {},
   "source": [
    "All this happens behind the scenes — you (user) only call a function like adjust_volume(\"up\")."
   ]
  },
  {
   "cell_type": "markdown",
   "id": "e79ecd16",
   "metadata": {},
   "source": [
    "# What if you forget to implement an abstract method?\n"
   ]
  },
  {
   "cell_type": "code",
   "execution_count": 5,
   "id": "8b199914",
   "metadata": {},
   "outputs": [],
   "source": [
    "class IncompletePhone(MobilePhone):\n",
    "    def install_app(self, app_name):\n",
    "        print(\"App installed\")\n"
   ]
  },
  {
   "cell_type": "markdown",
   "id": "36851fac",
   "metadata": {},
   "source": [
    "### Trying to create an object from this class:"
   ]
  },
  {
   "cell_type": "code",
   "execution_count": 6,
   "id": "3be424df",
   "metadata": {},
   "outputs": [
    {
     "ename": "TypeError",
     "evalue": "Can't instantiate abstract class IncompletePhone without an implementation for abstract methods 'adjust_volume', 'connect_wifi', 'patch_os', 'shutdown'",
     "output_type": "error",
     "traceback": [
      "\u001b[31m---------------------------------------------------------------------------\u001b[39m",
      "\u001b[31mTypeError\u001b[39m                                 Traceback (most recent call last)",
      "\u001b[36mCell\u001b[39m\u001b[36m \u001b[39m\u001b[32mIn[6]\u001b[39m\u001b[32m, line 1\u001b[39m\n\u001b[32m----> \u001b[39m\u001b[32m1\u001b[39m phone = \u001b[43mIncompletePhone\u001b[49m\u001b[43m(\u001b[49m\u001b[43m)\u001b[49m  \u001b[38;5;66;03m# ❌ Error\u001b[39;00m\n",
      "\u001b[31mTypeError\u001b[39m: Can't instantiate abstract class IncompletePhone without an implementation for abstract methods 'adjust_volume', 'connect_wifi', 'patch_os', 'shutdown'"
     ]
    }
   ],
   "source": [
    "phone = IncompletePhone()  # ❌ Error\n"
   ]
  },
  {
   "cell_type": "code",
   "execution_count": 1,
   "id": "66b15301",
   "metadata": {},
   "outputs": [
    {
     "name": "stdout",
     "output_type": "stream",
     "text": [
      "Car enginer started\n",
      "The vehicle is used for driving\n"
     ]
    }
   ],
   "source": [
    "from abc import ABC,abstractmethod\n",
    "\n",
    "## Abstract base cclass\n",
    "class Vehicle(ABC):\n",
    "    def drive(self):\n",
    "        print(\"The vehicle is used for driving\")\n",
    "\n",
    "    @abstractmethod\n",
    "    def start_engine(self):\n",
    "        pass\n",
    "\n",
    "class Car(Vehicle):\n",
    "    def start_engine(self):\n",
    "        print(\"Car enginer started\")\n",
    "\n",
    "def operate_vehicle(vehicle):\n",
    "    vehicle.start_engine()\n",
    "    vehicle.drive()\n",
    "\n",
    "car=Car()\n",
    "operate_vehicle(car)"
   ]
  },
  {
   "cell_type": "code",
   "execution_count": null,
   "id": "951622d8",
   "metadata": {},
   "outputs": [],
   "source": []
  }
 ],
 "metadata": {
  "kernelspec": {
   "display_name": "Python 3",
   "language": "python",
   "name": "python3"
  },
  "language_info": {
   "codemirror_mode": {
    "name": "ipython",
    "version": 3
   },
   "file_extension": ".py",
   "mimetype": "text/x-python",
   "name": "python",
   "nbconvert_exporter": "python",
   "pygments_lexer": "ipython3",
   "version": "3.13.7"
  }
 },
 "nbformat": 4,
 "nbformat_minor": 5
}
