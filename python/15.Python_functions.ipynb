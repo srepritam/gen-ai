{
 "cells": [
  {
   "cell_type": "markdown",
   "id": "a1608815",
   "metadata": {},
   "source": [
    "# Functions in Python"
   ]
  },
  {
   "cell_type": "markdown",
   "id": "1a8bb6f5",
   "metadata": {},
   "source": [
    "# Definition:\n",
    "\n",
    "A function is a block of code that performs a specific task. Functions help in organizing code, reusing code, and improving readability."
   ]
  },
  {
   "cell_type": "markdown",
   "id": "48b8d6c7",
   "metadata": {},
   "source": []
  },
  {
   "cell_type": "code",
   "execution_count": 1,
   "id": "20374943",
   "metadata": {},
   "outputs": [],
   "source": [
    "## syntax\n",
    "def function_name(parameters):\n",
    "    \"\"\"Docstring\"\"\" # Just to use somecomment, what this function does\n",
    "    # Function body\n",
    "    return expression # Some function has the return, some does not have"
   ]
  },
  {
   "cell_type": "code",
   "execution_count": 2,
   "id": "88c02c7c",
   "metadata": {},
   "outputs": [
    {
     "name": "stdout",
     "output_type": "stream",
     "text": [
      "the number is even\n"
     ]
    }
   ],
   "source": [
    "## why functions?\n",
    "num=24\n",
    "if num%2==0:\n",
    "    print(\"the number is even\")\n",
    "else:\n",
    "    print(\"the number is odd\")"
   ]
  },
  {
   "cell_type": "code",
   "execution_count": 8,
   "id": "b266f7b3",
   "metadata": {},
   "outputs": [],
   "source": [
    "def even_or_odd(num):\n",
    "    \"\"\"This function finds even or odd\"\"\" # Docstring\n",
    "    if num%2==0:\n",
    "        print(\"the number is even\")\n",
    "    else:\n",
    "        print(\"the number is odd\")"
   ]
  },
  {
   "cell_type": "code",
   "execution_count": 9,
   "id": "317e8bbd",
   "metadata": {},
   "outputs": [
    {
     "name": "stdout",
     "output_type": "stream",
     "text": [
      "the number is odd\n"
     ]
    }
   ],
   "source": [
    "even_or_odd(13) # We are re using the entire code with the help of Python"
   ]
  },
  {
   "cell_type": "markdown",
   "id": "89477a9f",
   "metadata": {},
   "source": []
  },
  {
   "cell_type": "code",
   "execution_count": 10,
   "id": "ef6db812",
   "metadata": {},
   "outputs": [
    {
     "name": "stdout",
     "output_type": "stream",
     "text": [
      "the number is even\n"
     ]
    }
   ],
   "source": [
    "even_or_odd(22) # We are re using the entire code with the help of Python"
   ]
  },
  {
   "cell_type": "code",
   "execution_count": 11,
   "id": "a33f282f",
   "metadata": {},
   "outputs": [],
   "source": [
    "## function with multiple parameters\n",
    "\n",
    "def add(a,b):\n",
    "    return a+b\n",
    "\n",
    "\n",
    "    "
   ]
  },
  {
   "cell_type": "code",
   "execution_count": 12,
   "id": "21fe8b89",
   "metadata": {},
   "outputs": [
    {
     "name": "stdout",
     "output_type": "stream",
     "text": [
      "6\n"
     ]
    }
   ],
   "source": [
    "result=add(2,4)\n",
    "print(result)"
   ]
  },
  {
   "cell_type": "code",
   "execution_count": 13,
   "id": "0a311222",
   "metadata": {},
   "outputs": [
    {
     "name": "stdout",
     "output_type": "stream",
     "text": [
      "16\n"
     ]
    }
   ],
   "source": [
    "result=add(12,4)\n",
    "print(result)"
   ]
  },
  {
   "cell_type": "markdown",
   "id": "77e51183",
   "metadata": {},
   "source": [
    "## Default Parameters"
   ]
  },
  {
   "cell_type": "code",
   "execution_count": 14,
   "id": "b781f7d5",
   "metadata": {},
   "outputs": [
    {
     "name": "stdout",
     "output_type": "stream",
     "text": [
      "Hello Pritam Welcome To the paradise\n"
     ]
    }
   ],
   "source": [
    "\n",
    "def greet(name):\n",
    "    print(f\"Hello {name} Welcome To the paradise\")\n",
    "\n",
    "greet(\"Pritam\")"
   ]
  },
  {
   "cell_type": "code",
   "execution_count": 15,
   "id": "6c5024d9",
   "metadata": {},
   "outputs": [
    {
     "name": "stdout",
     "output_type": "stream",
     "text": [
      "Hello Pritam Welcome To the paradise\n"
     ]
    }
   ],
   "source": [
    "def greet(name=\"Guest\"):\n",
    "    print(f\"Hello {name} Welcome To the paradise\")\n",
    "\n",
    "greet(\"Pritam\")"
   ]
  },
  {
   "cell_type": "code",
   "execution_count": 17,
   "id": "bb2a8938",
   "metadata": {},
   "outputs": [
    {
     "name": "stdout",
     "output_type": "stream",
     "text": [
      "Hello Guest Welcome To the paradise\n"
     ]
    }
   ],
   "source": [
    "greet()# If the value is not passed, the default parameter value will be used"
   ]
  },
  {
   "cell_type": "markdown",
   "id": "9cbf7fd8",
   "metadata": {},
   "source": [
    "# Positional  arguments"
   ]
  },
  {
   "cell_type": "code",
   "execution_count": 26,
   "id": "02bdbc5f",
   "metadata": {},
   "outputs": [],
   "source": [
    "### Variable Length Arguments\n",
    "## Positional And Keywords arguments\n",
    "#We may have many arguments\n",
    "\n",
    "def print_numbers(*args): \n",
    "    # *args : is the positional argument | we can define the function with many parameters,\n",
    "    # But if we use * with the positional argument, we do not have to worry about the parameter numbers\n",
    "    for number in args:\n",
    "        print(number)"
   ]
  },
  {
   "cell_type": "code",
   "execution_count": 27,
   "id": "e6741a85",
   "metadata": {},
   "outputs": [
    {
     "name": "stdout",
     "output_type": "stream",
     "text": [
      "1\n",
      "2\n",
      "3\n",
      "4\n",
      "5\n"
     ]
    }
   ],
   "source": [
    "print_numbers(1,2,3,4,5)"
   ]
  },
  {
   "cell_type": "code",
   "execution_count": 28,
   "id": "09e68e78",
   "metadata": {},
   "outputs": [
    {
     "name": "stdout",
     "output_type": "stream",
     "text": [
      "1\n"
     ]
    }
   ],
   "source": [
    "print_numbers(1)"
   ]
  },
  {
   "cell_type": "code",
   "execution_count": 29,
   "id": "7cb23bce",
   "metadata": {},
   "outputs": [
    {
     "name": "stdout",
     "output_type": "stream",
     "text": [
      "Pritam\n"
     ]
    }
   ],
   "source": [
    "print_numbers(\"Pritam\")"
   ]
  },
  {
   "cell_type": "markdown",
   "id": "2d93d1c6",
   "metadata": {},
   "source": [
    "### Keywords Arguments"
   ]
  },
  {
   "cell_type": "code",
   "execution_count": 30,
   "id": "632a8f3f",
   "metadata": {},
   "outputs": [],
   "source": [
    "# Keyword arguments given by ** \n",
    "# In keyword argumnets all the parametes will be in the form of Key Value Pairs\n",
    "# That means we can access it as we access the dictionaries\n",
    "\n",
    "def print_details(**kwargs):\n",
    "    for key,value in kwargs.items():\n",
    "        print(f\"{key}:{value}\")"
   ]
  },
  {
   "cell_type": "code",
   "execution_count": 33,
   "id": "11c8b4c7",
   "metadata": {},
   "outputs": [
    {
     "name": "stdout",
     "output_type": "stream",
     "text": [
      "name:Pritam\n",
      "age:30\n",
      "country:India\n"
     ]
    }
   ],
   "source": [
    "print_details(name=\"Pritam\",age=\"30\",country=\"India\") # During the runtime I am giving these arguments\n",
    "# All the parameters are refering by **kwargs positional argument"
   ]
  },
  {
   "cell_type": "code",
   "execution_count": 37,
   "id": "0a16001e",
   "metadata": {},
   "outputs": [],
   "source": [
    "def print_details(*args,**kwargs):\n",
    "    for val in args:\n",
    "        print(\"Positional Argument : {}\".format(val))\n",
    "    \n",
    "    for key,value in kwargs.items():\n",
    "        print(f\"{key}:{value}\")"
   ]
  },
  {
   "cell_type": "code",
   "execution_count": 38,
   "id": "0f317ab4",
   "metadata": {},
   "outputs": [
    {
     "name": "stdout",
     "output_type": "stream",
     "text": [
      "Positional Argument : Swagata\n",
      "Positional Argument : Edhikaa\n",
      "Positional Argument : 3.14\n",
      "Positional Argument : 1990\n",
      "name:Pritam\n",
      "age:30\n",
      "country:India\n"
     ]
    }
   ],
   "source": [
    "print_details(\"Swagata\", \"Edhikaa\",3.14, 1990,name=\"Pritam\",age=\"30\",country=\"India\")"
   ]
  },
  {
   "cell_type": "markdown",
   "id": "fbaefedb",
   "metadata": {},
   "source": [
    "# But always remember\n",
    "positional argument follows keyword argument"
   ]
  },
  {
   "cell_type": "code",
   "execution_count": 39,
   "id": "2dde79e8",
   "metadata": {},
   "outputs": [
    {
     "ename": "SyntaxError",
     "evalue": "positional argument follows keyword argument (1889044729.py, line 1)",
     "output_type": "error",
     "traceback": [
      "  \u001b[36mCell\u001b[39m\u001b[36m \u001b[39m\u001b[32mIn[39]\u001b[39m\u001b[32m, line 1\u001b[39m\n\u001b[31m    \u001b[39m\u001b[31mprint_details(\"Swagata\", \"Edhikaa\",3.14, 1990,name=\"Pritam\",age=\"30\",country=\"India\", \"UK\")\u001b[39m\n                                                                                              ^\n\u001b[31mSyntaxError\u001b[39m\u001b[31m:\u001b[39m positional argument follows keyword argument\n"
     ]
    }
   ],
   "source": [
    "print_details(\"Swagata\", \"Edhikaa\",3.14, 1990,name=\"Pritam\",age=\"30\",country=\"India\", \"UK\")"
   ]
  },
  {
   "cell_type": "markdown",
   "id": "048bb2a6",
   "metadata": {},
   "source": [
    "### Return statements"
   ]
  },
  {
   "cell_type": "code",
   "execution_count": 42,
   "id": "ed7afe0d",
   "metadata": {},
   "outputs": [],
   "source": [
    "def multiply(a,b):\n",
    "    c = a*b\n",
    "    print(c)\n",
    "    \n",
    "\n",
    "\n"
   ]
  },
  {
   "cell_type": "code",
   "execution_count": 43,
   "id": "f0c83c04",
   "metadata": {},
   "outputs": [
    {
     "name": "stdout",
     "output_type": "stream",
     "text": [
      "6\n"
     ]
    }
   ],
   "source": [
    "multiply(3,2)\n"
   ]
  },
  {
   "cell_type": "code",
   "execution_count": 44,
   "id": "7ce25800",
   "metadata": {},
   "outputs": [
    {
     "data": {
      "text/plain": [
       "6"
      ]
     },
     "execution_count": 44,
     "metadata": {},
     "output_type": "execute_result"
    }
   ],
   "source": [
    "### Return statements\n",
    "def multiply(a,b):\n",
    "    return a*b\n",
    "\n",
    "multiply(2,3)"
   ]
  },
  {
   "cell_type": "code",
   "execution_count": 45,
   "id": "2b342b99",
   "metadata": {},
   "outputs": [
    {
     "data": {
      "text/plain": [
       "(6, 2, 3)"
      ]
     },
     "execution_count": 45,
     "metadata": {},
     "output_type": "execute_result"
    }
   ],
   "source": [
    "### Return multiple parameters\n",
    "def multiply(a,b):\n",
    "    return a*b,a,b\n",
    "\n",
    "multiply(2,3)"
   ]
  },
  {
   "cell_type": "markdown",
   "id": "0aceab11",
   "metadata": {},
   "source": [
    "# Most Python functions return, but some print\n",
    "Functions have inputs and outputs: their arguments are their inputs and their return value is their output.\n",
    " Since return is used to pass a value from one bit of code to another, most functions need a return value in order to be useful"
   ]
  }
 ],
 "metadata": {
  "kernelspec": {
   "display_name": "Python 3",
   "language": "python",
   "name": "python3"
  },
  "language_info": {
   "codemirror_mode": {
    "name": "ipython",
    "version": 3
   },
   "file_extension": ".py",
   "mimetype": "text/x-python",
   "name": "python",
   "nbconvert_exporter": "python",
   "pygments_lexer": "ipython3",
   "version": "3.13.7"
  }
 },
 "nbformat": 4,
 "nbformat_minor": 5
}
