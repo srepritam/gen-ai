{
 "cells": [
  {
   "cell_type": "markdown",
   "id": "78706e9a",
   "metadata": {},
   "source": [
    "# Lambda Functions in Python\n",
    "Lambda functions are small anonymous functions defined using the lambda keyword.\n",
    "\n",
    "anonymous function : It means a function without a name.\n",
    "we should have the keyword as lambda\n",
    "\n",
    "They can have any number of arguments but only one expression. \n",
    "One expression means : one Logic\n",
    "\n",
    "They are commonly used for short operations or as arguments to higher-order functions."
   ]
  },
  {
   "cell_type": "code",
   "execution_count": 1,
   "id": "ae824ce5",
   "metadata": {},
   "outputs": [
    {
     "data": {
      "text/plain": [
       "<function __main__.<lambda>(arguments)>"
      ]
     },
     "execution_count": 1,
     "metadata": {},
     "output_type": "execute_result"
    }
   ],
   "source": [
    "#Syntax\n",
    "lambda arguments: expression"
   ]
  },
  {
   "cell_type": "markdown",
   "id": "d92a807d",
   "metadata": {},
   "source": [
    "# Lets create a function"
   ]
  },
  {
   "cell_type": "markdown",
   "id": "edc24451",
   "metadata": {},
   "source": []
  },
  {
   "cell_type": "code",
   "execution_count": 2,
   "id": "a187ea60",
   "metadata": {},
   "outputs": [],
   "source": [
    "def addition(a,b):\n",
    "    return a+b"
   ]
  },
  {
   "cell_type": "code",
   "execution_count": 3,
   "id": "34bc0e38",
   "metadata": {},
   "outputs": [
    {
     "data": {
      "text/plain": [
       "6"
      ]
     },
     "execution_count": 3,
     "metadata": {},
     "output_type": "execute_result"
    }
   ],
   "source": [
    "addition(2,4)"
   ]
  },
  {
   "cell_type": "markdown",
   "id": "f60c915e",
   "metadata": {},
   "source": [
    "# This is a basic function where we have written one basic logic or operation here"
   ]
  },
  {
   "cell_type": "code",
   "execution_count": 6,
   "id": "67f563d1",
   "metadata": {},
   "outputs": [
    {
     "name": "stdout",
     "output_type": "stream",
     "text": [
      "11\n"
     ]
    }
   ],
   "source": [
    "addition=lambda a,b:a+b # lambda ( anonymous ) (keyword), argument(a,b), expression/logic/opration (a+b)\n",
    "type(addition)\n",
    "print(addition(5,6))"
   ]
  },
  {
   "cell_type": "markdown",
   "id": "c3c98263",
   "metadata": {},
   "source": [
    "# Another Example"
   ]
  },
  {
   "cell_type": "code",
   "execution_count": 7,
   "id": "867530b7",
   "metadata": {},
   "outputs": [
    {
     "data": {
      "text/plain": [
       "True"
      ]
     },
     "execution_count": 7,
     "metadata": {},
     "output_type": "execute_result"
    }
   ],
   "source": [
    "def even(num):\n",
    "    if num%2==0:\n",
    "        return True\n",
    "    \n",
    "even(24)"
   ]
  },
  {
   "cell_type": "code",
   "execution_count": 10,
   "id": "9f7b6236",
   "metadata": {},
   "outputs": [],
   "source": [
    "even1=lambda num:num%2==0 # lambda | argument | logic\n"
   ]
  },
  {
   "cell_type": "code",
   "execution_count": 11,
   "id": "b0af7bdc",
   "metadata": {},
   "outputs": [
    {
     "data": {
      "text/plain": [
       "True"
      ]
     },
     "execution_count": 11,
     "metadata": {},
     "output_type": "execute_result"
    }
   ],
   "source": [
    "even1(12)"
   ]
  },
  {
   "cell_type": "code",
   "execution_count": 12,
   "id": "120f519f",
   "metadata": {},
   "outputs": [
    {
     "data": {
      "text/plain": [
       "False"
      ]
     },
     "execution_count": 12,
     "metadata": {},
     "output_type": "execute_result"
    }
   ],
   "source": [
    "even1(9)"
   ]
  },
  {
   "cell_type": "markdown",
   "id": "846af1f8",
   "metadata": {},
   "source": [
    "# Another Example"
   ]
  },
  {
   "cell_type": "code",
   "execution_count": 13,
   "id": "6880adb6",
   "metadata": {},
   "outputs": [
    {
     "data": {
      "text/plain": [
       "39"
      ]
     },
     "execution_count": 13,
     "metadata": {},
     "output_type": "execute_result"
    }
   ],
   "source": [
    "def addition(x,y,z):\n",
    "    return x+y+z\n",
    "\n",
    "addition(12,13,14)"
   ]
  },
  {
   "cell_type": "code",
   "execution_count": 14,
   "id": "ccb25d34",
   "metadata": {},
   "outputs": [],
   "source": [
    "addition1=lambda x,y,z:x+y+z\n"
   ]
  },
  {
   "cell_type": "code",
   "execution_count": 15,
   "id": "ecadfb38",
   "metadata": {},
   "outputs": [
    {
     "data": {
      "text/plain": [
       "39"
      ]
     },
     "execution_count": 15,
     "metadata": {},
     "output_type": "execute_result"
    }
   ],
   "source": [
    "addition1(12,13,14)"
   ]
  },
  {
   "cell_type": "code",
   "execution_count": 16,
   "id": "fa25b3f4",
   "metadata": {},
   "outputs": [
    {
     "data": {
      "text/plain": [
       "144"
      ]
     },
     "execution_count": 16,
     "metadata": {},
     "output_type": "execute_result"
    }
   ],
   "source": [
    "addition1(120,10,14)"
   ]
  },
  {
   "cell_type": "markdown",
   "id": "002ca937",
   "metadata": {},
   "source": [
    "# Another Example"
   ]
  },
  {
   "cell_type": "code",
   "execution_count": null,
   "id": "f826d38e",
   "metadata": {},
   "outputs": [],
   "source": [
    "\n",
    "\n",
    "def square(number):\n",
    "    return number**2\n",
    "\n"
   ]
  },
  {
   "cell_type": "code",
   "execution_count": 20,
   "id": "63a2ff09",
   "metadata": {},
   "outputs": [
    {
     "data": {
      "text/plain": [
       "4"
      ]
     },
     "execution_count": 20,
     "metadata": {},
     "output_type": "execute_result"
    }
   ],
   "source": [
    "square(2)"
   ]
  },
  {
   "cell_type": "code",
   "execution_count": 22,
   "id": "4645edbc",
   "metadata": {},
   "outputs": [
    {
     "data": {
      "text/plain": [
       "36"
      ]
     },
     "execution_count": 22,
     "metadata": {},
     "output_type": "execute_result"
    }
   ],
   "source": [
    "square(6)"
   ]
  },
  {
   "cell_type": "markdown",
   "id": "30322168",
   "metadata": {},
   "source": [
    "# map()- applies a function to all items in a list"
   ]
  },
  {
   "cell_type": "code",
   "execution_count": 23,
   "id": "7460c542",
   "metadata": {},
   "outputs": [],
   "source": [
    "numbers=[1,2,3,4,5,6]\n",
    "# Lets say we have a list of numbers and I want to get the square of all the list numbers\n",
    "def square(number):\n",
    "    return number**2"
   ]
  },
  {
   "cell_type": "code",
   "execution_count": 24,
   "id": "6a747a1c",
   "metadata": {},
   "outputs": [
    {
     "data": {
      "text/plain": [
       "9"
      ]
     },
     "execution_count": 24,
     "metadata": {},
     "output_type": "execute_result"
    }
   ],
   "source": [
    "square(3)"
   ]
  },
  {
   "cell_type": "markdown",
   "id": "4950ddc2",
   "metadata": {},
   "source": [
    "# But we can see the square of just a number"
   ]
  },
  {
   "cell_type": "markdown",
   "id": "ccd4065d",
   "metadata": {},
   "source": [
    "# What we can do is : "
   ]
  },
  {
   "cell_type": "code",
   "execution_count": 35,
   "id": "d8b32242",
   "metadata": {},
   "outputs": [],
   "source": [
    "\n",
    "op = []\n",
    "# Lets say we have a list of numbers and I want to get the square of all the list numbers\n",
    "def list_square(my_list):\n",
    "    \n",
    "    for i in range(1,len(my_list)+1):\n",
    "        op.append(i**2)\n",
    "    return op\n",
    "\n",
    "\n"
   ]
  },
  {
   "cell_type": "code",
   "execution_count": 36,
   "id": "acf456fc",
   "metadata": {},
   "outputs": [
    {
     "data": {
      "text/plain": [
       "[1, 4, 9, 16, 25, 36]"
      ]
     },
     "execution_count": 36,
     "metadata": {},
     "output_type": "execute_result"
    }
   ],
   "source": [
    "numbers=[1,2,3,4,5,6]\n",
    "list_square(numbers)"
   ]
  },
  {
   "cell_type": "markdown",
   "id": "60a51dc7",
   "metadata": {},
   "source": [
    "# BUT"
   ]
  },
  {
   "cell_type": "code",
   "execution_count": 38,
   "id": "4c68bf21",
   "metadata": {},
   "outputs": [
    {
     "data": {
      "text/plain": [
       "[1, 4, 9, 16, 25, 36]"
      ]
     },
     "execution_count": 38,
     "metadata": {},
     "output_type": "execute_result"
    }
   ],
   "source": [
    "numbers=[1,2,3,4,5,6]\n",
    "list(map(lambda x:x**2,numbers)) \n",
    "\n",
    "# map function : Applies a function to all items in a collection"
   ]
  }
 ],
 "metadata": {
  "kernelspec": {
   "display_name": "Python 3",
   "language": "python",
   "name": "python3"
  },
  "language_info": {
   "codemirror_mode": {
    "name": "ipython",
    "version": 3
   },
   "file_extension": ".py",
   "mimetype": "text/x-python",
   "name": "python",
   "nbconvert_exporter": "python",
   "pygments_lexer": "ipython3",
   "version": "3.13.7"
  }
 },
 "nbformat": 4,
 "nbformat_minor": 5
}
