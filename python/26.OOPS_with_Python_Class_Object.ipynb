{
 "cells": [
  {
   "cell_type": "markdown",
   "id": "a8426f2c",
   "metadata": {},
   "source": [
    "# Object-Oriented Programming (OOP)"
   ]
  },
  {
   "cell_type": "markdown",
   "id": "aed58e6d",
   "metadata": {},
   "source": [
    "Object-Oriented Programming (OOP) is a programming paradigm based on the concept of \"objects\", which represent real-world entities. These objects contain:\n",
    "\n",
    "1. Data (attributes/properties)\n",
    "\n",
    "2. Behavior (methods/functions)"
   ]
  },
  {
   "cell_type": "markdown",
   "id": "fae94627",
   "metadata": {},
   "source": [
    "OOP is a way of writing programs where we organize our code around \"objects\", not just logic and functions.\n",
    "\n",
    "Think of it like this:\n",
    "\n",
    "In real life, everything around us is an object — a person, a car, a phone, a dog.\n",
    "\n",
    "These objects have:\n",
    "\n",
    "Properties (what they are)\n",
    "\n",
    "Behaviors (what they can do)"
   ]
  },
  {
   "cell_type": "markdown",
   "id": "29cc722c",
   "metadata": {},
   "source": [
    "# OOP in Programming\n",
    "\n",
    "In programming, we create objects in our code to model real-world things.\n",
    "\n",
    "These objects have two key things:\n",
    "\n",
    "### 1. Data — also called attributes or properties\n",
    "This is what the object has.\n",
    "| Object | Attributes (Data)               |\n",
    "| ------ | ------------------------------- |\n",
    "| Dog    | name, breed, age                |\n",
    "| Car    | brand, color, speed             |\n",
    "| User   | username, email, is\\_logged\\_in |\n"
   ]
  },
  {
   "cell_type": "markdown",
   "id": "6057b3ef",
   "metadata": {},
   "source": [
    "### 2. Behavior — also called methods or functions\n",
    "\n",
    "This is what the object can do.\n",
    "\n",
    "For example:\n",
    "| Object | Methods (Behavior)                   |\n",
    "| ------ | ------------------------------------ |\n",
    "| Dog    | bark(), eat(), sleep()               |\n",
    "| Car    | drive(), brake(), honk()             |\n",
    "| User   | login(), logout(), update\\_profile() |\n"
   ]
  },
  {
   "cell_type": "markdown",
   "id": "19d30c2f",
   "metadata": {},
   "source": [
    "### Example\n",
    "\n",
    "Let’s model a Dog in OOP terms:\n",
    "\n",
    "### Attributes:\n",
    "\n",
    "name = \"Tommy\"\n",
    "\n",
    "breed = \"Labrador\"\n",
    "\n",
    "age = 3\n",
    "\n",
    "### Methods:\n",
    "\n",
    "bark() → makes sound\n",
    "\n",
    "eat() → eats food"
   ]
  },
  {
   "cell_type": "markdown",
   "id": "8dcea529",
   "metadata": {},
   "source": [
    "### Translating this to Python (Basic OOP Class) | Will explain more below \n"
   ]
  },
  {
   "cell_type": "markdown",
   "id": "6d4f0a48",
   "metadata": {},
   "source": []
  },
  {
   "cell_type": "code",
   "execution_count": 1,
   "id": "f9969dcb",
   "metadata": {},
   "outputs": [],
   "source": [
    "class Dog:\n",
    "    def __init__(self, name, breed):\n",
    "        self.name = name         # attribute\n",
    "        self.breed = breed       # attribute\n",
    "\n",
    "    def bark(self):              # method\n",
    "        print(f\"{self.name} says Woof!\")\n"
   ]
  },
  {
   "cell_type": "markdown",
   "id": "f95a38f8",
   "metadata": {},
   "source": [
    "### Now, let's create a dog object:"
   ]
  },
  {
   "cell_type": "code",
   "execution_count": 2,
   "id": "e1066fff",
   "metadata": {},
   "outputs": [
    {
     "name": "stdout",
     "output_type": "stream",
     "text": [
      "Tommy says Woof!\n"
     ]
    }
   ],
   "source": [
    "my_dog = Dog(\"Tommy\", \"Labrador\")\n",
    "my_dog.bark()   # Output: Tommy says Woof!\n"
   ]
  },
  {
   "cell_type": "markdown",
   "id": "b4bddf97",
   "metadata": {},
   "source": [
    "# Again a Basic ecxample\n",
    "### A class is a blue print for creating objects. \n",
    "### It has its attributes and methods"
   ]
  },
  {
   "cell_type": "code",
   "execution_count": 3,
   "id": "0ef826c8",
   "metadata": {},
   "outputs": [
    {
     "name": "stdout",
     "output_type": "stream",
     "text": [
      "<class '__main__.Car'>\n"
     ]
    }
   ],
   "source": [
    "class Car: # Creating a class of name Car ( it is a blueprint of creating an object )\n",
    "    pass\n",
    "\n",
    "audi=Car() # Using the Car blueprint an dcreating an Audi Object\n",
    "bmw=Car()  # Using the Car blueprint an dcreating an BMW Object\n",
    "\n",
    "print(type(audi))"
   ]
  },
  {
   "cell_type": "code",
   "execution_count": 5,
   "id": "8714b3e1",
   "metadata": {},
   "outputs": [
    {
     "name": "stdout",
     "output_type": "stream",
     "text": [
      "<__main__.Car object at 0x000001FEB897C6E0>\n",
      "<__main__.Car object at 0x000001FEB8A6DD10>\n"
     ]
    }
   ],
   "source": [
    "# These are the objects at that specific memory Location\n",
    "print(audi)\n",
    "print(bmw)"
   ]
  },
  {
   "cell_type": "code",
   "execution_count": 10,
   "id": "6dee2fd1",
   "metadata": {},
   "outputs": [
    {
     "name": "stdout",
     "output_type": "stream",
     "text": [
      "3\n"
     ]
    }
   ],
   "source": [
    "# Instance Variable, which is present inside the Class\n",
    "# camera is the attribute which is present inside the audi object \n",
    "audi.camera=3\n",
    "print(audi.camera)"
   ]
  },
  {
   "cell_type": "code",
   "execution_count": 11,
   "id": "37294781",
   "metadata": {},
   "outputs": [
    {
     "ename": "AttributeError",
     "evalue": "'Car' object has no attribute 'camera'",
     "output_type": "error",
     "traceback": [
      "\u001b[31m---------------------------------------------------------------------------\u001b[39m",
      "\u001b[31mAttributeError\u001b[39m                            Traceback (most recent call last)",
      "\u001b[36mCell\u001b[39m\u001b[36m \u001b[39m\u001b[32mIn[11]\u001b[39m\u001b[32m, line 3\u001b[39m\n\u001b[32m      1\u001b[39m tata=Car() \u001b[38;5;66;03m# Creating anotherobject from the Class Car\u001b[39;00m\n\u001b[32m      2\u001b[39m tata.windows=\u001b[32m5\u001b[39m \u001b[38;5;66;03m# Lets say It has 5 Windows\u001b[39;00m\n\u001b[32m----> \u001b[39m\u001b[32m3\u001b[39m \u001b[38;5;28mprint\u001b[39m(\u001b[43mtata\u001b[49m\u001b[43m.\u001b[49m\u001b[43mcamera\u001b[49m) \u001b[38;5;66;03m# But we are tying to access the camera attribute of this object\u001b[39;00m\n",
      "\u001b[31mAttributeError\u001b[39m: 'Car' object has no attribute 'camera'"
     ]
    }
   ],
   "source": [
    "tata=Car() # Creating anotherobject from the Class Car\n",
    "tata.windows=5 # Lets say It has 5 Windows\n",
    "print(tata.camera) # But we are tying to access the camera attribute of this object"
   ]
  },
  {
   "cell_type": "markdown",
   "id": "d3152e95",
   "metadata": {},
   "source": [
    "### 'Car' object has no attribute 'camera' , means we have not defined this attribute for this object"
   ]
  },
  {
   "cell_type": "code",
   "execution_count": null,
   "id": "d5b4b8ac",
   "metadata": {},
   "outputs": [
    {
     "data": {
      "text/plain": [
       "['__class__',\n",
       " '__delattr__',\n",
       " '__dict__',\n",
       " '__dir__',\n",
       " '__doc__',\n",
       " '__eq__',\n",
       " '__firstlineno__',\n",
       " '__format__',\n",
       " '__ge__',\n",
       " '__getattribute__',\n",
       " '__getstate__',\n",
       " '__gt__',\n",
       " '__hash__',\n",
       " '__init__',\n",
       " '__init_subclass__',\n",
       " '__le__',\n",
       " '__lt__',\n",
       " '__module__',\n",
       " '__ne__',\n",
       " '__new__',\n",
       " '__reduce__',\n",
       " '__reduce_ex__',\n",
       " '__repr__',\n",
       " '__setattr__',\n",
       " '__sizeof__',\n",
       " '__static_attributes__',\n",
       " '__str__',\n",
       " '__subclasshook__',\n",
       " '__weakref__',\n",
       " 'camera']"
      ]
     },
     "execution_count": 13,
     "metadata": {},
     "output_type": "execute_result"
    }
   ],
   "source": [
    "dir(audi) # Directory of this object # TO see all the attributes present inside the object ( audi in this case )"
   ]
  },
  {
   "cell_type": "markdown",
   "id": "7450728b",
   "metadata": {},
   "source": [
    "### Here we can see along with the other attribute we are having a camera attribute ( which we have defined )"
   ]
  },
  {
   "cell_type": "markdown",
   "id": "9c50ab76",
   "metadata": {},
   "source": [
    "# Instance Variable and Methods"
   ]
  },
  {
   "cell_type": "code",
   "execution_count": null,
   "id": "d3203959",
   "metadata": {},
   "outputs": [],
   "source": [
    "\n",
    "class Dog:\n",
    "    ## constructor\n",
    "    def __init__(self,name,age): # These are parameter \n",
    "         # by __init__ constructor we are making sure that we are declaring all the possible attribute of this Class\n",
    "         #Lets say we have 2 attribute\n",
    "         # We need to provide this value during the runtime\n",
    "        self.name=name\n",
    "        self.age=age\n",
    "\n",
    "\n"
   ]
  },
  {
   "cell_type": "code",
   "execution_count": null,
   "id": "3c4b57c8",
   "metadata": {},
   "outputs": [
    {
     "name": "stdout",
     "output_type": "stream",
     "text": [
      "<__main__.Dog object at 0x000001FEB8B96510>\n",
      "Buddy\n",
      "3\n"
     ]
    }
   ],
   "source": [
    "## create objects\n",
    "dog1=Dog(\"JuJu\",10)\n",
    "print(dog1)\n",
    "print(dog1.name)\n",
    "print(dog1.age)"
   ]
  },
  {
   "cell_type": "code",
   "execution_count": 17,
   "id": "5bbf5f5a",
   "metadata": {},
   "outputs": [
    {
     "name": "stdout",
     "output_type": "stream",
     "text": [
      "<__main__.Dog object at 0x000001FEB8A6EC10>\n",
      "Pota\n",
      "3\n"
     ]
    }
   ],
   "source": [
    "## create objects\n",
    "dog2=Dog(\"Pota\",3)\n",
    "print(dog2)\n",
    "print(dog2.name)\n",
    "print(dog2.age)"
   ]
  },
  {
   "cell_type": "code",
   "execution_count": 18,
   "id": "4e07b50f",
   "metadata": {},
   "outputs": [
    {
     "ename": "TypeError",
     "evalue": "Dog.__init__() missing 2 required positional arguments: 'name' and 'age'",
     "output_type": "error",
     "traceback": [
      "\u001b[31m---------------------------------------------------------------------------\u001b[39m",
      "\u001b[31mTypeError\u001b[39m                                 Traceback (most recent call last)",
      "\u001b[36mCell\u001b[39m\u001b[36m \u001b[39m\u001b[32mIn[18]\u001b[39m\u001b[32m, line 2\u001b[39m\n\u001b[32m      1\u001b[39m \u001b[38;5;66;03m## create objects\u001b[39;00m\n\u001b[32m----> \u001b[39m\u001b[32m2\u001b[39m dog3=\u001b[43mDog\u001b[49m\u001b[43m(\u001b[49m\u001b[43m)\u001b[49m\n",
      "\u001b[31mTypeError\u001b[39m: Dog.__init__() missing 2 required positional arguments: 'name' and 'age'"
     ]
    }
   ],
   "source": [
    "## create objects\n",
    "dog3=Dog()"
   ]
  },
  {
   "cell_type": "markdown",
   "id": "ca8b8e7e",
   "metadata": {},
   "source": [
    "### As soon as we create the object internaly it is going to call the constructor first and as this is having 2 parameter or instance variable, without those the object will not be created"
   ]
  },
  {
   "cell_type": "markdown",
   "id": "a64db6d1",
   "metadata": {},
   "source": [
    "### So we need to create the object with 2 Parameters ( Instance Variable )"
   ]
  },
  {
   "cell_type": "markdown",
   "id": "dce0ed57",
   "metadata": {},
   "source": [
    "### Define a class with instance methods"
   ]
  },
  {
   "cell_type": "code",
   "execution_count": 20,
   "id": "7cc5c813",
   "metadata": {},
   "outputs": [
    {
     "name": "stdout",
     "output_type": "stream",
     "text": [
      "JuJu says Hello...\n",
      "Nani says Hello...\n"
     ]
    }
   ],
   "source": [
    "## Define a class with instance methods\n",
    "class Dog:\n",
    "    # Init Constructor\n",
    "    def __init__(self,name,age):\n",
    "        # Instance Variables / Properties / Attributes\n",
    "        self.name=name\n",
    "        self.age=age\n",
    "\n",
    "    # instance methods ( what this Class Does )\n",
    "    def bark(self):\n",
    "        print(\"{} says Hello...\".format(self.name))\n",
    "\n",
    "# \n",
    "dog1=Dog(\"JuJu\",3)\n",
    "dog1.bark()\n",
    "dog2=Dog(\"Nani\",4)\n",
    "dog2.bark()"
   ]
  },
  {
   "cell_type": "markdown",
   "id": "57df3762",
   "metadata": {},
   "source": [
    "### Modeling a Bank Account"
   ]
  },
  {
   "cell_type": "code",
   "execution_count": 21,
   "id": "130f2527",
   "metadata": {},
   "outputs": [],
   "source": [
    "## Define a class for bank account\n",
    "class BankAccount:\n",
    "    # Init Constrcutor\n",
    "    def __init__(self,owner,balance=0):\n",
    "\n",
    "        # Instance Variables\n",
    "        self.owner=owner\n",
    "        self.balance=balance\n",
    "\n",
    "    # Instance Method\n",
    "    def deposit(self,amount):\n",
    "        self.balance+=amount\n",
    "        print(f\"{amount} is deposited. New balance is {self.balance}\")\n",
    "\n",
    "    # Instance Method\n",
    "    def withdraw(self,amount):\n",
    "        if amount>self.balance:\n",
    "            print(\"Insufficient funds!\")\n",
    "        else:\n",
    "            self.balance-=amount\n",
    "            print(f\"{amount} is withdrawn. New Balance is {self.balance}\")\n",
    "\n",
    "    # Instance Method\n",
    "    def get_balance(self):\n",
    "        return self.balance\n",
    "    \n",
    "\n"
   ]
  },
  {
   "cell_type": "code",
   "execution_count": 27,
   "id": "b06562f0",
   "metadata": {},
   "outputs": [
    {
     "name": "stdout",
     "output_type": "stream",
     "text": [
      "5000\n"
     ]
    }
   ],
   "source": [
    "account=BankAccount(\"Pritam\",5000)\n",
    "print(account.balance)"
   ]
  },
  {
   "cell_type": "code",
   "execution_count": 28,
   "id": "829f62ff",
   "metadata": {},
   "outputs": [
    {
     "name": "stdout",
     "output_type": "stream",
     "text": [
      "100 is deposited. New balance is 5100\n"
     ]
    }
   ],
   "source": [
    "## Call isntance methods\n",
    "account.deposit(100)"
   ]
  },
  {
   "cell_type": "code",
   "execution_count": 29,
   "id": "e9813226",
   "metadata": {},
   "outputs": [
    {
     "name": "stdout",
     "output_type": "stream",
     "text": [
      "300 is withdrawn. New Balance is 4800\n"
     ]
    }
   ],
   "source": [
    "account.withdraw(300)\n"
   ]
  },
  {
   "cell_type": "code",
   "execution_count": 30,
   "id": "7c08ab2e",
   "metadata": {},
   "outputs": [
    {
     "name": "stdout",
     "output_type": "stream",
     "text": [
      "4800\n"
     ]
    }
   ],
   "source": [
    "print(account.get_balance())"
   ]
  },
  {
   "cell_type": "code",
   "execution_count": 31,
   "id": "8f62527b",
   "metadata": {},
   "outputs": [
    {
     "name": "stdout",
     "output_type": "stream",
     "text": [
      "1500 is deposited. New balance is 6300\n"
     ]
    }
   ],
   "source": [
    "## Call isntance methods\n",
    "account.deposit(1500)"
   ]
  },
  {
   "cell_type": "code",
   "execution_count": 32,
   "id": "b6c35092",
   "metadata": {},
   "outputs": [
    {
     "name": "stdout",
     "output_type": "stream",
     "text": [
      "6000 is withdrawn. New Balance is 300\n"
     ]
    }
   ],
   "source": [
    "account.withdraw(6000)"
   ]
  },
  {
   "cell_type": "code",
   "execution_count": 33,
   "id": "f3a334e2",
   "metadata": {},
   "outputs": [
    {
     "name": "stdout",
     "output_type": "stream",
     "text": [
      "200 is deposited. New balance is 500\n"
     ]
    }
   ],
   "source": [
    "## Call isntance methods\n",
    "account.deposit(200)"
   ]
  },
  {
   "cell_type": "code",
   "execution_count": 34,
   "id": "80e4b805",
   "metadata": {},
   "outputs": [
    {
     "name": "stdout",
     "output_type": "stream",
     "text": [
      "Insufficient funds!\n"
     ]
    }
   ],
   "source": [
    "account.withdraw(1000)"
   ]
  },
  {
   "cell_type": "code",
   "execution_count": 35,
   "id": "600c9d4f",
   "metadata": {},
   "outputs": [
    {
     "name": "stdout",
     "output_type": "stream",
     "text": [
      "500\n"
     ]
    }
   ],
   "source": [
    "print(account.balance)"
   ]
  },
  {
   "cell_type": "markdown",
   "id": "af250700",
   "metadata": {},
   "source": [
    "### Library Book\n",
    "✅ Objective:\n",
    "\n",
    "We'll create a class LibraryBook that models a book in a library. It will include:\n",
    "\n",
    "__init__ constructor (to initialize book details)\n",
    "\n",
    "Instance variables (e.g., title, author, status)\n",
    "\n",
    "Instance methods to:\n",
    "\n",
    "Borrow a book\n",
    "\n",
    "Return a book\n",
    "\n",
    "Check availability"
   ]
  },
  {
   "cell_type": "code",
   "execution_count": 37,
   "id": "35dbe5cf",
   "metadata": {},
   "outputs": [],
   "source": [
    "# Class Definition\n",
    "class LibraryBook:\n",
    "    def __init__(self, title, author):\n",
    "        self.title = title\n",
    "        self.author = author\n",
    "        self.is_borrowed = False  # Book is available by default\n",
    "\n",
    "    def borrow(self):\n",
    "        if self.is_borrowed:\n",
    "            print(f\"Sorry, '{self.title}' is already borrowed.\")\n",
    "        else:\n",
    "            self.is_borrowed = True\n",
    "            print(f\"You have successfully borrowed '{self.title}'.\")\n",
    "\n",
    "    def return_book(self):\n",
    "        if not self.is_borrowed:\n",
    "            print(f\"'{self.title}' is not currently borrowed.\")\n",
    "        else:\n",
    "            self.is_borrowed = False\n",
    "            print(f\"Thank you for returning '{self.title}'.\")\n",
    "\n",
    "    def check_availability(self):\n",
    "        if self.is_borrowed:\n",
    "            print(f\"'{self.title}' is currently not available.\")\n",
    "        else:\n",
    "            print(f\"'{self.title}' is available for borrowing.\")\n",
    "\n",
    "\n"
   ]
  },
  {
   "cell_type": "code",
   "execution_count": null,
   "id": "d3334052",
   "metadata": {},
   "outputs": [],
   "source": [
    "# Creating Objects (Instances)\n",
    "book1 = LibraryBook(\"1984\", \"George Orwell\")\n",
    "book2 = LibraryBook(\"To Kill a Mockingbird\", \"Harper Lee\")\n",
    "\n"
   ]
  },
  {
   "cell_type": "code",
   "execution_count": 38,
   "id": "c28d8806",
   "metadata": {},
   "outputs": [
    {
     "name": "stdout",
     "output_type": "stream",
     "text": [
      "'1984' is available for borrowing.\n",
      "You have successfully borrowed '1984'.\n",
      "Sorry, '1984' is already borrowed.\n",
      "Thank you for returning '1984'.\n",
      "'1984' is available for borrowing.\n"
     ]
    }
   ],
   "source": [
    "# Using Methods\n",
    "book1.check_availability()    # Check if available\n",
    "book1.borrow()                # Borrow the book\n",
    "book1.borrow()                # Try borrowing again\n",
    "book1.return_book()           # Return the book\n",
    "book1.check_availability()    # Check again"
   ]
  },
  {
   "cell_type": "code",
   "execution_count": 39,
   "id": "d665996c",
   "metadata": {},
   "outputs": [
    {
     "name": "stdout",
     "output_type": "stream",
     "text": [
      "'To Kill a Mockingbird' is available for borrowing.\n",
      "You have successfully borrowed 'To Kill a Mockingbird'.\n",
      "Sorry, 'To Kill a Mockingbird' is already borrowed.\n",
      "Thank you for returning 'To Kill a Mockingbird'.\n",
      "'To Kill a Mockingbird' is available for borrowing.\n"
     ]
    }
   ],
   "source": [
    "# Using Methods\n",
    "book2.check_availability()    # Check if available\n",
    "book2.borrow()                # Borrow the book\n",
    "book2.borrow()                # Try borrowing again\n",
    "book2.return_book()           # Return the book\n",
    "book2.check_availability()    # Check again"
   ]
  },
  {
   "cell_type": "markdown",
   "id": "62b5311f",
   "metadata": {},
   "source": [
    "### Student Management System\n",
    "✅ Description:\n",
    "\n",
    "Manages student details and grades."
   ]
  },
  {
   "cell_type": "code",
   "execution_count": 40,
   "id": "a1b24d45",
   "metadata": {},
   "outputs": [],
   "source": [
    "class Student:\n",
    "    def __init__(self, name, roll_number):\n",
    "        self.name = name\n",
    "        self.roll_number = roll_number\n",
    "        self.grades = []\n",
    "\n",
    "    def add_grade(self, grade):\n",
    "        self.grades.append(grade)\n",
    "        print(f\"Grade {grade} added for {self.name}.\")\n",
    "\n",
    "    def calculate_average(self):\n",
    "        if not self.grades:\n",
    "            return 0\n",
    "        return sum(self.grades) / len(self.grades)\n",
    "\n",
    "    def show_details(self):\n",
    "        print(f\"Name: {self.name}, Roll No: {self.roll_number}, Average Grade: {self.calculate_average():.2f}\")\n",
    "\n",
    "\n"
   ]
  },
  {
   "cell_type": "markdown",
   "id": "ace696b0",
   "metadata": {},
   "source": []
  },
  {
   "cell_type": "code",
   "execution_count": 41,
   "id": "4dc379f6",
   "metadata": {},
   "outputs": [],
   "source": [
    "# Object create \n",
    "student1 = Student(\"Pritam\", \"S101\")\n"
   ]
  },
  {
   "cell_type": "code",
   "execution_count": 42,
   "id": "c0d78287",
   "metadata": {},
   "outputs": [
    {
     "name": "stdout",
     "output_type": "stream",
     "text": [
      "Grade 85 added for Pritam.\n",
      "Grade 90 added for Pritam.\n",
      "Grade 78 added for Pritam.\n",
      "Name: Pritam, Roll No: S101, Average Grade: 84.33\n"
     ]
    }
   ],
   "source": [
    "# Call the methods\n",
    "student1.add_grade(85)\n",
    "student1.add_grade(90)\n",
    "student1.add_grade(78)\n",
    "student1.show_details()"
   ]
  },
  {
   "cell_type": "markdown",
   "id": "a1772d7b",
   "metadata": {},
   "source": [
    "### Online Shopping Cart\n",
    "✅ Description:\n",
    "\n",
    "Represents a shopping cart where users can add or remove items."
   ]
  },
  {
   "cell_type": "code",
   "execution_count": 43,
   "id": "a7a3d1f4",
   "metadata": {},
   "outputs": [],
   "source": [
    "class ShoppingCart:\n",
    "    def __init__(self, user):\n",
    "        self.user = user\n",
    "        self.items = []  # List to hold items\n",
    "\n",
    "    def add_item(self, item):\n",
    "        self.items.append(item)\n",
    "        print(f\"{item} added to {self.user}'s cart.\")\n",
    "\n",
    "    def remove_item(self, item):\n",
    "        if item in self.items:\n",
    "            self.items.remove(item)\n",
    "            print(f\"{item} removed from cart.\")\n",
    "        else:\n",
    "            print(f\"{item} not found in cart.\")\n",
    "\n",
    "    def view_cart(self):\n",
    "        print(f\"{self.user}'s Cart: {self.items}\")\n",
    "\n",
    "\n"
   ]
  },
  {
   "cell_type": "code",
   "execution_count": 44,
   "id": "a9a3c3cd",
   "metadata": {},
   "outputs": [],
   "source": [
    "# Object Create\n",
    "cart1 = ShoppingCart(\"Edhikaa\")\n"
   ]
  },
  {
   "cell_type": "code",
   "execution_count": 45,
   "id": "6525ecc8",
   "metadata": {},
   "outputs": [
    {
     "name": "stdout",
     "output_type": "stream",
     "text": [
      "Laptop added to Edhikaa's cart.\n",
      "Mouse added to Edhikaa's cart.\n",
      "Edhikaa's Cart: ['Laptop', 'Mouse']\n",
      "Mouse removed from cart.\n",
      "Edhikaa's Cart: ['Laptop']\n"
     ]
    }
   ],
   "source": [
    "# Method Call\n",
    "cart1.add_item(\"Laptop\")\n",
    "cart1.add_item(\"Mouse\")\n",
    "cart1.view_cart()\n",
    "cart1.remove_item(\"Mouse\")\n",
    "cart1.view_cart()"
   ]
  },
  {
   "cell_type": "markdown",
   "id": "1d708c78",
   "metadata": {},
   "source": [
    "### Employee Record System\n",
    "✅ Description:\n",
    "\n",
    "Tracks employee salary and role."
   ]
  },
  {
   "cell_type": "code",
   "execution_count": 46,
   "id": "bace4bde",
   "metadata": {},
   "outputs": [],
   "source": [
    "class Employee:\n",
    "    def __init__(self, name, position, salary):\n",
    "        self.name = name\n",
    "        self.position = position\n",
    "        self.salary = salary\n",
    "\n",
    "    def promote(self, new_position, increment):\n",
    "        self.position = new_position\n",
    "        self.salary += increment\n",
    "        print(f\"{self.name} promoted to {self.position} with new salary: ${self.salary}\")\n",
    "\n",
    "    def display_info(self):\n",
    "        print(f\"Employee: {self.name}, Position: {self.position}, Salary: ${self.salary}\")\n",
    "\n",
    "\n"
   ]
  },
  {
   "cell_type": "code",
   "execution_count": 47,
   "id": "7f6c9523",
   "metadata": {},
   "outputs": [],
   "source": [
    "# Method Create \n",
    "# Usage\n",
    "emp1 = Employee(\"Raj\", \"Developer\", 50000)\n"
   ]
  },
  {
   "cell_type": "code",
   "execution_count": 48,
   "id": "4e90f1d6",
   "metadata": {},
   "outputs": [
    {
     "name": "stdout",
     "output_type": "stream",
     "text": [
      "Employee: Raj, Position: Developer, Salary: $50000\n",
      "Raj promoted to Senior Developer with new salary: $60000\n",
      "Employee: Raj, Position: Senior Developer, Salary: $60000\n"
     ]
    }
   ],
   "source": [
    "# Method Call\n",
    "emp1.display_info()\n",
    "emp1.promote(\"Senior Developer\", 10000)\n",
    "emp1.display_info()"
   ]
  },
  {
   "cell_type": "markdown",
   "id": "0fd02696",
   "metadata": {},
   "source": [
    "### Smartphone Battery Manager\n",
    "✅ Description:\n",
    "\n",
    "Simulates battery usage and charging."
   ]
  },
  {
   "cell_type": "code",
   "execution_count": 49,
   "id": "af86e9dd",
   "metadata": {},
   "outputs": [],
   "source": [
    "class Smartphone:\n",
    "    def __init__(self, model):\n",
    "        self.model = model\n",
    "        self.battery_level = 100  # Full battery\n",
    "\n",
    "    def use(self, percentage):\n",
    "        if self.battery_level >= percentage:\n",
    "            self.battery_level -= percentage\n",
    "            print(f\"Used {percentage}%. Battery now at {self.battery_level}%\")\n",
    "        else:\n",
    "            print(\"Not enough battery.\")\n",
    "\n",
    "    def charge(self):\n",
    "        self.battery_level = 100\n",
    "        print(\"Phone fully charged.\")\n",
    "\n",
    "    def check_battery(self):\n",
    "        print(f\"{self.model} battery at {self.battery_level}%\")\n",
    "\n",
    "\n"
   ]
  },
  {
   "cell_type": "code",
   "execution_count": 50,
   "id": "023af14f",
   "metadata": {},
   "outputs": [],
   "source": [
    "# Object create \n",
    "phone = Smartphone(\"Galaxy S22\")\n"
   ]
  },
  {
   "cell_type": "code",
   "execution_count": 51,
   "id": "8c645909",
   "metadata": {},
   "outputs": [
    {
     "name": "stdout",
     "output_type": "stream",
     "text": [
      "Used 30%. Battery now at 70%\n",
      "Galaxy S22 battery at 70%\n",
      "Not enough battery.\n",
      "Phone fully charged.\n",
      "Galaxy S22 battery at 100%\n"
     ]
    }
   ],
   "source": [
    "# Method Call\n",
    "phone.use(30)\n",
    "phone.check_battery()\n",
    "phone.use(80)\n",
    "phone.charge()\n",
    "phone.check_battery()"
   ]
  },
  {
   "cell_type": "markdown",
   "id": "3478cc66",
   "metadata": {},
   "source": [
    "### Ticket Booking System\n",
    "✅ Description:\n",
    "\n",
    "Books tickets and tracks availability."
   ]
  },
  {
   "cell_type": "code",
   "execution_count": 52,
   "id": "dabe2c3c",
   "metadata": {},
   "outputs": [],
   "source": [
    "class Ticket:\n",
    "    def __init__(self, event, available_seats):\n",
    "        self.event = event\n",
    "        self.available_seats = available_seats\n",
    "\n",
    "    def book_ticket(self, quantity):\n",
    "        if quantity <= self.available_seats:\n",
    "            self.available_seats -= quantity\n",
    "            print(f\"{quantity} tickets booked for {self.event}.\")\n",
    "        else:\n",
    "            print(\"Not enough seats available.\")\n",
    "\n",
    "    def check_availability(self):\n",
    "        print(f\"Seats available for {self.event}: {self.available_seats}\")\n",
    "\n",
    "\n"
   ]
  },
  {
   "cell_type": "code",
   "execution_count": 53,
   "id": "de818b82",
   "metadata": {},
   "outputs": [],
   "source": [
    "# Object create\n",
    "concert = Ticket(\"Rock Concert\", 5)\n"
   ]
  },
  {
   "cell_type": "code",
   "execution_count": 54,
   "id": "d0ca3635",
   "metadata": {},
   "outputs": [
    {
     "name": "stdout",
     "output_type": "stream",
     "text": [
      "Seats available for Rock Concert: 5\n",
      "3 tickets booked for Rock Concert.\n",
      "Not enough seats available.\n",
      "Seats available for Rock Concert: 2\n"
     ]
    }
   ],
   "source": [
    "# Method Call\n",
    "concert.check_availability()\n",
    "concert.book_ticket(3)\n",
    "concert.book_ticket(3)\n",
    "concert.check_availability()"
   ]
  }
 ],
 "metadata": {
  "kernelspec": {
   "display_name": "Python 3",
   "language": "python",
   "name": "python3"
  },
  "language_info": {
   "codemirror_mode": {
    "name": "ipython",
    "version": 3
   },
   "file_extension": ".py",
   "mimetype": "text/x-python",
   "name": "python",
   "nbconvert_exporter": "python",
   "pygments_lexer": "ipython3",
   "version": "3.13.7"
  }
 },
 "nbformat": 4,
 "nbformat_minor": 5
}
