{
 "cells": [
  {
   "cell_type": "markdown",
   "id": "0a13238a",
   "metadata": {},
   "source": [
    "# Example 1: E-commerce Order Management\n",
    "\n",
    "## Scenario: We manage an e-commerce platform. After shipping, we need to remove shipped orders from the pending list."
   ]
  },
  {
   "cell_type": "code",
   "execution_count": 1,
   "id": "4ac50b00",
   "metadata": {},
   "outputs": [
    {
     "name": "stdout",
     "output_type": "stream",
     "text": [
      "Remaining pending orders: ['order_101', 'order_103']\n"
     ]
    }
   ],
   "source": [
    "# List of pending orders\n",
    "pending_orders = ['order_101', 'order_102', 'order_103', 'order_104']\n",
    "\n",
    "# Orders that have been shipped\n",
    "shipped_orders = ['order_102', 'order_104']\n",
    "\n",
    "# Remove shipped orders from the pending list\n",
    "for order in shipped_orders:\n",
    "    if order in pending_orders:\n",
    "        pending_orders.remove(order)\n",
    "\n",
    "print(\"Remaining pending orders:\", pending_orders)\n"
   ]
  },
  {
   "cell_type": "markdown",
   "id": "6fd9301c",
   "metadata": {},
   "source": []
  },
  {
   "cell_type": "markdown",
   "id": "b0eea94a",
   "metadata": {},
   "source": [
    "# Example 2: Cleaning Up Sensor Data\n",
    "\n",
    "## Scenario: A weather station collects temperature readings, but some are missing (None). Clean the list."
   ]
  },
  {
   "cell_type": "markdown",
   "id": "155bc8fe",
   "metadata": {},
   "source": []
  },
  {
   "cell_type": "code",
   "execution_count": 6,
   "id": "8e419ab4",
   "metadata": {},
   "outputs": [
    {
     "name": "stdout",
     "output_type": "stream",
     "text": [
      "Cleaned temperature readings: [22.4, 21.9, 23.0, 22.1]\n"
     ]
    }
   ],
   "source": [
    "# Raw temperature data with some None values\n",
    "temperature_readings = [22.4, 21.9, None, 23.0, None, 22.1]\n",
    "\n",
    "# Remove None values\n",
    "# Used List comprehensions\n",
    "cleaned_readings = [temp for temp in temperature_readings if temp is not None]\n",
    "\n",
    "print(\"Cleaned temperature readings:\", cleaned_readings)\n"
   ]
  },
  {
   "cell_type": "markdown",
   "id": "7a95d73b",
   "metadata": {},
   "source": [
    "# Example 3: Student Attendance Tracker\n",
    "\n",
    "## Scenario: Track students who attended class and calculate attendance percentage."
   ]
  },
  {
   "cell_type": "code",
   "execution_count": 10,
   "id": "5ee9c9d0",
   "metadata": {},
   "outputs": [
    {
     "name": "stdout",
     "output_type": "stream",
     "text": [
      "40.0\n",
      "Attendance today: 40.00%\n",
      "Attendance today: 40.0%\n"
     ]
    }
   ],
   "source": [
    "# List of all enrolled students\n",
    "all_students = ['Pritam', 'Swagata', 'Edhikaa', 'Supu', 'Gola']\n",
    "\n",
    "# Students who attended today\n",
    "present_students = ['Gola', 'Supu']\n",
    "\n",
    "# Calculate attendance percentage\n",
    "attendance_percentage = (len(present_students) / len(all_students)) * 100\n",
    "print(attendance_percentage)\n",
    "\n",
    "print(f\"Attendance today: {attendance_percentage:.2f}%\")\n",
    "print(f\"Attendance today: {attendance_percentage:.1f}%\")\n"
   ]
  },
  {
   "cell_type": "markdown",
   "id": "a2935db1",
   "metadata": {},
   "source": [
    "# Example 4: Grocery Inventory Restocking\n",
    "\n",
    "## Scenario: A store tracks low-stock items and needs to generate a restock list."
   ]
  },
  {
   "cell_type": "code",
   "execution_count": 11,
   "id": "060cf829",
   "metadata": {},
   "outputs": [
    {
     "name": "stdout",
     "output_type": "stream",
     "text": [
      "Items to restock: ['Bananas', 'Oranges', 'Bread']\n"
     ]
    }
   ],
   "source": [
    "# Current stock levels\n",
    "inventory = {\n",
    "    'Apples': 3,\n",
    "    'Bananas': 0,\n",
    "    'Oranges': 1,\n",
    "    'Milk': 5,\n",
    "    'Bread': 0\n",
    "}\n",
    "\n",
    "# Restock threshold: if stock is 2 or less\n",
    "restock_list = [item for item, qty in inventory.items() if qty <= 2]\n",
    "\n",
    "print(\"Items to restock:\", restock_list)\n"
   ]
  },
  {
   "cell_type": "markdown",
   "id": "aadaaf99",
   "metadata": {},
   "source": [
    "# Example 5: Chat Filtering (Profanity Removal)\n",
    "\n",
    "## Scenario: A chat app needs to filter out messages containing bad words."
   ]
  },
  {
   "cell_type": "code",
   "execution_count": 12,
   "id": "a9dbf16d",
   "metadata": {},
   "outputs": [
    {
     "name": "stdout",
     "output_type": "stream",
     "text": [
      "Filtered messages:\n",
      "- Hey, how are you?\n",
      "- Let's meet tomorrow.\n"
     ]
    }
   ],
   "source": [
    "# Sample user messages\n",
    "chat_messages = [\n",
    "    \"Hey, how are you?\",\n",
    "    \"This is stupid!\",\n",
    "    \"Let's meet tomorrow.\",\n",
    "    \"What a dumb idea!\"\n",
    "]\n",
    "\n",
    "# List of banned words\n",
    "banned_words = ['stupid', 'dumb']\n",
    "\n",
    "# Filter out messages with banned words\n",
    "clean_messages = [\n",
    "    msg for msg in chat_messages\n",
    "    if not any(bad_word in msg.lower() for bad_word in banned_words)\n",
    "]\n",
    "\n",
    "print(\"Filtered messages:\")\n",
    "for msg in clean_messages:\n",
    "    print(\"-\", msg)\n"
   ]
  },
  {
   "cell_type": "markdown",
   "id": "65268ad1",
   "metadata": {},
   "source": [
    "# Example 6: Finance — Transaction Filtering\n",
    "\n",
    "## Scenario: A bank wants to flag high-value transactions (e.g., over $10,000) for manual review."
   ]
  },
  {
   "cell_type": "code",
   "execution_count": 13,
   "id": "7549b0af",
   "metadata": {},
   "outputs": [
    {
     "name": "stdout",
     "output_type": "stream",
     "text": [
      "Transactions requiring review: [12450, 23000, 10500]\n"
     ]
    }
   ],
   "source": [
    "# List of transaction amounts in USD\n",
    "transactions = [250, 12450, 9800, 23000, 700, 10500]\n",
    "\n",
    "# Flag transactions > $10,000\n",
    "flagged_transactions = [amt for amt in transactions if amt > 10000]\n",
    "\n",
    "print(\"Transactions requiring review:\", flagged_transactions)\n"
   ]
  },
  {
   "cell_type": "markdown",
   "id": "2af2125f",
   "metadata": {},
   "source": [
    "# Example 7: Healthcare — Patient Temperature Monitor\n",
    "\n",
    "## Scenario: A hospital monitors patient temperatures and needs to find those with fever (above 100.4°F)."
   ]
  },
  {
   "cell_type": "code",
   "execution_count": 14,
   "id": "8d8721ef",
   "metadata": {},
   "outputs": [
    {
     "name": "stdout",
     "output_type": "stream",
     "text": [
      "Patients with fever: [101.2, 102.5]\n"
     ]
    }
   ],
   "source": [
    "# Patient temperatures\n",
    "patient_temps = [98.6, 101.2, 99.1, 102.5, 100.1, 97.9]\n",
    "\n",
    "# Identify patients with fever\n",
    "fever_cases = [temp for temp in patient_temps if temp > 100.4]\n",
    "\n",
    "print(\"Patients with fever:\", fever_cases)\n"
   ]
  },
  {
   "cell_type": "markdown",
   "id": "16c367a5",
   "metadata": {},
   "source": [
    "# Example 8: Education — Grading System\n",
    "\n",
    "## Scenario: A teacher wants to convert student scores to grades and store them."
   ]
  },
  {
   "cell_type": "code",
   "execution_count": 15,
   "id": "9574452e",
   "metadata": {},
   "outputs": [
    {
     "name": "stdout",
     "output_type": "stream",
     "text": [
      "Grades: ['B', 'A', 'C', 'D', 'F']\n"
     ]
    }
   ],
   "source": [
    "# Student scores\n",
    "scores = [85, 92, 78, 66, 59]\n",
    "\n",
    "# Convert scores to grades\n",
    "grades = []\n",
    "for score in scores:\n",
    "    if score >= 90:\n",
    "        grades.append(\"A\")\n",
    "    elif score >= 80:\n",
    "        grades.append(\"B\")\n",
    "    elif score >= 70:\n",
    "        grades.append(\"C\")\n",
    "    elif score >= 60:\n",
    "        grades.append(\"D\")\n",
    "    else:\n",
    "        grades.append(\"F\")\n",
    "\n",
    "print(\"Grades:\", grades)\n"
   ]
  },
  {
   "cell_type": "markdown",
   "id": "9befb198",
   "metadata": {},
   "source": [
    "# Example 9: Social Media — Hashtag Extraction\n",
    "\n",
    "## Scenario: A social media app needs to extract all hashtags from user posts."
   ]
  },
  {
   "cell_type": "code",
   "execution_count": 16,
   "id": "219d669e",
   "metadata": {},
   "outputs": [
    {
     "name": "stdout",
     "output_type": "stream",
     "text": [
      "All extracted hashtags: ['#sunset', '#beach', '#fitness', '#Python', '#coding']\n"
     ]
    }
   ],
   "source": [
    "# User posts\n",
    "posts = [\n",
    "    \"Loving the #sunset at the #beach\",\n",
    "    \"Working on my #fitness goals\",\n",
    "    \"No hashtags here\",\n",
    "    \"#Python is awesome! #coding\"\n",
    "]\n",
    "\n",
    "# Extract hashtags\n",
    "hashtags = []\n",
    "for post in posts:\n",
    "    words = post.split()\n",
    "    hashtags.extend([word for word in words if word.startswith(\"#\")])\n",
    "\n",
    "print(\"All extracted hashtags:\", hashtags)\n"
   ]
  },
  {
   "cell_type": "markdown",
   "id": "ab054872",
   "metadata": {},
   "source": [
    "# Example 10: Travel — Flight Seat Booking\n",
    "\n",
    "# Scenario: A flight booking system tracks seat availability and assigns the next available seat."
   ]
  },
  {
   "cell_type": "code",
   "execution_count": 19,
   "id": "074b6bd9",
   "metadata": {},
   "outputs": [
    {
     "name": "stdout",
     "output_type": "stream",
     "text": [
      "Seat 5 has been booked.\n",
      "Updated seat status: [False, False, False, False, False, False, True]\n"
     ]
    }
   ],
   "source": [
    "# List representing seat availability (True = available, False = booked)\n",
    "seats = [False, False, False, False, True, False, True]\n",
    "\n",
    "# Find and assign the first available seat\n",
    "for i, seat in enumerate(seats):\n",
    "    if seat:\n",
    "        seats[i] = False  # Mark as booked\n",
    "        print(f\"Seat {i + 1} has been booked.\")\n",
    "        break\n",
    "else:\n",
    "    print(\"No available seats.\")\n",
    "\n",
    "print(\"Updated seat status:\", seats)\n"
   ]
  },
  {
   "cell_type": "markdown",
   "id": "23f751a0",
   "metadata": {},
   "source": [
    "# Example 11: Logistics — Package Delivery Status\n",
    "\n",
    "## Scenario: A delivery company tracks packages. You need to list all packages still “In Transit”."
   ]
  },
  {
   "cell_type": "code",
   "execution_count": 20,
   "id": "6ee66add",
   "metadata": {},
   "outputs": [
    {
     "name": "stdout",
     "output_type": "stream",
     "text": [
      "Packages still in transit: ['PKG002', 'PKG004']\n"
     ]
    }
   ],
   "source": [
    "# List of package statuses\n",
    "packages = [\n",
    "    {'id': 'PKG001', 'status': 'Delivered'},\n",
    "    {'id': 'PKG002', 'status': 'In Transit'},\n",
    "    {'id': 'PKG003', 'status': 'Delayed'},\n",
    "    {'id': 'PKG004', 'status': 'In Transit'}\n",
    "]\n",
    "\n",
    "# Get packages that are still in transit\n",
    "in_transit = [pkg['id'] for pkg in packages if pkg['status'] == 'In Transit']\n",
    "\n",
    "print(\"Packages still in transit:\", in_transit)\n"
   ]
  },
  {
   "cell_type": "markdown",
   "id": "b4c2aedf",
   "metadata": {},
   "source": [
    "# Example 12: HR System — Employee Probation Filtering\n",
    "\n",
    "## Scenario: HR needs to find employees who are still on probation (less than 6 months of joining)."
   ]
  },
  {
   "cell_type": "code",
   "execution_count": 21,
   "id": "7dbce583",
   "metadata": {},
   "outputs": [
    {
     "name": "stdout",
     "output_type": "stream",
     "text": [
      "Employees on probation: ['Alice', 'Charlie']\n"
     ]
    }
   ],
   "source": [
    "from datetime import datetime, timedelta\n",
    "\n",
    "# Today's date\n",
    "today = datetime.today()\n",
    "\n",
    "# Sample employee join dates\n",
    "employees = [\n",
    "    {'name': 'Alice', 'joined_on': datetime(2025, 6, 1)},\n",
    "    {'name': 'Bob', 'joined_on': datetime(2024, 12, 15)},\n",
    "    {'name': 'Charlie', 'joined_on': datetime(2025, 8, 10)}\n",
    "]\n",
    "\n",
    "# Find employees on probation (joined within last 6 months)\n",
    "on_probation = [\n",
    "    emp['name'] for emp in employees\n",
    "    if (today - emp['joined_on']).days < 180\n",
    "]\n",
    "\n",
    "print(\"Employees on probation:\", on_probation)\n"
   ]
  },
  {
   "cell_type": "markdown",
   "id": "f20a23fc",
   "metadata": {},
   "source": [
    "# Example 13: IoT — Temperature Sensor Alert System\n",
    "\n",
    "## Scenario: A smart building uses sensors to monitor temperatures. Raise an alert for rooms above 28°C."
   ]
  },
  {
   "cell_type": "code",
   "execution_count": 22,
   "id": "e10411ff",
   "metadata": {},
   "outputs": [
    {
     "name": "stdout",
     "output_type": "stream",
     "text": [
      "Rooms with high temperature alert: ['Server Room', 'Conference Room']\n"
     ]
    }
   ],
   "source": [
    "# Room temperature readings in Celsius\n",
    "room_temps = [\n",
    "    {'room': 'Server Room', 'temp': 29.5},\n",
    "    {'room': 'Lobby', 'temp': 24.3},\n",
    "    {'room': 'Conference Room', 'temp': 30.1},\n",
    "    {'room': 'Office 1', 'temp': 26.7}\n",
    "]\n",
    "\n",
    "# List of rooms where temperature exceeds 28°C\n",
    "hot_rooms = [r['room'] for r in room_temps if r['temp'] > 28.0]\n",
    "\n",
    "print(\"Rooms with high temperature alert:\", hot_rooms)\n"
   ]
  },
  {
   "cell_type": "markdown",
   "id": "6e195041",
   "metadata": {},
   "source": [
    "# Example 14: Restaurant — Menu Filtering for Dietary Preference\n",
    "\n",
    "# Scenario: A customer selects “Vegetarian” filter. Show only vegetarian items from the menu."
   ]
  },
  {
   "cell_type": "code",
   "execution_count": 23,
   "id": "b02d8a07",
   "metadata": {},
   "outputs": [
    {
     "name": "stdout",
     "output_type": "stream",
     "text": [
      "Vegetarian options: ['Veggie Pizza', 'Grilled Paneer']\n"
     ]
    }
   ],
   "source": [
    "# Restaurant menu\n",
    "menu = [\n",
    "    {'item': 'Chicken Burger', 'type': 'Non-Veg'},\n",
    "    {'item': 'Veggie Pizza', 'type': 'Vegetarian'},\n",
    "    {'item': 'Grilled Paneer', 'type': 'Vegetarian'},\n",
    "    {'item': 'Fish Curry', 'type': 'Non-Veg'}\n",
    "]\n",
    "\n",
    "# Filter vegetarian items\n",
    "veg_items = [dish['item'] for dish in menu if dish['type'] == 'Vegetarian']\n",
    "\n",
    "print(\"Vegetarian options:\", veg_items)\n"
   ]
  },
  {
   "cell_type": "markdown",
   "id": "94b47ba7",
   "metadata": {},
   "source": [
    "# Example 15: Cybersecurity — IP Blacklist Checker\n",
    "\n",
    "## Scenario: A firewall checks incoming IPs against a blacklist to block unauthorized access."
   ]
  },
  {
   "cell_type": "code",
   "execution_count": 24,
   "id": "9e36fbc7",
   "metadata": {},
   "outputs": [
    {
     "name": "stdout",
     "output_type": "stream",
     "text": [
      "Blocked IPs: ['10.0.0.23', '172.16.0.5']\n"
     ]
    }
   ],
   "source": [
    "# Incoming IP addresses\n",
    "incoming_ips = [\n",
    "    '192.168.1.101',\n",
    "    '10.0.0.23',\n",
    "    '172.16.0.5',\n",
    "    '192.168.1.105'\n",
    "]\n",
    "\n",
    "# Blacklisted IPs\n",
    "blacklist = ['10.0.0.23', '172.16.0.5']\n",
    "\n",
    "# Identify blocked IPs\n",
    "blocked_ips = [ip for ip in incoming_ips if ip in blacklist]\n",
    "\n",
    "print(\"Blocked IPs:\", blocked_ips)\n"
   ]
  },
  {
   "cell_type": "markdown",
   "id": "b50096f0",
   "metadata": {},
   "source": [
    "# Example 16: Banking — Detect Multiple Failed Login Attempts\n",
    "\n",
    "## Scenario: A bank needs to detect users who failed login attempts more than 3 times."
   ]
  },
  {
   "cell_type": "code",
   "execution_count": 25,
   "id": "74b709c8",
   "metadata": {},
   "outputs": [
    {
     "name": "stdout",
     "output_type": "stream",
     "text": [
      "Users with suspicious activity: ['john_doe']\n"
     ]
    }
   ],
   "source": [
    "# Login attempt logs\n",
    "login_attempts = [\n",
    "    {'user': 'john_doe', 'status': 'fail'},\n",
    "    {'user': 'john_doe', 'status': 'fail'},\n",
    "    {'user': 'jane_smith', 'status': 'success'},\n",
    "    {'user': 'john_doe', 'status': 'fail'},\n",
    "    {'user': 'john_doe', 'status': 'fail'},\n",
    "    {'user': 'alice', 'status': 'fail'},\n",
    "    {'user': 'alice', 'status': 'fail'}\n",
    "]\n",
    "\n",
    "# Count failed attempts per user\n",
    "fail_counts = {}\n",
    "for attempt in login_attempts:\n",
    "    if attempt['status'] == 'fail':\n",
    "        user = attempt['user']\n",
    "        fail_counts[user] = fail_counts.get(user, 0) + 1\n",
    "\n",
    "# Flag users with >3 failures\n",
    "flagged_users = [user for user, count in fail_counts.items() if count > 3]\n",
    "\n",
    "print(\"Users with suspicious activity:\", flagged_users)\n"
   ]
  },
  {
   "cell_type": "markdown",
   "id": "5b293850",
   "metadata": {},
   "source": [
    "# Example 17: Event Management — RSVP System\n",
    "\n",
    "## Scenario: For a corporate event, identify guests who have not responded yet."
   ]
  },
  {
   "cell_type": "code",
   "execution_count": 26,
   "id": "e6cd65e8",
   "metadata": {},
   "outputs": [
    {
     "name": "stdout",
     "output_type": "stream",
     "text": [
      "Guests with no RSVP: ['Bob', 'Eva']\n"
     ]
    }
   ],
   "source": [
    "# List of all invited guests\n",
    "invited = ['Alice', 'Bob', 'Charlie', 'David', 'Eva']\n",
    "\n",
    "# Guests who have responded\n",
    "rsvp_yes = ['Alice', 'David']\n",
    "rsvp_no = ['Charlie']\n",
    "\n",
    "# Identify guests who haven’t responded\n",
    "responded = rsvp_yes + rsvp_no\n",
    "no_response = [guest for guest in invited if guest not in responded]\n",
    "\n",
    "print(\"Guests with no RSVP:\", no_response)\n"
   ]
  },
  {
   "cell_type": "markdown",
   "id": "12344dd4",
   "metadata": {},
   "source": [
    "# Example 18: Manufacturing — Quality Control Flagging\n",
    "\n",
    "# Scenario: A factory records batch quality scores (out of 100). Flag all batches below 70 for recheck."
   ]
  },
  {
   "cell_type": "code",
   "execution_count": 30,
   "id": "ca432388",
   "metadata": {},
   "outputs": [
    {
     "name": "stdout",
     "output_type": "stream",
     "text": [
      "Batches to recheck: ['B002', 'B004']\n"
     ]
    }
   ],
   "source": [
    "# Batch quality scores\n",
    "batches = [\n",
    "    {'batch_id': 'B001', 'score': 85},\n",
    "    {'batch_id': 'B002', 'score': 68},\n",
    "    {'batch_id': 'B003', 'score': 72},\n",
    "    {'batch_id': 'B004', 'score': 55}\n",
    "]\n",
    "\n",
    "# Identify low-scoring batches\n",
    "bad_batches = [b['batch_id'] for b in batches if b['score'] < 70]\n",
    "\n",
    "print(\"Batches to recheck:\", bad_batches)\n"
   ]
  },
  {
   "cell_type": "markdown",
   "id": "d7494415",
   "metadata": {},
   "source": [
    "# Example 19: Retail — Cart Price Calculation\n",
    "\n",
    "# Scenario: A retail website calculates the total price of a user's cart including discounts."
   ]
  },
  {
   "cell_type": "code",
   "execution_count": 31,
   "id": "b35c5d3a",
   "metadata": {},
   "outputs": [
    {
     "name": "stdout",
     "output_type": "stream",
     "text": [
      "Total amount to pay: $185\n"
     ]
    }
   ],
   "source": [
    "# Cart items\n",
    "cart = [\n",
    "    {'item': 'Shoes', 'price': 75, 'discount': 10},  # $10 off\n",
    "    {'item': 'T-Shirt', 'price': 25, 'discount': 5},\n",
    "    {'item': 'Watch', 'price': 120, 'discount': 20}\n",
    "]\n",
    "\n",
    "# Calculate total payable amount\n",
    "total = sum(item['price'] - item['discount'] for item in cart)\n",
    "\n",
    "print(f\"Total amount to pay: ${total}\")\n"
   ]
  },
  {
   "cell_type": "markdown",
   "id": "8de80600",
   "metadata": {},
   "source": [
    "# Example 20: Content Moderation — Profanity Filter in Comments\n",
    "\n",
    "# Scenario: A blog platform needs to automatically detect comments containing offensive words."
   ]
  },
  {
   "cell_type": "code",
   "execution_count": 32,
   "id": "01deea26",
   "metadata": {},
   "outputs": [
    {
     "name": "stdout",
     "output_type": "stream",
     "text": [
      "Flagged comments for review:\n",
      "- You're an idiot!\n",
      "- What a dumb post.\n"
     ]
    }
   ],
   "source": [
    "# User comments\n",
    "comments = [\n",
    "    \"This article is great!\",\n",
    "    \"You're an idiot!\",\n",
    "    \"Amazing write-up, thanks.\",\n",
    "    \"What a dumb post.\",\n",
    "    \"Nice content, very helpful.\"\n",
    "]\n",
    "\n",
    "# List of offensive words\n",
    "offensive_words = ['idiot', 'dumb']\n",
    "\n",
    "# Flag comments containing offensive words\n",
    "flagged_comments = [\n",
    "    comment for comment in comments\n",
    "    if any(bad in comment.lower() for bad in offensive_words)\n",
    "]\n",
    "\n",
    "print(\"Flagged comments for review:\")\n",
    "for c in flagged_comments:\n",
    "    print(\"-\", c)\n"
   ]
  }
 ],
 "metadata": {
  "kernelspec": {
   "display_name": "Python 3",
   "language": "python",
   "name": "python3"
  },
  "language_info": {
   "codemirror_mode": {
    "name": "ipython",
    "version": 3
   },
   "file_extension": ".py",
   "mimetype": "text/x-python",
   "name": "python",
   "nbconvert_exporter": "python",
   "pygments_lexer": "ipython3",
   "version": "3.13.7"
  }
 },
 "nbformat": 4,
 "nbformat_minor": 5
}
